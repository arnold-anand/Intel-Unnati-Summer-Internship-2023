{
  "nbformat": 4,
  "nbformat_minor": 0,
  "metadata": {
    "colab": {
      "provenance": []
    },
    "kernelspec": {
      "name": "python3",
      "display_name": "Python 3"
    },
    "language_info": {
      "name": "python"
    }
  },
  "cells": [
    {
      "cell_type": "code",
      "source": [
        "from google.colab import drive\n",
        "drive.mount('/content/drive')"
      ],
      "metadata": {
        "colab": {
          "base_uri": "https://localhost:8080/"
        },
        "id": "dAoIayvfwdjb",
        "outputId": "6fc7a950-1621-4733-ffd0-d1a5adac4a6a"
      },
      "execution_count": 1,
      "outputs": [
        {
          "output_type": "stream",
          "name": "stdout",
          "text": [
            "Drive already mounted at /content/drive; to attempt to forcibly remount, call drive.mount(\"/content/drive\", force_remount=True).\n"
          ]
        }
      ]
    },
    {
      "cell_type": "code",
      "source": [
        "import pandas as pd\n",
        "import numpy as np\n",
        "import re"
      ],
      "metadata": {
        "id": "_mSIkfHgJUmN"
      },
      "execution_count": 2,
      "outputs": []
    },
    {
      "cell_type": "code",
      "source": [
        "df = pd.read_csv(\"/content/drive/MyDrive/mobile_data.csv\")\n",
        "df"
      ],
      "metadata": {
        "id": "_satHPVAMxg6",
        "colab": {
          "base_uri": "https://localhost:8080/",
          "height": 1000
        },
        "outputId": "d4d500e4-c6ff-4d4c-a82e-1b9ae23fd86f"
      },
      "execution_count": 3,
      "outputs": [
        {
          "output_type": "execute_result",
          "data": {
            "text/plain": [
              "         Brand                       Name   RAM  \\\n",
              "0      OnePlus  OnePlus Nord CE 3 Lite 5G  8 GB   \n",
              "1       realme      realme 10 Pro Plus 5G  6 GB   \n",
              "2       realme           realme Narzo N53  4 GB   \n",
              "3      OnePlus                OnePlus 11R  8 GB   \n",
              "4         POCO                    POCO F5  8 GB   \n",
              "...        ...                        ...   ...   \n",
              "1371       BLU                BLU G72 Max  4 GB   \n",
              "1372  Motorola           Motorola Razr 40  8 GB   \n",
              "1373     Nubia                   Nubia N5  4 GB   \n",
              "1374    Doogee                 Doogee S51  4 GB   \n",
              "1375       TCL                    TCL 408  4 GB   \n",
              "\n",
              "                             Processor   Battery           Rear Camera  \\\n",
              "0              Qualcomm Snapdragon 695  5000 mAh  108 MP + 2 MP + 2 MP   \n",
              "1      MediaTek Dimensity 1080 MT6877V  5000 mAh  108 MP + 8 MP + 2 MP   \n",
              "2                          Unisoc T612  5000 mAh                 50 MP   \n",
              "3     Qualcomm Snapdragon 8 Plus Gen 1  5000 mAh   50 MP + 8 MP + 2 MP   \n",
              "4     Qualcomm Snapdragon 7 Plus Gen 2  5000 mAh   64 MP + 8 MP + 2 MP   \n",
              "...                                ...       ...                   ...   \n",
              "1371         MediaTek Helio G37 MT6765  5000 mAh                 13 MP   \n",
              "1372       Qualcomm Snapdragon 7 Gen 1  4200 mAh         64 MP + 13 MP   \n",
              "1373                       Unisoc T700  5000 mAh                 50 MP   \n",
              "1374                MediaTek Helio G25  5180 mAh          12 MP + 2 MP   \n",
              "1375                MediaTek Helio A25  5000 mAh          50 MP + 2 MP   \n",
              "\n",
              "     Front Camera                 Display                    Launch Date  \\\n",
              "0           16 MP  6.72 inches (17.07 cm)      April 11, 2023 (Official)   \n",
              "1           16 MP   6.7 inches (17.02 cm)    December 8, 2022 (Official)   \n",
              "2            8 MP  6.74 inches (17.12 cm)        May 22, 2023 (Official)   \n",
              "3           16 MP  6.74 inches (17.12 cm)   February 21, 2023 (Official)   \n",
              "4           16 MP  6.67 inches (16.94 cm)        May 10, 2023 (Official)   \n",
              "...           ...                     ...                            ...   \n",
              "1371         8 MP   6.8 inches (17.27 cm)       June 10, 2023 (Expected)   \n",
              "1372        32 MP   6.9 inches (17.53 cm)       June 30, 2023 (Expected)   \n",
              "1373        13 MP  6.51 inches (16.54 cm)  September 20, 2023 (Expected)   \n",
              "1374         8 MP   6.0 inches (15.24 cm)       July 28, 2023 (Expected)   \n",
              "1375         8 MP   6.6 inches (16.76 cm)       June 27, 2023 (Expected)   \n",
              "\n",
              "     Operating System  ... USB Type-C  \\\n",
              "0         Android v13  ...        Yes   \n",
              "1         Android v13  ...        Yes   \n",
              "2         Android v13  ...        Yes   \n",
              "3         Android v13  ...        Yes   \n",
              "4         Android v13  ...        Yes   \n",
              "...               ...  ...        ...   \n",
              "1371      Android v12  ...        Yes   \n",
              "1372      Android v13  ...        Yes   \n",
              "1373      Android v13  ...        Yes   \n",
              "1374      Android v12  ...        Yes   \n",
              "1375      Android v12  ...        Yes   \n",
              "\n",
              "                                        Internal Memory  Expandable Memory  \\\n",
              "0     128 GB\\n                                      ...    Yes, Up to 1 TB   \n",
              "1     128 GB\\n                                      ...                 No   \n",
              "2     64 GB\\n                                       ...    Yes, Up to 2 TB   \n",
              "3     128 GB\\n                                      ...                 No   \n",
              "4                                                256 GB                 No   \n",
              "...                                                 ...                ...   \n",
              "1371  128 GB\\n                                      ...  Yes, Up to 256 GB   \n",
              "1372                                             256 GB                 No   \n",
              "1373  128 GB\\n                                      ...                NaN   \n",
              "1374  64 GB\\n                                       ...  Yes, Up to 512 GB   \n",
              "1375  64 GB\\n                                       ...  Yes, Up to 512 GB   \n",
              "\n",
              "                                               Wi-Fi  Bluetooth  \\\n",
              "0        Yes, Wi-Fi 5 (802.11 a/b/g/n/ac) 5GHz, MIMO  Yes, v5.1   \n",
              "1     Yes, Wi-Fi 6 (802.11 a/b/g/n/ac/ax) 5GHz, MIMO  Yes, v5.2   \n",
              "2              Yes, Wi-Fi 5 (802.11 a/b/g/n/ac) 5GHz  Yes, v5.0   \n",
              "3     Yes, Wi-Fi 6 (802.11 a/b/g/n/ac/ax) 5GHz, MIMO  Yes, v5.3   \n",
              "4           Yes, Wi-Fi 6 (802.11 a/b/g/n/ac/ax) 5GHz  Yes, v5.3   \n",
              "...                                              ...        ...   \n",
              "1371                Yes, Wi-Fi 5 (802.11 a/b/g/n/ac)  Yes, v5.1   \n",
              "1372  Yes, Wi-Fi 6E (802.11 a/b/g/n/ac/ax) 5GHz 6GHz  Yes, v5.3   \n",
              "1373                     Yes, Wi-Fi 4 (802.11 b/g/n)        Yes   \n",
              "1374                     Yes, Wi-Fi 4 (802.11 b/g/n)  Yes, v5.0   \n",
              "1375           Yes, Wi-Fi 5 (802.11 a/b/g/n/ac) 5GHz  Yes, v5.1   \n",
              "\n",
              "                          GPS  Audio Jack                    SIM Slot(s)  \\\n",
              "0     Yes with A-GPS, Glonass      3.5 mm              Dual SIM, GSM+GSM   \n",
              "1     Yes with A-GPS, Glonass  USB Type-C              Dual SIM, GSM+GSM   \n",
              "2     Yes with A-GPS, Glonass      3.5 mm              Dual SIM, GSM+GSM   \n",
              "3     Yes with A-GPS, Glonass  USB Type-C              Dual SIM, GSM+GSM   \n",
              "4     Yes with A-GPS, Glonass      3.5 mm  Dual SIM, GSM+GSM, Dual VoLTE   \n",
              "...                       ...         ...                            ...   \n",
              "1371           Yes with A-GPS      3.5 mm              Dual SIM, GSM+GSM   \n",
              "1372  Yes with A-GPS, Glonass  USB Type-C              Dual SIM, GSM+GSM   \n",
              "1373           Yes with A-GPS      3.5 mm              Dual SIM, GSM+GSM   \n",
              "1374  Yes with A-GPS, Glonass      3.5 mm              Dual SIM, GSM+GSM   \n",
              "1375  Yes with A-GPS, Glonass      3.5 mm              Dual SIM, GSM+GSM   \n",
              "\n",
              "     Fingerprint Sensor          Price  \n",
              "0                   Yes  Rs. 19,999.00  \n",
              "1                   Yes  Rs. 24,818.00  \n",
              "2                   Yes   Rs. 8,999.00  \n",
              "3                   Yes  Rs. 39,999.00  \n",
              "4                   Yes  Rs. 29,999.00  \n",
              "...                 ...            ...  \n",
              "1371                Yes            NaN  \n",
              "1372                Yes            NaN  \n",
              "1373                 No            NaN  \n",
              "1374                Yes            NaN  \n",
              "1375                Yes            NaN  \n",
              "\n",
              "[1376 rows x 30 columns]"
            ],
            "text/html": [
              "\n",
              "  <div id=\"df-dc715961-b141-434e-b354-9cc86c6ac7bb\">\n",
              "    <div class=\"colab-df-container\">\n",
              "      <div>\n",
              "<style scoped>\n",
              "    .dataframe tbody tr th:only-of-type {\n",
              "        vertical-align: middle;\n",
              "    }\n",
              "\n",
              "    .dataframe tbody tr th {\n",
              "        vertical-align: top;\n",
              "    }\n",
              "\n",
              "    .dataframe thead th {\n",
              "        text-align: right;\n",
              "    }\n",
              "</style>\n",
              "<table border=\"1\" class=\"dataframe\">\n",
              "  <thead>\n",
              "    <tr style=\"text-align: right;\">\n",
              "      <th></th>\n",
              "      <th>Brand</th>\n",
              "      <th>Name</th>\n",
              "      <th>RAM</th>\n",
              "      <th>Processor</th>\n",
              "      <th>Battery</th>\n",
              "      <th>Rear Camera</th>\n",
              "      <th>Front Camera</th>\n",
              "      <th>Display</th>\n",
              "      <th>Launch Date</th>\n",
              "      <th>Operating System</th>\n",
              "      <th>...</th>\n",
              "      <th>USB Type-C</th>\n",
              "      <th>Internal Memory</th>\n",
              "      <th>Expandable Memory</th>\n",
              "      <th>Wi-Fi</th>\n",
              "      <th>Bluetooth</th>\n",
              "      <th>GPS</th>\n",
              "      <th>Audio Jack</th>\n",
              "      <th>SIM Slot(s)</th>\n",
              "      <th>Fingerprint Sensor</th>\n",
              "      <th>Price</th>\n",
              "    </tr>\n",
              "  </thead>\n",
              "  <tbody>\n",
              "    <tr>\n",
              "      <th>0</th>\n",
              "      <td>OnePlus</td>\n",
              "      <td>OnePlus Nord CE 3 Lite 5G</td>\n",
              "      <td>8 GB</td>\n",
              "      <td>Qualcomm Snapdragon 695</td>\n",
              "      <td>5000 mAh</td>\n",
              "      <td>108 MP + 2 MP + 2 MP</td>\n",
              "      <td>16 MP</td>\n",
              "      <td>6.72 inches (17.07 cm)</td>\n",
              "      <td>April 11, 2023 (Official)</td>\n",
              "      <td>Android v13</td>\n",
              "      <td>...</td>\n",
              "      <td>Yes</td>\n",
              "      <td>128 GB\\n                                      ...</td>\n",
              "      <td>Yes, Up to 1 TB</td>\n",
              "      <td>Yes, Wi-Fi 5 (802.11 a/b/g/n/ac) 5GHz, MIMO</td>\n",
              "      <td>Yes, v5.1</td>\n",
              "      <td>Yes with A-GPS, Glonass</td>\n",
              "      <td>3.5 mm</td>\n",
              "      <td>Dual SIM, GSM+GSM</td>\n",
              "      <td>Yes</td>\n",
              "      <td>Rs. 19,999.00</td>\n",
              "    </tr>\n",
              "    <tr>\n",
              "      <th>1</th>\n",
              "      <td>realme</td>\n",
              "      <td>realme 10 Pro Plus 5G</td>\n",
              "      <td>6 GB</td>\n",
              "      <td>MediaTek Dimensity 1080 MT6877V</td>\n",
              "      <td>5000 mAh</td>\n",
              "      <td>108 MP + 8 MP + 2 MP</td>\n",
              "      <td>16 MP</td>\n",
              "      <td>6.7 inches (17.02 cm)</td>\n",
              "      <td>December 8, 2022 (Official)</td>\n",
              "      <td>Android v13</td>\n",
              "      <td>...</td>\n",
              "      <td>Yes</td>\n",
              "      <td>128 GB\\n                                      ...</td>\n",
              "      <td>No</td>\n",
              "      <td>Yes, Wi-Fi 6 (802.11 a/b/g/n/ac/ax) 5GHz, MIMO</td>\n",
              "      <td>Yes, v5.2</td>\n",
              "      <td>Yes with A-GPS, Glonass</td>\n",
              "      <td>USB Type-C</td>\n",
              "      <td>Dual SIM, GSM+GSM</td>\n",
              "      <td>Yes</td>\n",
              "      <td>Rs. 24,818.00</td>\n",
              "    </tr>\n",
              "    <tr>\n",
              "      <th>2</th>\n",
              "      <td>realme</td>\n",
              "      <td>realme Narzo N53</td>\n",
              "      <td>4 GB</td>\n",
              "      <td>Unisoc T612</td>\n",
              "      <td>5000 mAh</td>\n",
              "      <td>50 MP</td>\n",
              "      <td>8 MP</td>\n",
              "      <td>6.74 inches (17.12 cm)</td>\n",
              "      <td>May 22, 2023 (Official)</td>\n",
              "      <td>Android v13</td>\n",
              "      <td>...</td>\n",
              "      <td>Yes</td>\n",
              "      <td>64 GB\\n                                       ...</td>\n",
              "      <td>Yes, Up to 2 TB</td>\n",
              "      <td>Yes, Wi-Fi 5 (802.11 a/b/g/n/ac) 5GHz</td>\n",
              "      <td>Yes, v5.0</td>\n",
              "      <td>Yes with A-GPS, Glonass</td>\n",
              "      <td>3.5 mm</td>\n",
              "      <td>Dual SIM, GSM+GSM</td>\n",
              "      <td>Yes</td>\n",
              "      <td>Rs. 8,999.00</td>\n",
              "    </tr>\n",
              "    <tr>\n",
              "      <th>3</th>\n",
              "      <td>OnePlus</td>\n",
              "      <td>OnePlus 11R</td>\n",
              "      <td>8 GB</td>\n",
              "      <td>Qualcomm Snapdragon 8 Plus Gen 1</td>\n",
              "      <td>5000 mAh</td>\n",
              "      <td>50 MP + 8 MP + 2 MP</td>\n",
              "      <td>16 MP</td>\n",
              "      <td>6.74 inches (17.12 cm)</td>\n",
              "      <td>February 21, 2023 (Official)</td>\n",
              "      <td>Android v13</td>\n",
              "      <td>...</td>\n",
              "      <td>Yes</td>\n",
              "      <td>128 GB\\n                                      ...</td>\n",
              "      <td>No</td>\n",
              "      <td>Yes, Wi-Fi 6 (802.11 a/b/g/n/ac/ax) 5GHz, MIMO</td>\n",
              "      <td>Yes, v5.3</td>\n",
              "      <td>Yes with A-GPS, Glonass</td>\n",
              "      <td>USB Type-C</td>\n",
              "      <td>Dual SIM, GSM+GSM</td>\n",
              "      <td>Yes</td>\n",
              "      <td>Rs. 39,999.00</td>\n",
              "    </tr>\n",
              "    <tr>\n",
              "      <th>4</th>\n",
              "      <td>POCO</td>\n",
              "      <td>POCO F5</td>\n",
              "      <td>8 GB</td>\n",
              "      <td>Qualcomm Snapdragon 7 Plus Gen 2</td>\n",
              "      <td>5000 mAh</td>\n",
              "      <td>64 MP + 8 MP + 2 MP</td>\n",
              "      <td>16 MP</td>\n",
              "      <td>6.67 inches (16.94 cm)</td>\n",
              "      <td>May 10, 2023 (Official)</td>\n",
              "      <td>Android v13</td>\n",
              "      <td>...</td>\n",
              "      <td>Yes</td>\n",
              "      <td>256 GB</td>\n",
              "      <td>No</td>\n",
              "      <td>Yes, Wi-Fi 6 (802.11 a/b/g/n/ac/ax) 5GHz</td>\n",
              "      <td>Yes, v5.3</td>\n",
              "      <td>Yes with A-GPS, Glonass</td>\n",
              "      <td>3.5 mm</td>\n",
              "      <td>Dual SIM, GSM+GSM, Dual VoLTE</td>\n",
              "      <td>Yes</td>\n",
              "      <td>Rs. 29,999.00</td>\n",
              "    </tr>\n",
              "    <tr>\n",
              "      <th>...</th>\n",
              "      <td>...</td>\n",
              "      <td>...</td>\n",
              "      <td>...</td>\n",
              "      <td>...</td>\n",
              "      <td>...</td>\n",
              "      <td>...</td>\n",
              "      <td>...</td>\n",
              "      <td>...</td>\n",
              "      <td>...</td>\n",
              "      <td>...</td>\n",
              "      <td>...</td>\n",
              "      <td>...</td>\n",
              "      <td>...</td>\n",
              "      <td>...</td>\n",
              "      <td>...</td>\n",
              "      <td>...</td>\n",
              "      <td>...</td>\n",
              "      <td>...</td>\n",
              "      <td>...</td>\n",
              "      <td>...</td>\n",
              "      <td>...</td>\n",
              "    </tr>\n",
              "    <tr>\n",
              "      <th>1371</th>\n",
              "      <td>BLU</td>\n",
              "      <td>BLU G72 Max</td>\n",
              "      <td>4 GB</td>\n",
              "      <td>MediaTek Helio G37 MT6765</td>\n",
              "      <td>5000 mAh</td>\n",
              "      <td>13 MP</td>\n",
              "      <td>8 MP</td>\n",
              "      <td>6.8 inches (17.27 cm)</td>\n",
              "      <td>June 10, 2023 (Expected)</td>\n",
              "      <td>Android v12</td>\n",
              "      <td>...</td>\n",
              "      <td>Yes</td>\n",
              "      <td>128 GB\\n                                      ...</td>\n",
              "      <td>Yes, Up to 256 GB</td>\n",
              "      <td>Yes, Wi-Fi 5 (802.11 a/b/g/n/ac)</td>\n",
              "      <td>Yes, v5.1</td>\n",
              "      <td>Yes with A-GPS</td>\n",
              "      <td>3.5 mm</td>\n",
              "      <td>Dual SIM, GSM+GSM</td>\n",
              "      <td>Yes</td>\n",
              "      <td>NaN</td>\n",
              "    </tr>\n",
              "    <tr>\n",
              "      <th>1372</th>\n",
              "      <td>Motorola</td>\n",
              "      <td>Motorola Razr 40</td>\n",
              "      <td>8 GB</td>\n",
              "      <td>Qualcomm Snapdragon 7 Gen 1</td>\n",
              "      <td>4200 mAh</td>\n",
              "      <td>64 MP + 13 MP</td>\n",
              "      <td>32 MP</td>\n",
              "      <td>6.9 inches (17.53 cm)</td>\n",
              "      <td>June 30, 2023 (Expected)</td>\n",
              "      <td>Android v13</td>\n",
              "      <td>...</td>\n",
              "      <td>Yes</td>\n",
              "      <td>256 GB</td>\n",
              "      <td>No</td>\n",
              "      <td>Yes, Wi-Fi 6E (802.11 a/b/g/n/ac/ax) 5GHz 6GHz</td>\n",
              "      <td>Yes, v5.3</td>\n",
              "      <td>Yes with A-GPS, Glonass</td>\n",
              "      <td>USB Type-C</td>\n",
              "      <td>Dual SIM, GSM+GSM</td>\n",
              "      <td>Yes</td>\n",
              "      <td>NaN</td>\n",
              "    </tr>\n",
              "    <tr>\n",
              "      <th>1373</th>\n",
              "      <td>Nubia</td>\n",
              "      <td>Nubia N5</td>\n",
              "      <td>4 GB</td>\n",
              "      <td>Unisoc T700</td>\n",
              "      <td>5000 mAh</td>\n",
              "      <td>50 MP</td>\n",
              "      <td>13 MP</td>\n",
              "      <td>6.51 inches (16.54 cm)</td>\n",
              "      <td>September 20, 2023 (Expected)</td>\n",
              "      <td>Android v13</td>\n",
              "      <td>...</td>\n",
              "      <td>Yes</td>\n",
              "      <td>128 GB\\n                                      ...</td>\n",
              "      <td>NaN</td>\n",
              "      <td>Yes, Wi-Fi 4 (802.11 b/g/n)</td>\n",
              "      <td>Yes</td>\n",
              "      <td>Yes with A-GPS</td>\n",
              "      <td>3.5 mm</td>\n",
              "      <td>Dual SIM, GSM+GSM</td>\n",
              "      <td>No</td>\n",
              "      <td>NaN</td>\n",
              "    </tr>\n",
              "    <tr>\n",
              "      <th>1374</th>\n",
              "      <td>Doogee</td>\n",
              "      <td>Doogee S51</td>\n",
              "      <td>4 GB</td>\n",
              "      <td>MediaTek Helio G25</td>\n",
              "      <td>5180 mAh</td>\n",
              "      <td>12 MP + 2 MP</td>\n",
              "      <td>8 MP</td>\n",
              "      <td>6.0 inches (15.24 cm)</td>\n",
              "      <td>July 28, 2023 (Expected)</td>\n",
              "      <td>Android v12</td>\n",
              "      <td>...</td>\n",
              "      <td>Yes</td>\n",
              "      <td>64 GB\\n                                       ...</td>\n",
              "      <td>Yes, Up to 512 GB</td>\n",
              "      <td>Yes, Wi-Fi 4 (802.11 b/g/n)</td>\n",
              "      <td>Yes, v5.0</td>\n",
              "      <td>Yes with A-GPS, Glonass</td>\n",
              "      <td>3.5 mm</td>\n",
              "      <td>Dual SIM, GSM+GSM</td>\n",
              "      <td>Yes</td>\n",
              "      <td>NaN</td>\n",
              "    </tr>\n",
              "    <tr>\n",
              "      <th>1375</th>\n",
              "      <td>TCL</td>\n",
              "      <td>TCL 408</td>\n",
              "      <td>4 GB</td>\n",
              "      <td>MediaTek Helio A25</td>\n",
              "      <td>5000 mAh</td>\n",
              "      <td>50 MP + 2 MP</td>\n",
              "      <td>8 MP</td>\n",
              "      <td>6.6 inches (16.76 cm)</td>\n",
              "      <td>June 27, 2023 (Expected)</td>\n",
              "      <td>Android v12</td>\n",
              "      <td>...</td>\n",
              "      <td>Yes</td>\n",
              "      <td>64 GB\\n                                       ...</td>\n",
              "      <td>Yes, Up to 512 GB</td>\n",
              "      <td>Yes, Wi-Fi 5 (802.11 a/b/g/n/ac) 5GHz</td>\n",
              "      <td>Yes, v5.1</td>\n",
              "      <td>Yes with A-GPS, Glonass</td>\n",
              "      <td>3.5 mm</td>\n",
              "      <td>Dual SIM, GSM+GSM</td>\n",
              "      <td>Yes</td>\n",
              "      <td>NaN</td>\n",
              "    </tr>\n",
              "  </tbody>\n",
              "</table>\n",
              "<p>1376 rows × 30 columns</p>\n",
              "</div>\n",
              "      <button class=\"colab-df-convert\" onclick=\"convertToInteractive('df-dc715961-b141-434e-b354-9cc86c6ac7bb')\"\n",
              "              title=\"Convert this dataframe to an interactive table.\"\n",
              "              style=\"display:none;\">\n",
              "        \n",
              "  <svg xmlns=\"http://www.w3.org/2000/svg\" height=\"24px\"viewBox=\"0 0 24 24\"\n",
              "       width=\"24px\">\n",
              "    <path d=\"M0 0h24v24H0V0z\" fill=\"none\"/>\n",
              "    <path d=\"M18.56 5.44l.94 2.06.94-2.06 2.06-.94-2.06-.94-.94-2.06-.94 2.06-2.06.94zm-11 1L8.5 8.5l.94-2.06 2.06-.94-2.06-.94L8.5 2.5l-.94 2.06-2.06.94zm10 10l.94 2.06.94-2.06 2.06-.94-2.06-.94-.94-2.06-.94 2.06-2.06.94z\"/><path d=\"M17.41 7.96l-1.37-1.37c-.4-.4-.92-.59-1.43-.59-.52 0-1.04.2-1.43.59L10.3 9.45l-7.72 7.72c-.78.78-.78 2.05 0 2.83L4 21.41c.39.39.9.59 1.41.59.51 0 1.02-.2 1.41-.59l7.78-7.78 2.81-2.81c.8-.78.8-2.07 0-2.86zM5.41 20L4 18.59l7.72-7.72 1.47 1.35L5.41 20z\"/>\n",
              "  </svg>\n",
              "      </button>\n",
              "      \n",
              "  <style>\n",
              "    .colab-df-container {\n",
              "      display:flex;\n",
              "      flex-wrap:wrap;\n",
              "      gap: 12px;\n",
              "    }\n",
              "\n",
              "    .colab-df-convert {\n",
              "      background-color: #E8F0FE;\n",
              "      border: none;\n",
              "      border-radius: 50%;\n",
              "      cursor: pointer;\n",
              "      display: none;\n",
              "      fill: #1967D2;\n",
              "      height: 32px;\n",
              "      padding: 0 0 0 0;\n",
              "      width: 32px;\n",
              "    }\n",
              "\n",
              "    .colab-df-convert:hover {\n",
              "      background-color: #E2EBFA;\n",
              "      box-shadow: 0px 1px 2px rgba(60, 64, 67, 0.3), 0px 1px 3px 1px rgba(60, 64, 67, 0.15);\n",
              "      fill: #174EA6;\n",
              "    }\n",
              "\n",
              "    [theme=dark] .colab-df-convert {\n",
              "      background-color: #3B4455;\n",
              "      fill: #D2E3FC;\n",
              "    }\n",
              "\n",
              "    [theme=dark] .colab-df-convert:hover {\n",
              "      background-color: #434B5C;\n",
              "      box-shadow: 0px 1px 3px 1px rgba(0, 0, 0, 0.15);\n",
              "      filter: drop-shadow(0px 1px 2px rgba(0, 0, 0, 0.3));\n",
              "      fill: #FFFFFF;\n",
              "    }\n",
              "  </style>\n",
              "\n",
              "      <script>\n",
              "        const buttonEl =\n",
              "          document.querySelector('#df-dc715961-b141-434e-b354-9cc86c6ac7bb button.colab-df-convert');\n",
              "        buttonEl.style.display =\n",
              "          google.colab.kernel.accessAllowed ? 'block' : 'none';\n",
              "\n",
              "        async function convertToInteractive(key) {\n",
              "          const element = document.querySelector('#df-dc715961-b141-434e-b354-9cc86c6ac7bb');\n",
              "          const dataTable =\n",
              "            await google.colab.kernel.invokeFunction('convertToInteractive',\n",
              "                                                     [key], {});\n",
              "          if (!dataTable) return;\n",
              "\n",
              "          const docLinkHtml = 'Like what you see? Visit the ' +\n",
              "            '<a target=\"_blank\" href=https://colab.research.google.com/notebooks/data_table.ipynb>data table notebook</a>'\n",
              "            + ' to learn more about interactive tables.';\n",
              "          element.innerHTML = '';\n",
              "          dataTable['output_type'] = 'display_data';\n",
              "          await google.colab.output.renderOutput(dataTable, element);\n",
              "          const docLink = document.createElement('div');\n",
              "          docLink.innerHTML = docLinkHtml;\n",
              "          element.appendChild(docLink);\n",
              "        }\n",
              "      </script>\n",
              "    </div>\n",
              "  </div>\n",
              "  "
            ]
          },
          "metadata": {},
          "execution_count": 3
        }
      ]
    },
    {
      "cell_type": "code",
      "source": [
        "df.isna().sum()"
      ],
      "metadata": {
        "colab": {
          "base_uri": "https://localhost:8080/"
        },
        "id": "JNNCC_tsM3_i",
        "outputId": "8ec6cde8-df73-4e2e-f7c8-6c5376db53c8"
      },
      "execution_count": 4,
      "outputs": [
        {
          "output_type": "execute_result",
          "data": {
            "text/plain": [
              "Brand                     0\n",
              "Name                      0\n",
              "RAM                       3\n",
              "Processor                56\n",
              "Battery                   1\n",
              "Rear Camera               0\n",
              "Front Camera              2\n",
              "Display                   0\n",
              "Launch Date               0\n",
              "Operating System          3\n",
              "Chipset                  56\n",
              "Fabrication             219\n",
              "Graphics                 66\n",
              "Display Type              1\n",
              "Pixel Density             0\n",
              "Screen to Body Ratio    863\n",
              "Brightness              691\n",
              "Refresh Rate            549\n",
              "Capacity                  1\n",
              "Quick Charging          443\n",
              "USB Type-C               43\n",
              "Internal Memory           3\n",
              "Expandable Memory         8\n",
              "Wi-Fi                     2\n",
              "Bluetooth                 0\n",
              "GPS                       6\n",
              "Audio Jack                5\n",
              "SIM Slot(s)               0\n",
              "Fingerprint Sensor       30\n",
              "Price                   157\n",
              "dtype: int64"
            ]
          },
          "metadata": {},
          "execution_count": 4
        }
      ]
    },
    {
      "cell_type": "code",
      "source": [
        "dfpd = df.copy()\n",
        "dfpd.shape"
      ],
      "metadata": {
        "colab": {
          "base_uri": "https://localhost:8080/"
        },
        "id": "qT8sW_bMM7Im",
        "outputId": "b1f78f8f-b2ca-44a6-8c1b-38d407acaa99"
      },
      "execution_count": 5,
      "outputs": [
        {
          "output_type": "execute_result",
          "data": {
            "text/plain": [
              "(1376, 30)"
            ]
          },
          "metadata": {},
          "execution_count": 5
        }
      ]
    },
    {
      "cell_type": "code",
      "source": [
        "dfpd.isnull().sum()"
      ],
      "metadata": {
        "id": "yaX3yjPcNDKz",
        "colab": {
          "base_uri": "https://localhost:8080/"
        },
        "outputId": "e22e5595-786d-455e-f2f8-7e5bb880098b"
      },
      "execution_count": 6,
      "outputs": [
        {
          "output_type": "execute_result",
          "data": {
            "text/plain": [
              "Brand                     0\n",
              "Name                      0\n",
              "RAM                       3\n",
              "Processor                56\n",
              "Battery                   1\n",
              "Rear Camera               0\n",
              "Front Camera              2\n",
              "Display                   0\n",
              "Launch Date               0\n",
              "Operating System          3\n",
              "Chipset                  56\n",
              "Fabrication             219\n",
              "Graphics                 66\n",
              "Display Type              1\n",
              "Pixel Density             0\n",
              "Screen to Body Ratio    863\n",
              "Brightness              691\n",
              "Refresh Rate            549\n",
              "Capacity                  1\n",
              "Quick Charging          443\n",
              "USB Type-C               43\n",
              "Internal Memory           3\n",
              "Expandable Memory         8\n",
              "Wi-Fi                     2\n",
              "Bluetooth                 0\n",
              "GPS                       6\n",
              "Audio Jack                5\n",
              "SIM Slot(s)               0\n",
              "Fingerprint Sensor       30\n",
              "Price                   157\n",
              "dtype: int64"
            ]
          },
          "metadata": {},
          "execution_count": 6
        }
      ]
    },
    {
      "cell_type": "markdown",
      "source": [
        "## Minimising Null Values"
      ],
      "metadata": {
        "id": "wyIG5FLDUUI7"
      }
    },
    {
      "cell_type": "code",
      "source": [
        "dfpd.drop('Name', axis=1, inplace=True)\n",
        "dfpd.dropna(subset=['RAM'], inplace=True)\n",
        "dfpd['Processor'] = dfpd['Processor'].fillna('other')\n",
        "dfpd.dropna(subset=['Battery'], inplace=True)\n",
        "dfpd.dropna(subset=['Front Camera'], inplace=True)\n",
        "dfpd['Operating System'] = dfpd['Operating System'].fillna('Android')\n",
        "dfpd.drop('Chipset', axis=1, inplace=True)\n"
      ],
      "metadata": {
        "id": "vSDgDFk7047s"
      },
      "execution_count": 7,
      "outputs": []
    },
    {
      "cell_type": "code",
      "source": [
        "dfpd.drop('Screen to Body Ratio', axis=1, inplace=True)\n",
        "dfpd.drop('Brightness', axis=1, inplace=True)\n",
        "dfpd.drop('Capacity', axis=1, inplace=True)\n",
        "dfpd.dropna(subset=[\"Wi-Fi\",\"GPS\", \"Audio Jack\"], inplace=True)\n",
        "dfpd.dropna(subset=['Display Type'], inplace=True)"
      ],
      "metadata": {
        "id": "SfRIwKvEQY2q"
      },
      "execution_count": 8,
      "outputs": []
    },
    {
      "cell_type": "code",
      "source": [
        "dfpd.isnull().sum()"
      ],
      "metadata": {
        "colab": {
          "base_uri": "https://localhost:8080/"
        },
        "id": "TLnZFOcnRwEG",
        "outputId": "5cd6e07d-5895-45b5-e80c-3526f213df1b"
      },
      "execution_count": 9,
      "outputs": [
        {
          "output_type": "execute_result",
          "data": {
            "text/plain": [
              "Brand                   0\n",
              "RAM                     0\n",
              "Processor               0\n",
              "Battery                 0\n",
              "Rear Camera             0\n",
              "Front Camera            0\n",
              "Display                 0\n",
              "Launch Date             0\n",
              "Operating System        0\n",
              "Fabrication           209\n",
              "Graphics               59\n",
              "Display Type            0\n",
              "Pixel Density           0\n",
              "Refresh Rate          537\n",
              "Quick Charging        432\n",
              "USB Type-C             36\n",
              "Internal Memory         0\n",
              "Expandable Memory       8\n",
              "Wi-Fi                   0\n",
              "Bluetooth               0\n",
              "GPS                     0\n",
              "Audio Jack              0\n",
              "SIM Slot(s)             0\n",
              "Fingerprint Sensor     22\n",
              "Price                 156\n",
              "dtype: int64"
            ]
          },
          "metadata": {},
          "execution_count": 9
        }
      ]
    },
    {
      "cell_type": "markdown",
      "source": [
        "## Reformating Values"
      ],
      "metadata": {
        "id": "SF_8ifeHUa-8"
      }
    },
    {
      "cell_type": "code",
      "source": [
        "import re\n",
        "def extract_numeric_value(value):\n",
        "    numeric_value = re.findall(r'\\d+', value)\n",
        "    if len(numeric_value) > 0:\n",
        "        numeric_value = int(numeric_value[0])\n",
        "        if 'MB' in value:\n",
        "            numeric_value = int(numeric_value / 1024)\n",
        "    return numeric_value\n",
        "dfpd['RAM'] = dfpd['RAM'].apply(extract_numeric_value)"
      ],
      "metadata": {
        "id": "7UMK6gn04COY"
      },
      "execution_count": 10,
      "outputs": []
    },
    {
      "cell_type": "code",
      "source": [
        "def proc(value):\n",
        "  temp = value.split()\n",
        "  return temp[0].strip()\n",
        "dfpd['Processor'] = dfpd['Processor'].apply(proc)\n",
        "dfpd['Processor'].unique()"
      ],
      "metadata": {
        "colab": {
          "base_uri": "https://localhost:8080/"
        },
        "id": "o0B8xVEVIzRX",
        "outputId": "2c628e5b-76b5-4c69-a492-dcff282c9615"
      },
      "execution_count": 11,
      "outputs": [
        {
          "output_type": "execute_result",
          "data": {
            "text/plain": [
              "array(['Qualcomm', 'MediaTek', 'Unisoc', 'Samsung', 'Apple', 'Google',\n",
              "       'HiSilicon', 'other', 'Spreadtrum'], dtype=object)"
            ]
          },
          "metadata": {},
          "execution_count": 11
        }
      ]
    },
    {
      "cell_type": "code",
      "source": [
        "dfpd['Battery'] = dfpd['Battery'].str.extract('(\\d+)', expand=False).astype(int)\n",
        "dfpd['Battery'] = np.round(dfpd['Battery'] / 500) * 500\n",
        "dfpd['Battery'] = dfpd['Battery'].astype(int)"
      ],
      "metadata": {
        "id": "lKBlM2CRLBJ0"
      },
      "execution_count": 12,
      "outputs": []
    },
    {
      "cell_type": "code",
      "source": [
        "dfpd['Rear Camera'] = [int(float(i.split('+')[0].strip().split()[0])) for i in dfpd['Rear Camera']]"
      ],
      "metadata": {
        "id": "1sfUK1Onq7xX"
      },
      "execution_count": 13,
      "outputs": []
    },
    {
      "cell_type": "code",
      "source": [
        "dfpd['Front Camera'] = [int(float(i.split('+')[0].strip().split()[0])) for i in dfpd['Front Camera']]"
      ],
      "metadata": {
        "id": "O3vPFLrnxzP5"
      },
      "execution_count": 14,
      "outputs": []
    },
    {
      "cell_type": "code",
      "source": [
        "import numpy as np\n",
        "dfpd['Display'] = dfpd['Display'].str.extract(r'([\\d.]+)').astype(float)\n",
        "dfpd['Display'] = np.round(dfpd['Display'] * 2) / 2"
      ],
      "metadata": {
        "id": "oTJ7MTRqzAEB"
      },
      "execution_count": 15,
      "outputs": []
    },
    {
      "cell_type": "code",
      "source": [
        "dfpd['Launch Date'] = [int(i.split()[2]) for i in dfpd['Launch Date']]"
      ],
      "metadata": {
        "id": "yw2DLa_M0fBb"
      },
      "execution_count": 16,
      "outputs": []
    },
    {
      "cell_type": "code",
      "source": [
        "import re\n",
        "dfpd['Operating System'] = dfpd['Operating System'].str.extract(r'(Android|iOS)', flags=re.IGNORECASE).fillna('Other')\n",
        "dfpd['Operating System'].unique()"
      ],
      "metadata": {
        "colab": {
          "base_uri": "https://localhost:8080/"
        },
        "id": "iPhtGRu7HFLz",
        "outputId": "73ca331c-1dcc-445d-8a22-e84e8b83103e"
      },
      "execution_count": 17,
      "outputs": [
        {
          "output_type": "execute_result",
          "data": {
            "text/plain": [
              "array(['Android', 'iOS', 'Other'], dtype=object)"
            ]
          },
          "metadata": {},
          "execution_count": 17
        }
      ]
    },
    {
      "cell_type": "code",
      "source": [
        "import re\n",
        "def fab(value):\n",
        "  if value ==None or value =='nan':\n",
        "    pass\n",
        "  else:\n",
        "    fab = re.sub('[^0-9]', '', str(value))\n",
        "    return fab\n",
        "dfpd['Fabrication'] = dfpd['Fabrication'].apply(fab)"
      ],
      "metadata": {
        "id": "td4YcUdBSH7u"
      },
      "execution_count": 18,
      "outputs": []
    },
    {
      "cell_type": "code",
      "source": [
        "dfpd['Fabrication'] = dfpd['Fabrication'].fillna(dfpd['Fabrication'].mode()[0])\n",
        "dfpd['Fabrication'].unique()"
      ],
      "metadata": {
        "colab": {
          "base_uri": "https://localhost:8080/"
        },
        "id": "djoWmIk0G0dF",
        "outputId": "c1054e3c-04b1-437b-ff8b-d1c92cf56ad4"
      },
      "execution_count": 19,
      "outputs": [
        {
          "output_type": "execute_result",
          "data": {
            "text/plain": [
              "array(['6', '12', '4', '5', '7', '8', '11', '28', '10', '', '22', '14',\n",
              "       '16', '20'], dtype=object)"
            ]
          },
          "metadata": {},
          "execution_count": 19
        }
      ]
    },
    {
      "cell_type": "code",
      "source": [
        "dfpd['Graphics'] = dfpd['Graphics'].str.split(' |-').str[0]"
      ],
      "metadata": {
        "id": "_E2zNG0eZG7F"
      },
      "execution_count": 20,
      "outputs": []
    },
    {
      "cell_type": "code",
      "source": [
        "dfpd['Graphics'] = dfpd['Graphics'].fillna(dfpd['Graphics'].mode()[0])\n",
        "dfpd['Graphics'].unique()"
      ],
      "metadata": {
        "colab": {
          "base_uri": "https://localhost:8080/"
        },
        "id": "vWN0YI-uHb79",
        "outputId": "dc3696b8-9845-481a-d4a6-e7a0a208c2e2"
      },
      "execution_count": 21,
      "outputs": [
        {
          "output_type": "execute_result",
          "data": {
            "text/plain": [
              "array(['Adreno', 'Mali', 'Apple', 'Immortalis', 'PowerVR', 'IMG'],\n",
              "      dtype=object)"
            ]
          },
          "metadata": {},
          "execution_count": 21
        }
      ]
    },
    {
      "cell_type": "code",
      "source": [
        "dfpd['Display Type'] = dfpd['Display Type'].str.lower()\n",
        "dfpd['Display Type'] = dfpd['Display Type'].str.replace(r'.*amoled.*', 'AMOLED', regex=True)\n",
        "dfpd['Display Type'] = dfpd['Display Type'].str.replace(r'.*lcd.*', 'LCD', regex=True)\n",
        "dfpd['Display Type'] = dfpd['Display Type'].str.replace(r'.*tft.*', 'TFT', regex=True)\n",
        "dfpd['Display Type'] = dfpd['Display Type'].str.replace(r'.*oled.*', 'OLED', regex=True)\n",
        "\n",
        "dfpd['Display Type'].unique()"
      ],
      "metadata": {
        "colab": {
          "base_uri": "https://localhost:8080/"
        },
        "id": "B8VBITkEKJye",
        "outputId": "8c78c0e2-6987-48f1-8557-84cb09c41dce"
      },
      "execution_count": 22,
      "outputs": [
        {
          "output_type": "execute_result",
          "data": {
            "text/plain": [
              "array(['LCD', 'AMOLED', 'OLED', 'TFT'], dtype=object)"
            ]
          },
          "metadata": {},
          "execution_count": 22
        }
      ]
    },
    {
      "cell_type": "code",
      "source": [
        "dfpd['Pixel Density'] = dfpd['Pixel Density'].str.extract('(\\d+)', expand=False).astype(int)\n",
        "dfpd['Pixel Density'] = (dfpd['Pixel Density'] // 50) * 50\n",
        "dfpd['Pixel Density'].unique()"
      ],
      "metadata": {
        "colab": {
          "base_uri": "https://localhost:8080/"
        },
        "id": "WeWUj8nNKJ82",
        "outputId": "27a7c245-7d00-41e7-85c9-66ea189654ec"
      },
      "execution_count": 23,
      "outputs": [
        {
          "output_type": "execute_result",
          "data": {
            "text/plain": [
              "array([350, 450, 400, 500, 250, 300, 550, 700, 200, 150, 600])"
            ]
          },
          "metadata": {},
          "execution_count": 23
        }
      ]
    },
    {
      "cell_type": "code",
      "source": [
        "dfpd['Refresh Rate'] = dfpd['Refresh Rate'].str.extract('(\\d+)', expand=False).astype(float).fillna(0).astype(int)\n",
        "dfpd['Refresh Rate'] = dfpd['Refresh Rate'].replace(0, 60)\n",
        "dfpd['Refresh Rate'].unique()\n"
      ],
      "metadata": {
        "colab": {
          "base_uri": "https://localhost:8080/"
        },
        "id": "EJquEiL7KTb9",
        "outputId": "cc47167a-b20c-47d5-f81d-e56a85dea5ac"
      },
      "execution_count": 24,
      "outputs": [
        {
          "output_type": "execute_result",
          "data": {
            "text/plain": [
              "array([120,  90,  60, 144, 165])"
            ]
          },
          "metadata": {},
          "execution_count": 24
        }
      ]
    },
    {
      "cell_type": "code",
      "source": [
        "dfpd['Quick Charging'] = dfpd['Quick Charging'].str.contains('Yes').fillna(False).map({True: 'Yes', False: 'No'})\n",
        "dfpd['Quick Charging'].unique()"
      ],
      "metadata": {
        "colab": {
          "base_uri": "https://localhost:8080/"
        },
        "id": "qfV2Q9zMBFqT",
        "outputId": "925a209e-4650-4423-91cf-9d3fc47d35c7"
      },
      "execution_count": 25,
      "outputs": [
        {
          "output_type": "execute_result",
          "data": {
            "text/plain": [
              "array(['Yes', 'No'], dtype=object)"
            ]
          },
          "metadata": {},
          "execution_count": 25
        }
      ]
    },
    {
      "cell_type": "code",
      "source": [
        "launch_date_counts = {}\n",
        "for date in dfpd['Launch Date'].unique():\n",
        "    count = dfpd.loc[dfpd['Launch Date'] == date, 'USB Type-C'].eq('Yes').sum()\n",
        "    launch_date_counts[date] = count\n",
        "launch_date_counts"
      ],
      "metadata": {
        "colab": {
          "base_uri": "https://localhost:8080/"
        },
        "id": "wOcfiSni-Bi1",
        "outputId": "fc090954-04d9-4184-a898-58bc300de788"
      },
      "execution_count": 26,
      "outputs": [
        {
          "output_type": "execute_result",
          "data": {
            "text/plain": [
              "{2023: 292,\n",
              " 2022: 308,\n",
              " 2021: 202,\n",
              " 2019: 33,\n",
              " 2020: 81,\n",
              " 2018: 22,\n",
              " 2017: 6,\n",
              " 2016: 1,\n",
              " 2015: 0,\n",
              " 2014: 0,\n",
              " 2013: 0,\n",
              " 2012: 0}"
            ]
          },
          "metadata": {},
          "execution_count": 26
        }
      ]
    },
    {
      "cell_type": "code",
      "source": [
        "dfpd.loc[dfpd['USB Type-C'].isnull(), 'USB Type-C'] = np.where(dfpd.loc[dfpd['USB Type-C'].isnull(), 'Launch Date'].astype(str).str[-4:].astype(int) >= 2020, 'Yes', 'No')\n",
        "dfpd['USB Type-C'].unique()"
      ],
      "metadata": {
        "colab": {
          "base_uri": "https://localhost:8080/"
        },
        "id": "c6OB1PkLAfTz",
        "outputId": "67297d1f-9df6-48c0-edef-ffbc5f934e80"
      },
      "execution_count": 27,
      "outputs": [
        {
          "output_type": "execute_result",
          "data": {
            "text/plain": [
              "array(['Yes', 'No'], dtype=object)"
            ]
          },
          "metadata": {},
          "execution_count": 27
        }
      ]
    },
    {
      "cell_type": "code",
      "source": [
        "dfpd['Internal Memory'] = dfpd['Internal Memory'].str.extract(r'(\\d+)', expand=False).astype(int)\n",
        "dfpd['Internal Memory'].unique()"
      ],
      "metadata": {
        "colab": {
          "base_uri": "https://localhost:8080/"
        },
        "id": "9UOv2iAuI5bR",
        "outputId": "e20b9827-4e01-49e0-a95f-e74b3e656454"
      },
      "execution_count": 28,
      "outputs": [
        {
          "output_type": "execute_result",
          "data": {
            "text/plain": [
              "array([128,  64, 256,  32,   1, 512,  16,   8,   4])"
            ]
          },
          "metadata": {},
          "execution_count": 28
        }
      ]
    },
    {
      "cell_type": "code",
      "source": [
        "dfpd['Expandable Memory'] = dfpd['Expandable Memory'].str.contains('Yes').fillna(False).map({True: 'Yes', False: 'No'})\n",
        "dfpd['Expandable Memory'].unique()"
      ],
      "metadata": {
        "colab": {
          "base_uri": "https://localhost:8080/"
        },
        "id": "UoNxns_SC8LV",
        "outputId": "c9e5e1e7-4c2f-4596-f21f-4b5cfe992dfe"
      },
      "execution_count": 29,
      "outputs": [
        {
          "output_type": "execute_result",
          "data": {
            "text/plain": [
              "array(['Yes', 'No'], dtype=object)"
            ]
          },
          "metadata": {},
          "execution_count": 29
        }
      ]
    },
    {
      "cell_type": "code",
      "source": [
        "dfpd['Wi-Fi'] = dfpd['Wi-Fi'].str.contains('Yes').fillna(False).map({True: 'Yes', False: 'No'})\n",
        "dfpd['Wi-Fi'].unique()"
      ],
      "metadata": {
        "colab": {
          "base_uri": "https://localhost:8080/"
        },
        "id": "jnK8rKoYCc9I",
        "outputId": "829639ce-134e-41b5-a09f-249ac50ba7d1"
      },
      "execution_count": 30,
      "outputs": [
        {
          "output_type": "execute_result",
          "data": {
            "text/plain": [
              "array(['Yes'], dtype=object)"
            ]
          },
          "metadata": {},
          "execution_count": 30
        }
      ]
    },
    {
      "cell_type": "code",
      "source": [
        "dfpd.drop('Wi-Fi', axis=1, inplace=True)"
      ],
      "metadata": {
        "id": "5itKmsQSJyy2"
      },
      "execution_count": 31,
      "outputs": []
    },
    {
      "cell_type": "code",
      "source": [
        "dfpd['Bluetooth'] = dfpd['Bluetooth'].str.contains('Yes').fillna(False).map({True: 'Yes', False: 'No'})\n",
        "dfpd['Bluetooth'].unique()"
      ],
      "metadata": {
        "colab": {
          "base_uri": "https://localhost:8080/"
        },
        "id": "qTWQnY64Cy9G",
        "outputId": "656364ec-5026-447b-b588-fc2cf1580bf3"
      },
      "execution_count": 32,
      "outputs": [
        {
          "output_type": "execute_result",
          "data": {
            "text/plain": [
              "array(['Yes'], dtype=object)"
            ]
          },
          "metadata": {},
          "execution_count": 32
        }
      ]
    },
    {
      "cell_type": "code",
      "source": [
        "dfpd.drop('Bluetooth', axis=1, inplace=True)"
      ],
      "metadata": {
        "id": "DrXs5kMiJ13d"
      },
      "execution_count": 33,
      "outputs": []
    },
    {
      "cell_type": "code",
      "source": [
        "dfpd['GPS'] = dfpd['GPS'].str.contains('Yes').fillna(False).map({True: 'Yes', False: 'No'})\n",
        "dfpd.drop('GPS', axis=1, inplace=True)"
      ],
      "metadata": {
        "id": "majMnhbHDvxX"
      },
      "execution_count": 34,
      "outputs": []
    },
    {
      "cell_type": "code",
      "source": [
        "dfpd['Audio Jack'] = dfpd['Audio Jack'].replace('3.5 mm', 'Yes').replace(['USB Type-C', 'Lightning'], 'No')\n",
        "dfpd['Audio Jack'].unique()"
      ],
      "metadata": {
        "colab": {
          "base_uri": "https://localhost:8080/"
        },
        "id": "4hntelH2RJ5y",
        "outputId": "190f9c54-7aab-4577-db22-7895938cc925"
      },
      "execution_count": 35,
      "outputs": [
        {
          "output_type": "execute_result",
          "data": {
            "text/plain": [
              "array(['Yes', 'No'], dtype=object)"
            ]
          },
          "metadata": {},
          "execution_count": 35
        }
      ]
    },
    {
      "cell_type": "code",
      "source": [
        "\n",
        "dfpd['SIM Slot(s)'] = dfpd['SIM Slot(s)'].replace({\n",
        "    'Dual SIM, GSM+GSM': '2',\n",
        "    'Dual SIM, GSM+GSM, Dual VoLTE': '2',\n",
        "    'Single SIM, GSM': '1',\n",
        "    'Dual SIM, GSM+CDMA': '2'\n",
        "})\n",
        "\n",
        "dfpd['SIM Slot(s)'].unique()"
      ],
      "metadata": {
        "colab": {
          "base_uri": "https://localhost:8080/"
        },
        "id": "4ZXp9yI1RKBT",
        "outputId": "e41dc9f3-a0c3-483e-e480-48e0787b9616"
      },
      "execution_count": 36,
      "outputs": [
        {
          "output_type": "execute_result",
          "data": {
            "text/plain": [
              "array(['2', '1'], dtype=object)"
            ]
          },
          "metadata": {},
          "execution_count": 36
        }
      ]
    },
    {
      "cell_type": "code",
      "source": [
        "dfpd['Fingerprint Sensor'] = dfpd['Fingerprint Sensor'].fillna(dfpd['RAM'].apply(lambda x: 'Yes' if x > 6 else 'No'))"
      ],
      "metadata": {
        "id": "X8juBbkC8qbF"
      },
      "execution_count": 37,
      "outputs": []
    },
    {
      "cell_type": "code",
      "source": [
        "dfpd.dropna(subset=['Price'], inplace=True)"
      ],
      "metadata": {
        "id": "gztRmsHRY0uF"
      },
      "execution_count": 38,
      "outputs": []
    },
    {
      "cell_type": "code",
      "source": [
        "dfpd['Price'] = dfpd['Price'].str.replace('Rs. |,|\\.[0-9]+', '', regex=True)\n",
        "dfpd['Price'] = pd.to_numeric(dfpd['Price'], errors='coerce').round(-2).astype('Int64').astype(int)\n",
        "# dfpd.head()"
      ],
      "metadata": {
        "id": "dngSnjDajwwJ"
      },
      "execution_count": 39,
      "outputs": []
    },
    {
      "cell_type": "code",
      "source": [
        "dfpd.head()"
      ],
      "metadata": {
        "colab": {
          "base_uri": "https://localhost:8080/",
          "height": 334
        },
        "id": "arZ6VUxPAzey",
        "outputId": "2f24854c-a144-4bf5-f904-e11e8d3c7146"
      },
      "execution_count": 40,
      "outputs": [
        {
          "output_type": "execute_result",
          "data": {
            "text/plain": [
              "     Brand  RAM Processor  Battery  Rear Camera  Front Camera  Display  \\\n",
              "0  OnePlus    8  Qualcomm     5000          108            16      6.5   \n",
              "1   realme    6  MediaTek     5000          108            16      6.5   \n",
              "2   realme    4    Unisoc     5000           50             8      6.5   \n",
              "3  OnePlus    8  Qualcomm     5000           50            16      6.5   \n",
              "4     POCO    8  Qualcomm     5000           64            16      6.5   \n",
              "\n",
              "   Launch Date Operating System Fabrication  ... Pixel Density Refresh Rate  \\\n",
              "0         2023          Android           6  ...           350          120   \n",
              "1         2022          Android           6  ...           350          120   \n",
              "2         2023          Android          12  ...           350           90   \n",
              "3         2023          Android           4  ...           450          120   \n",
              "4         2023          Android           4  ...           350          120   \n",
              "\n",
              "   Quick Charging  USB Type-C Internal Memory Expandable Memory  Audio Jack  \\\n",
              "0             Yes         Yes             128               Yes         Yes   \n",
              "1             Yes         Yes             128                No          No   \n",
              "2             Yes         Yes              64               Yes         Yes   \n",
              "3             Yes         Yes             128                No          No   \n",
              "4             Yes         Yes             256                No         Yes   \n",
              "\n",
              "  SIM Slot(s) Fingerprint Sensor  Price  \n",
              "0           2                Yes  20000  \n",
              "1           2                Yes  24800  \n",
              "2           2                Yes   9000  \n",
              "3           2                Yes  40000  \n",
              "4           2                Yes  30000  \n",
              "\n",
              "[5 rows x 22 columns]"
            ],
            "text/html": [
              "\n",
              "  <div id=\"df-acfb67f5-c32c-4f09-8f6e-5957fb86b855\">\n",
              "    <div class=\"colab-df-container\">\n",
              "      <div>\n",
              "<style scoped>\n",
              "    .dataframe tbody tr th:only-of-type {\n",
              "        vertical-align: middle;\n",
              "    }\n",
              "\n",
              "    .dataframe tbody tr th {\n",
              "        vertical-align: top;\n",
              "    }\n",
              "\n",
              "    .dataframe thead th {\n",
              "        text-align: right;\n",
              "    }\n",
              "</style>\n",
              "<table border=\"1\" class=\"dataframe\">\n",
              "  <thead>\n",
              "    <tr style=\"text-align: right;\">\n",
              "      <th></th>\n",
              "      <th>Brand</th>\n",
              "      <th>RAM</th>\n",
              "      <th>Processor</th>\n",
              "      <th>Battery</th>\n",
              "      <th>Rear Camera</th>\n",
              "      <th>Front Camera</th>\n",
              "      <th>Display</th>\n",
              "      <th>Launch Date</th>\n",
              "      <th>Operating System</th>\n",
              "      <th>Fabrication</th>\n",
              "      <th>...</th>\n",
              "      <th>Pixel Density</th>\n",
              "      <th>Refresh Rate</th>\n",
              "      <th>Quick Charging</th>\n",
              "      <th>USB Type-C</th>\n",
              "      <th>Internal Memory</th>\n",
              "      <th>Expandable Memory</th>\n",
              "      <th>Audio Jack</th>\n",
              "      <th>SIM Slot(s)</th>\n",
              "      <th>Fingerprint Sensor</th>\n",
              "      <th>Price</th>\n",
              "    </tr>\n",
              "  </thead>\n",
              "  <tbody>\n",
              "    <tr>\n",
              "      <th>0</th>\n",
              "      <td>OnePlus</td>\n",
              "      <td>8</td>\n",
              "      <td>Qualcomm</td>\n",
              "      <td>5000</td>\n",
              "      <td>108</td>\n",
              "      <td>16</td>\n",
              "      <td>6.5</td>\n",
              "      <td>2023</td>\n",
              "      <td>Android</td>\n",
              "      <td>6</td>\n",
              "      <td>...</td>\n",
              "      <td>350</td>\n",
              "      <td>120</td>\n",
              "      <td>Yes</td>\n",
              "      <td>Yes</td>\n",
              "      <td>128</td>\n",
              "      <td>Yes</td>\n",
              "      <td>Yes</td>\n",
              "      <td>2</td>\n",
              "      <td>Yes</td>\n",
              "      <td>20000</td>\n",
              "    </tr>\n",
              "    <tr>\n",
              "      <th>1</th>\n",
              "      <td>realme</td>\n",
              "      <td>6</td>\n",
              "      <td>MediaTek</td>\n",
              "      <td>5000</td>\n",
              "      <td>108</td>\n",
              "      <td>16</td>\n",
              "      <td>6.5</td>\n",
              "      <td>2022</td>\n",
              "      <td>Android</td>\n",
              "      <td>6</td>\n",
              "      <td>...</td>\n",
              "      <td>350</td>\n",
              "      <td>120</td>\n",
              "      <td>Yes</td>\n",
              "      <td>Yes</td>\n",
              "      <td>128</td>\n",
              "      <td>No</td>\n",
              "      <td>No</td>\n",
              "      <td>2</td>\n",
              "      <td>Yes</td>\n",
              "      <td>24800</td>\n",
              "    </tr>\n",
              "    <tr>\n",
              "      <th>2</th>\n",
              "      <td>realme</td>\n",
              "      <td>4</td>\n",
              "      <td>Unisoc</td>\n",
              "      <td>5000</td>\n",
              "      <td>50</td>\n",
              "      <td>8</td>\n",
              "      <td>6.5</td>\n",
              "      <td>2023</td>\n",
              "      <td>Android</td>\n",
              "      <td>12</td>\n",
              "      <td>...</td>\n",
              "      <td>350</td>\n",
              "      <td>90</td>\n",
              "      <td>Yes</td>\n",
              "      <td>Yes</td>\n",
              "      <td>64</td>\n",
              "      <td>Yes</td>\n",
              "      <td>Yes</td>\n",
              "      <td>2</td>\n",
              "      <td>Yes</td>\n",
              "      <td>9000</td>\n",
              "    </tr>\n",
              "    <tr>\n",
              "      <th>3</th>\n",
              "      <td>OnePlus</td>\n",
              "      <td>8</td>\n",
              "      <td>Qualcomm</td>\n",
              "      <td>5000</td>\n",
              "      <td>50</td>\n",
              "      <td>16</td>\n",
              "      <td>6.5</td>\n",
              "      <td>2023</td>\n",
              "      <td>Android</td>\n",
              "      <td>4</td>\n",
              "      <td>...</td>\n",
              "      <td>450</td>\n",
              "      <td>120</td>\n",
              "      <td>Yes</td>\n",
              "      <td>Yes</td>\n",
              "      <td>128</td>\n",
              "      <td>No</td>\n",
              "      <td>No</td>\n",
              "      <td>2</td>\n",
              "      <td>Yes</td>\n",
              "      <td>40000</td>\n",
              "    </tr>\n",
              "    <tr>\n",
              "      <th>4</th>\n",
              "      <td>POCO</td>\n",
              "      <td>8</td>\n",
              "      <td>Qualcomm</td>\n",
              "      <td>5000</td>\n",
              "      <td>64</td>\n",
              "      <td>16</td>\n",
              "      <td>6.5</td>\n",
              "      <td>2023</td>\n",
              "      <td>Android</td>\n",
              "      <td>4</td>\n",
              "      <td>...</td>\n",
              "      <td>350</td>\n",
              "      <td>120</td>\n",
              "      <td>Yes</td>\n",
              "      <td>Yes</td>\n",
              "      <td>256</td>\n",
              "      <td>No</td>\n",
              "      <td>Yes</td>\n",
              "      <td>2</td>\n",
              "      <td>Yes</td>\n",
              "      <td>30000</td>\n",
              "    </tr>\n",
              "  </tbody>\n",
              "</table>\n",
              "<p>5 rows × 22 columns</p>\n",
              "</div>\n",
              "      <button class=\"colab-df-convert\" onclick=\"convertToInteractive('df-acfb67f5-c32c-4f09-8f6e-5957fb86b855')\"\n",
              "              title=\"Convert this dataframe to an interactive table.\"\n",
              "              style=\"display:none;\">\n",
              "        \n",
              "  <svg xmlns=\"http://www.w3.org/2000/svg\" height=\"24px\"viewBox=\"0 0 24 24\"\n",
              "       width=\"24px\">\n",
              "    <path d=\"M0 0h24v24H0V0z\" fill=\"none\"/>\n",
              "    <path d=\"M18.56 5.44l.94 2.06.94-2.06 2.06-.94-2.06-.94-.94-2.06-.94 2.06-2.06.94zm-11 1L8.5 8.5l.94-2.06 2.06-.94-2.06-.94L8.5 2.5l-.94 2.06-2.06.94zm10 10l.94 2.06.94-2.06 2.06-.94-2.06-.94-.94-2.06-.94 2.06-2.06.94z\"/><path d=\"M17.41 7.96l-1.37-1.37c-.4-.4-.92-.59-1.43-.59-.52 0-1.04.2-1.43.59L10.3 9.45l-7.72 7.72c-.78.78-.78 2.05 0 2.83L4 21.41c.39.39.9.59 1.41.59.51 0 1.02-.2 1.41-.59l7.78-7.78 2.81-2.81c.8-.78.8-2.07 0-2.86zM5.41 20L4 18.59l7.72-7.72 1.47 1.35L5.41 20z\"/>\n",
              "  </svg>\n",
              "      </button>\n",
              "      \n",
              "  <style>\n",
              "    .colab-df-container {\n",
              "      display:flex;\n",
              "      flex-wrap:wrap;\n",
              "      gap: 12px;\n",
              "    }\n",
              "\n",
              "    .colab-df-convert {\n",
              "      background-color: #E8F0FE;\n",
              "      border: none;\n",
              "      border-radius: 50%;\n",
              "      cursor: pointer;\n",
              "      display: none;\n",
              "      fill: #1967D2;\n",
              "      height: 32px;\n",
              "      padding: 0 0 0 0;\n",
              "      width: 32px;\n",
              "    }\n",
              "\n",
              "    .colab-df-convert:hover {\n",
              "      background-color: #E2EBFA;\n",
              "      box-shadow: 0px 1px 2px rgba(60, 64, 67, 0.3), 0px 1px 3px 1px rgba(60, 64, 67, 0.15);\n",
              "      fill: #174EA6;\n",
              "    }\n",
              "\n",
              "    [theme=dark] .colab-df-convert {\n",
              "      background-color: #3B4455;\n",
              "      fill: #D2E3FC;\n",
              "    }\n",
              "\n",
              "    [theme=dark] .colab-df-convert:hover {\n",
              "      background-color: #434B5C;\n",
              "      box-shadow: 0px 1px 3px 1px rgba(0, 0, 0, 0.15);\n",
              "      filter: drop-shadow(0px 1px 2px rgba(0, 0, 0, 0.3));\n",
              "      fill: #FFFFFF;\n",
              "    }\n",
              "  </style>\n",
              "\n",
              "      <script>\n",
              "        const buttonEl =\n",
              "          document.querySelector('#df-acfb67f5-c32c-4f09-8f6e-5957fb86b855 button.colab-df-convert');\n",
              "        buttonEl.style.display =\n",
              "          google.colab.kernel.accessAllowed ? 'block' : 'none';\n",
              "\n",
              "        async function convertToInteractive(key) {\n",
              "          const element = document.querySelector('#df-acfb67f5-c32c-4f09-8f6e-5957fb86b855');\n",
              "          const dataTable =\n",
              "            await google.colab.kernel.invokeFunction('convertToInteractive',\n",
              "                                                     [key], {});\n",
              "          if (!dataTable) return;\n",
              "\n",
              "          const docLinkHtml = 'Like what you see? Visit the ' +\n",
              "            '<a target=\"_blank\" href=https://colab.research.google.com/notebooks/data_table.ipynb>data table notebook</a>'\n",
              "            + ' to learn more about interactive tables.';\n",
              "          element.innerHTML = '';\n",
              "          dataTable['output_type'] = 'display_data';\n",
              "          await google.colab.output.renderOutput(dataTable, element);\n",
              "          const docLink = document.createElement('div');\n",
              "          docLink.innerHTML = docLinkHtml;\n",
              "          element.appendChild(docLink);\n",
              "        }\n",
              "      </script>\n",
              "    </div>\n",
              "  </div>\n",
              "  "
            ]
          },
          "metadata": {},
          "execution_count": 40
        }
      ]
    },
    {
      "cell_type": "code",
      "source": [
        "dfpd.isnull().sum()"
      ],
      "metadata": {
        "colab": {
          "base_uri": "https://localhost:8080/"
        },
        "id": "J5IpQiU0tyq_",
        "outputId": "3e80f24f-9eaa-48a4-fc59-5d267d7aac68"
      },
      "execution_count": 41,
      "outputs": [
        {
          "output_type": "execute_result",
          "data": {
            "text/plain": [
              "Brand                 0\n",
              "RAM                   0\n",
              "Processor             0\n",
              "Battery               0\n",
              "Rear Camera           0\n",
              "Front Camera          0\n",
              "Display               0\n",
              "Launch Date           0\n",
              "Operating System      0\n",
              "Fabrication           0\n",
              "Graphics              0\n",
              "Display Type          0\n",
              "Pixel Density         0\n",
              "Refresh Rate          0\n",
              "Quick Charging        0\n",
              "USB Type-C            0\n",
              "Internal Memory       0\n",
              "Expandable Memory     0\n",
              "Audio Jack            0\n",
              "SIM Slot(s)           0\n",
              "Fingerprint Sensor    0\n",
              "Price                 0\n",
              "dtype: int64"
            ]
          },
          "metadata": {},
          "execution_count": 41
        }
      ]
    },
    {
      "cell_type": "code",
      "source": [
        "dfpd.shape"
      ],
      "metadata": {
        "colab": {
          "base_uri": "https://localhost:8080/"
        },
        "id": "7ckR33SN29RO",
        "outputId": "c8572d62-444e-4ef2-88aa-48171557495a"
      },
      "execution_count": 42,
      "outputs": [
        {
          "output_type": "execute_result",
          "data": {
            "text/plain": [
              "(1207, 22)"
            ]
          },
          "metadata": {},
          "execution_count": 42
        }
      ]
    },
    {
      "cell_type": "code",
      "source": [
        "dfpd.to_csv('mobile-data-cleaned.csv')"
      ],
      "metadata": {
        "id": "avPHr77G8DCb"
      },
      "execution_count": 43,
      "outputs": []
    },
    {
      "cell_type": "code",
      "source": [
        "dfpd.describe()"
      ],
      "metadata": {
        "colab": {
          "base_uri": "https://localhost:8080/",
          "height": 382
        },
        "id": "MxUS0wT2UvtR",
        "outputId": "782e8ffb-7638-48b7-d7cd-bfdb4996f8dd"
      },
      "execution_count": 44,
      "outputs": [
        {
          "output_type": "execute_result",
          "data": {
            "text/plain": [
              "               RAM       Battery  Rear Camera  Front Camera      Display  \\\n",
              "count  1207.000000   1207.000000  1207.000000   1207.000000  1207.000000   \n",
              "mean      5.429163   4554.266777    37.542668     13.652858     6.313587   \n",
              "std       2.721405   1110.665737    29.160043      9.556047     0.514352   \n",
              "min       0.000000   1500.000000     5.000000      0.000000     3.500000   \n",
              "25%       4.000000   4000.000000    13.000000      8.000000     6.500000   \n",
              "50%       4.000000   5000.000000    48.000000     12.000000     6.500000   \n",
              "75%       8.000000   5000.000000    50.000000     16.000000     6.500000   \n",
              "max      16.000000  12000.000000   200.000000     60.000000     8.000000   \n",
              "\n",
              "       Launch Date  Pixel Density  Refresh Rate  Internal Memory  \\\n",
              "count  1207.000000    1207.000000   1207.000000      1207.000000   \n",
              "mean   2020.632974     331.690141     79.217896       108.528583   \n",
              "std       2.066556      79.672589     25.428430        84.291707   \n",
              "min    2012.000000     150.000000     60.000000         1.000000   \n",
              "25%    2020.000000     250.000000     60.000000        64.000000   \n",
              "50%    2021.000000     350.000000     60.000000       128.000000   \n",
              "75%    2022.000000     400.000000     90.000000       128.000000   \n",
              "max    2023.000000     700.000000    144.000000       512.000000   \n",
              "\n",
              "               Price  \n",
              "count    1207.000000  \n",
              "mean    22500.497100  \n",
              "std     23085.907048  \n",
              "min      6000.000000  \n",
              "25%      9700.000000  \n",
              "50%     15000.000000  \n",
              "75%     25000.000000  \n",
              "max    178000.000000  "
            ],
            "text/html": [
              "\n",
              "  <div id=\"df-ec1c78ee-c901-451f-9246-043b6873be65\">\n",
              "    <div class=\"colab-df-container\">\n",
              "      <div>\n",
              "<style scoped>\n",
              "    .dataframe tbody tr th:only-of-type {\n",
              "        vertical-align: middle;\n",
              "    }\n",
              "\n",
              "    .dataframe tbody tr th {\n",
              "        vertical-align: top;\n",
              "    }\n",
              "\n",
              "    .dataframe thead th {\n",
              "        text-align: right;\n",
              "    }\n",
              "</style>\n",
              "<table border=\"1\" class=\"dataframe\">\n",
              "  <thead>\n",
              "    <tr style=\"text-align: right;\">\n",
              "      <th></th>\n",
              "      <th>RAM</th>\n",
              "      <th>Battery</th>\n",
              "      <th>Rear Camera</th>\n",
              "      <th>Front Camera</th>\n",
              "      <th>Display</th>\n",
              "      <th>Launch Date</th>\n",
              "      <th>Pixel Density</th>\n",
              "      <th>Refresh Rate</th>\n",
              "      <th>Internal Memory</th>\n",
              "      <th>Price</th>\n",
              "    </tr>\n",
              "  </thead>\n",
              "  <tbody>\n",
              "    <tr>\n",
              "      <th>count</th>\n",
              "      <td>1207.000000</td>\n",
              "      <td>1207.000000</td>\n",
              "      <td>1207.000000</td>\n",
              "      <td>1207.000000</td>\n",
              "      <td>1207.000000</td>\n",
              "      <td>1207.000000</td>\n",
              "      <td>1207.000000</td>\n",
              "      <td>1207.000000</td>\n",
              "      <td>1207.000000</td>\n",
              "      <td>1207.000000</td>\n",
              "    </tr>\n",
              "    <tr>\n",
              "      <th>mean</th>\n",
              "      <td>5.429163</td>\n",
              "      <td>4554.266777</td>\n",
              "      <td>37.542668</td>\n",
              "      <td>13.652858</td>\n",
              "      <td>6.313587</td>\n",
              "      <td>2020.632974</td>\n",
              "      <td>331.690141</td>\n",
              "      <td>79.217896</td>\n",
              "      <td>108.528583</td>\n",
              "      <td>22500.497100</td>\n",
              "    </tr>\n",
              "    <tr>\n",
              "      <th>std</th>\n",
              "      <td>2.721405</td>\n",
              "      <td>1110.665737</td>\n",
              "      <td>29.160043</td>\n",
              "      <td>9.556047</td>\n",
              "      <td>0.514352</td>\n",
              "      <td>2.066556</td>\n",
              "      <td>79.672589</td>\n",
              "      <td>25.428430</td>\n",
              "      <td>84.291707</td>\n",
              "      <td>23085.907048</td>\n",
              "    </tr>\n",
              "    <tr>\n",
              "      <th>min</th>\n",
              "      <td>0.000000</td>\n",
              "      <td>1500.000000</td>\n",
              "      <td>5.000000</td>\n",
              "      <td>0.000000</td>\n",
              "      <td>3.500000</td>\n",
              "      <td>2012.000000</td>\n",
              "      <td>150.000000</td>\n",
              "      <td>60.000000</td>\n",
              "      <td>1.000000</td>\n",
              "      <td>6000.000000</td>\n",
              "    </tr>\n",
              "    <tr>\n",
              "      <th>25%</th>\n",
              "      <td>4.000000</td>\n",
              "      <td>4000.000000</td>\n",
              "      <td>13.000000</td>\n",
              "      <td>8.000000</td>\n",
              "      <td>6.500000</td>\n",
              "      <td>2020.000000</td>\n",
              "      <td>250.000000</td>\n",
              "      <td>60.000000</td>\n",
              "      <td>64.000000</td>\n",
              "      <td>9700.000000</td>\n",
              "    </tr>\n",
              "    <tr>\n",
              "      <th>50%</th>\n",
              "      <td>4.000000</td>\n",
              "      <td>5000.000000</td>\n",
              "      <td>48.000000</td>\n",
              "      <td>12.000000</td>\n",
              "      <td>6.500000</td>\n",
              "      <td>2021.000000</td>\n",
              "      <td>350.000000</td>\n",
              "      <td>60.000000</td>\n",
              "      <td>128.000000</td>\n",
              "      <td>15000.000000</td>\n",
              "    </tr>\n",
              "    <tr>\n",
              "      <th>75%</th>\n",
              "      <td>8.000000</td>\n",
              "      <td>5000.000000</td>\n",
              "      <td>50.000000</td>\n",
              "      <td>16.000000</td>\n",
              "      <td>6.500000</td>\n",
              "      <td>2022.000000</td>\n",
              "      <td>400.000000</td>\n",
              "      <td>90.000000</td>\n",
              "      <td>128.000000</td>\n",
              "      <td>25000.000000</td>\n",
              "    </tr>\n",
              "    <tr>\n",
              "      <th>max</th>\n",
              "      <td>16.000000</td>\n",
              "      <td>12000.000000</td>\n",
              "      <td>200.000000</td>\n",
              "      <td>60.000000</td>\n",
              "      <td>8.000000</td>\n",
              "      <td>2023.000000</td>\n",
              "      <td>700.000000</td>\n",
              "      <td>144.000000</td>\n",
              "      <td>512.000000</td>\n",
              "      <td>178000.000000</td>\n",
              "    </tr>\n",
              "  </tbody>\n",
              "</table>\n",
              "</div>\n",
              "      <button class=\"colab-df-convert\" onclick=\"convertToInteractive('df-ec1c78ee-c901-451f-9246-043b6873be65')\"\n",
              "              title=\"Convert this dataframe to an interactive table.\"\n",
              "              style=\"display:none;\">\n",
              "        \n",
              "  <svg xmlns=\"http://www.w3.org/2000/svg\" height=\"24px\"viewBox=\"0 0 24 24\"\n",
              "       width=\"24px\">\n",
              "    <path d=\"M0 0h24v24H0V0z\" fill=\"none\"/>\n",
              "    <path d=\"M18.56 5.44l.94 2.06.94-2.06 2.06-.94-2.06-.94-.94-2.06-.94 2.06-2.06.94zm-11 1L8.5 8.5l.94-2.06 2.06-.94-2.06-.94L8.5 2.5l-.94 2.06-2.06.94zm10 10l.94 2.06.94-2.06 2.06-.94-2.06-.94-.94-2.06-.94 2.06-2.06.94z\"/><path d=\"M17.41 7.96l-1.37-1.37c-.4-.4-.92-.59-1.43-.59-.52 0-1.04.2-1.43.59L10.3 9.45l-7.72 7.72c-.78.78-.78 2.05 0 2.83L4 21.41c.39.39.9.59 1.41.59.51 0 1.02-.2 1.41-.59l7.78-7.78 2.81-2.81c.8-.78.8-2.07 0-2.86zM5.41 20L4 18.59l7.72-7.72 1.47 1.35L5.41 20z\"/>\n",
              "  </svg>\n",
              "      </button>\n",
              "      \n",
              "  <style>\n",
              "    .colab-df-container {\n",
              "      display:flex;\n",
              "      flex-wrap:wrap;\n",
              "      gap: 12px;\n",
              "    }\n",
              "\n",
              "    .colab-df-convert {\n",
              "      background-color: #E8F0FE;\n",
              "      border: none;\n",
              "      border-radius: 50%;\n",
              "      cursor: pointer;\n",
              "      display: none;\n",
              "      fill: #1967D2;\n",
              "      height: 32px;\n",
              "      padding: 0 0 0 0;\n",
              "      width: 32px;\n",
              "    }\n",
              "\n",
              "    .colab-df-convert:hover {\n",
              "      background-color: #E2EBFA;\n",
              "      box-shadow: 0px 1px 2px rgba(60, 64, 67, 0.3), 0px 1px 3px 1px rgba(60, 64, 67, 0.15);\n",
              "      fill: #174EA6;\n",
              "    }\n",
              "\n",
              "    [theme=dark] .colab-df-convert {\n",
              "      background-color: #3B4455;\n",
              "      fill: #D2E3FC;\n",
              "    }\n",
              "\n",
              "    [theme=dark] .colab-df-convert:hover {\n",
              "      background-color: #434B5C;\n",
              "      box-shadow: 0px 1px 3px 1px rgba(0, 0, 0, 0.15);\n",
              "      filter: drop-shadow(0px 1px 2px rgba(0, 0, 0, 0.3));\n",
              "      fill: #FFFFFF;\n",
              "    }\n",
              "  </style>\n",
              "\n",
              "      <script>\n",
              "        const buttonEl =\n",
              "          document.querySelector('#df-ec1c78ee-c901-451f-9246-043b6873be65 button.colab-df-convert');\n",
              "        buttonEl.style.display =\n",
              "          google.colab.kernel.accessAllowed ? 'block' : 'none';\n",
              "\n",
              "        async function convertToInteractive(key) {\n",
              "          const element = document.querySelector('#df-ec1c78ee-c901-451f-9246-043b6873be65');\n",
              "          const dataTable =\n",
              "            await google.colab.kernel.invokeFunction('convertToInteractive',\n",
              "                                                     [key], {});\n",
              "          if (!dataTable) return;\n",
              "\n",
              "          const docLinkHtml = 'Like what you see? Visit the ' +\n",
              "            '<a target=\"_blank\" href=https://colab.research.google.com/notebooks/data_table.ipynb>data table notebook</a>'\n",
              "            + ' to learn more about interactive tables.';\n",
              "          element.innerHTML = '';\n",
              "          dataTable['output_type'] = 'display_data';\n",
              "          await google.colab.output.renderOutput(dataTable, element);\n",
              "          const docLink = document.createElement('div');\n",
              "          docLink.innerHTML = docLinkHtml;\n",
              "          element.appendChild(docLink);\n",
              "        }\n",
              "      </script>\n",
              "    </div>\n",
              "  </div>\n",
              "  "
            ]
          },
          "metadata": {},
          "execution_count": 44
        }
      ]
    },
    {
      "cell_type": "code",
      "source": [],
      "metadata": {
        "id": "nyPDVEy0Wq7s"
      },
      "execution_count": 44,
      "outputs": []
    }
  ]
}