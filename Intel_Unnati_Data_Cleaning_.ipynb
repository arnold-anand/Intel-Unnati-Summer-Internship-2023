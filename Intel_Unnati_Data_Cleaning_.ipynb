{
  "nbformat": 4,
  "nbformat_minor": 0,
  "metadata": {
    "colab": {
      "provenance": []
    },
    "kernelspec": {
      "name": "python3",
      "display_name": "Python 3"
    },
    "language_info": {
      "name": "python"
    }
  },
  "cells": [
    {
      "cell_type": "code",
      "source": [
        "from google.colab import drive\n",
        "drive.mount('/content/drive')"
      ],
      "metadata": {
        "colab": {
          "base_uri": "https://localhost:8080/"
        },
        "id": "dAoIayvfwdjb",
        "outputId": "9613d6d9-f791-46c8-f16d-7b611b644813"
      },
      "execution_count": 1,
      "outputs": [
        {
          "output_type": "stream",
          "name": "stdout",
          "text": [
            "Drive already mounted at /content/drive; to attempt to forcibly remount, call drive.mount(\"/content/drive\", force_remount=True).\n"
          ]
        }
      ]
    },
    {
      "cell_type": "code",
      "source": [
        "import pandas as pd\n",
        "import numpy as np\n",
        "import re"
      ],
      "metadata": {
        "id": "_mSIkfHgJUmN"
      },
      "execution_count": 2,
      "outputs": []
    },
    {
      "cell_type": "code",
      "source": [
        "df = pd.read_csv(\"/content/drive/MyDrive/mobile_data.csv\")\n",
        "df"
      ],
      "metadata": {
        "id": "_satHPVAMxg6",
        "colab": {
          "base_uri": "https://localhost:8080/",
          "height": 1000
        },
        "outputId": "0fbe2926-5a9a-47e9-f6ba-7cad30d5e6d4"
      },
      "execution_count": 3,
      "outputs": [
        {
          "output_type": "execute_result",
          "data": {
            "text/plain": [
              "         Brand                       Name   RAM  \\\n",
              "0      OnePlus  OnePlus Nord CE 3 Lite 5G  8 GB   \n",
              "1       realme      realme 10 Pro Plus 5G  6 GB   \n",
              "2       realme           realme Narzo N53  4 GB   \n",
              "3      OnePlus                OnePlus 11R  8 GB   \n",
              "4         POCO                    POCO F5  8 GB   \n",
              "...        ...                        ...   ...   \n",
              "1371       BLU                BLU G72 Max  4 GB   \n",
              "1372  Motorola           Motorola Razr 40  8 GB   \n",
              "1373     Nubia                   Nubia N5  4 GB   \n",
              "1374    Doogee                 Doogee S51  4 GB   \n",
              "1375       TCL                    TCL 408  4 GB   \n",
              "\n",
              "                             Processor   Battery           Rear Camera  \\\n",
              "0              Qualcomm Snapdragon 695  5000 mAh  108 MP + 2 MP + 2 MP   \n",
              "1      MediaTek Dimensity 1080 MT6877V  5000 mAh  108 MP + 8 MP + 2 MP   \n",
              "2                          Unisoc T612  5000 mAh                 50 MP   \n",
              "3     Qualcomm Snapdragon 8 Plus Gen 1  5000 mAh   50 MP + 8 MP + 2 MP   \n",
              "4     Qualcomm Snapdragon 7 Plus Gen 2  5000 mAh   64 MP + 8 MP + 2 MP   \n",
              "...                                ...       ...                   ...   \n",
              "1371         MediaTek Helio G37 MT6765  5000 mAh                 13 MP   \n",
              "1372       Qualcomm Snapdragon 7 Gen 1  4200 mAh         64 MP + 13 MP   \n",
              "1373                       Unisoc T700  5000 mAh                 50 MP   \n",
              "1374                MediaTek Helio G25  5180 mAh          12 MP + 2 MP   \n",
              "1375                MediaTek Helio A25  5000 mAh          50 MP + 2 MP   \n",
              "\n",
              "     Front Camera                 Display                    Launch Date  \\\n",
              "0           16 MP  6.72 inches (17.07 cm)      April 11, 2023 (Official)   \n",
              "1           16 MP   6.7 inches (17.02 cm)    December 8, 2022 (Official)   \n",
              "2            8 MP  6.74 inches (17.12 cm)        May 22, 2023 (Official)   \n",
              "3           16 MP  6.74 inches (17.12 cm)   February 21, 2023 (Official)   \n",
              "4           16 MP  6.67 inches (16.94 cm)        May 10, 2023 (Official)   \n",
              "...           ...                     ...                            ...   \n",
              "1371         8 MP   6.8 inches (17.27 cm)       June 10, 2023 (Expected)   \n",
              "1372        32 MP   6.9 inches (17.53 cm)       June 30, 2023 (Expected)   \n",
              "1373        13 MP  6.51 inches (16.54 cm)  September 20, 2023 (Expected)   \n",
              "1374         8 MP   6.0 inches (15.24 cm)       July 28, 2023 (Expected)   \n",
              "1375         8 MP   6.6 inches (16.76 cm)       June 27, 2023 (Expected)   \n",
              "\n",
              "     Operating System  ... USB Type-C  \\\n",
              "0         Android v13  ...        Yes   \n",
              "1         Android v13  ...        Yes   \n",
              "2         Android v13  ...        Yes   \n",
              "3         Android v13  ...        Yes   \n",
              "4         Android v13  ...        Yes   \n",
              "...               ...  ...        ...   \n",
              "1371      Android v12  ...        Yes   \n",
              "1372      Android v13  ...        Yes   \n",
              "1373      Android v13  ...        Yes   \n",
              "1374      Android v12  ...        Yes   \n",
              "1375      Android v12  ...        Yes   \n",
              "\n",
              "                                        Internal Memory  Expandable Memory  \\\n",
              "0     128 GB\\n                                      ...    Yes, Up to 1 TB   \n",
              "1     128 GB\\n                                      ...                 No   \n",
              "2     64 GB\\n                                       ...    Yes, Up to 2 TB   \n",
              "3     128 GB\\n                                      ...                 No   \n",
              "4                                                256 GB                 No   \n",
              "...                                                 ...                ...   \n",
              "1371  128 GB\\n                                      ...  Yes, Up to 256 GB   \n",
              "1372                                             256 GB                 No   \n",
              "1373  128 GB\\n                                      ...                NaN   \n",
              "1374  64 GB\\n                                       ...  Yes, Up to 512 GB   \n",
              "1375  64 GB\\n                                       ...  Yes, Up to 512 GB   \n",
              "\n",
              "                                               Wi-Fi  Bluetooth  \\\n",
              "0        Yes, Wi-Fi 5 (802.11 a/b/g/n/ac) 5GHz, MIMO  Yes, v5.1   \n",
              "1     Yes, Wi-Fi 6 (802.11 a/b/g/n/ac/ax) 5GHz, MIMO  Yes, v5.2   \n",
              "2              Yes, Wi-Fi 5 (802.11 a/b/g/n/ac) 5GHz  Yes, v5.0   \n",
              "3     Yes, Wi-Fi 6 (802.11 a/b/g/n/ac/ax) 5GHz, MIMO  Yes, v5.3   \n",
              "4           Yes, Wi-Fi 6 (802.11 a/b/g/n/ac/ax) 5GHz  Yes, v5.3   \n",
              "...                                              ...        ...   \n",
              "1371                Yes, Wi-Fi 5 (802.11 a/b/g/n/ac)  Yes, v5.1   \n",
              "1372  Yes, Wi-Fi 6E (802.11 a/b/g/n/ac/ax) 5GHz 6GHz  Yes, v5.3   \n",
              "1373                     Yes, Wi-Fi 4 (802.11 b/g/n)        Yes   \n",
              "1374                     Yes, Wi-Fi 4 (802.11 b/g/n)  Yes, v5.0   \n",
              "1375           Yes, Wi-Fi 5 (802.11 a/b/g/n/ac) 5GHz  Yes, v5.1   \n",
              "\n",
              "                          GPS  Audio Jack                    SIM Slot(s)  \\\n",
              "0     Yes with A-GPS, Glonass      3.5 mm              Dual SIM, GSM+GSM   \n",
              "1     Yes with A-GPS, Glonass  USB Type-C              Dual SIM, GSM+GSM   \n",
              "2     Yes with A-GPS, Glonass      3.5 mm              Dual SIM, GSM+GSM   \n",
              "3     Yes with A-GPS, Glonass  USB Type-C              Dual SIM, GSM+GSM   \n",
              "4     Yes with A-GPS, Glonass      3.5 mm  Dual SIM, GSM+GSM, Dual VoLTE   \n",
              "...                       ...         ...                            ...   \n",
              "1371           Yes with A-GPS      3.5 mm              Dual SIM, GSM+GSM   \n",
              "1372  Yes with A-GPS, Glonass  USB Type-C              Dual SIM, GSM+GSM   \n",
              "1373           Yes with A-GPS      3.5 mm              Dual SIM, GSM+GSM   \n",
              "1374  Yes with A-GPS, Glonass      3.5 mm              Dual SIM, GSM+GSM   \n",
              "1375  Yes with A-GPS, Glonass      3.5 mm              Dual SIM, GSM+GSM   \n",
              "\n",
              "     Fingerprint Sensor          Price  \n",
              "0                   Yes  Rs. 19,999.00  \n",
              "1                   Yes  Rs. 24,818.00  \n",
              "2                   Yes   Rs. 8,999.00  \n",
              "3                   Yes  Rs. 39,999.00  \n",
              "4                   Yes  Rs. 29,999.00  \n",
              "...                 ...            ...  \n",
              "1371                Yes            NaN  \n",
              "1372                Yes            NaN  \n",
              "1373                 No            NaN  \n",
              "1374                Yes            NaN  \n",
              "1375                Yes            NaN  \n",
              "\n",
              "[1376 rows x 30 columns]"
            ],
            "text/html": [
              "\n",
              "  <div id=\"df-a74938f0-01af-443f-ae3a-041d3e175204\">\n",
              "    <div class=\"colab-df-container\">\n",
              "      <div>\n",
              "<style scoped>\n",
              "    .dataframe tbody tr th:only-of-type {\n",
              "        vertical-align: middle;\n",
              "    }\n",
              "\n",
              "    .dataframe tbody tr th {\n",
              "        vertical-align: top;\n",
              "    }\n",
              "\n",
              "    .dataframe thead th {\n",
              "        text-align: right;\n",
              "    }\n",
              "</style>\n",
              "<table border=\"1\" class=\"dataframe\">\n",
              "  <thead>\n",
              "    <tr style=\"text-align: right;\">\n",
              "      <th></th>\n",
              "      <th>Brand</th>\n",
              "      <th>Name</th>\n",
              "      <th>RAM</th>\n",
              "      <th>Processor</th>\n",
              "      <th>Battery</th>\n",
              "      <th>Rear Camera</th>\n",
              "      <th>Front Camera</th>\n",
              "      <th>Display</th>\n",
              "      <th>Launch Date</th>\n",
              "      <th>Operating System</th>\n",
              "      <th>...</th>\n",
              "      <th>USB Type-C</th>\n",
              "      <th>Internal Memory</th>\n",
              "      <th>Expandable Memory</th>\n",
              "      <th>Wi-Fi</th>\n",
              "      <th>Bluetooth</th>\n",
              "      <th>GPS</th>\n",
              "      <th>Audio Jack</th>\n",
              "      <th>SIM Slot(s)</th>\n",
              "      <th>Fingerprint Sensor</th>\n",
              "      <th>Price</th>\n",
              "    </tr>\n",
              "  </thead>\n",
              "  <tbody>\n",
              "    <tr>\n",
              "      <th>0</th>\n",
              "      <td>OnePlus</td>\n",
              "      <td>OnePlus Nord CE 3 Lite 5G</td>\n",
              "      <td>8 GB</td>\n",
              "      <td>Qualcomm Snapdragon 695</td>\n",
              "      <td>5000 mAh</td>\n",
              "      <td>108 MP + 2 MP + 2 MP</td>\n",
              "      <td>16 MP</td>\n",
              "      <td>6.72 inches (17.07 cm)</td>\n",
              "      <td>April 11, 2023 (Official)</td>\n",
              "      <td>Android v13</td>\n",
              "      <td>...</td>\n",
              "      <td>Yes</td>\n",
              "      <td>128 GB\\n                                      ...</td>\n",
              "      <td>Yes, Up to 1 TB</td>\n",
              "      <td>Yes, Wi-Fi 5 (802.11 a/b/g/n/ac) 5GHz, MIMO</td>\n",
              "      <td>Yes, v5.1</td>\n",
              "      <td>Yes with A-GPS, Glonass</td>\n",
              "      <td>3.5 mm</td>\n",
              "      <td>Dual SIM, GSM+GSM</td>\n",
              "      <td>Yes</td>\n",
              "      <td>Rs. 19,999.00</td>\n",
              "    </tr>\n",
              "    <tr>\n",
              "      <th>1</th>\n",
              "      <td>realme</td>\n",
              "      <td>realme 10 Pro Plus 5G</td>\n",
              "      <td>6 GB</td>\n",
              "      <td>MediaTek Dimensity 1080 MT6877V</td>\n",
              "      <td>5000 mAh</td>\n",
              "      <td>108 MP + 8 MP + 2 MP</td>\n",
              "      <td>16 MP</td>\n",
              "      <td>6.7 inches (17.02 cm)</td>\n",
              "      <td>December 8, 2022 (Official)</td>\n",
              "      <td>Android v13</td>\n",
              "      <td>...</td>\n",
              "      <td>Yes</td>\n",
              "      <td>128 GB\\n                                      ...</td>\n",
              "      <td>No</td>\n",
              "      <td>Yes, Wi-Fi 6 (802.11 a/b/g/n/ac/ax) 5GHz, MIMO</td>\n",
              "      <td>Yes, v5.2</td>\n",
              "      <td>Yes with A-GPS, Glonass</td>\n",
              "      <td>USB Type-C</td>\n",
              "      <td>Dual SIM, GSM+GSM</td>\n",
              "      <td>Yes</td>\n",
              "      <td>Rs. 24,818.00</td>\n",
              "    </tr>\n",
              "    <tr>\n",
              "      <th>2</th>\n",
              "      <td>realme</td>\n",
              "      <td>realme Narzo N53</td>\n",
              "      <td>4 GB</td>\n",
              "      <td>Unisoc T612</td>\n",
              "      <td>5000 mAh</td>\n",
              "      <td>50 MP</td>\n",
              "      <td>8 MP</td>\n",
              "      <td>6.74 inches (17.12 cm)</td>\n",
              "      <td>May 22, 2023 (Official)</td>\n",
              "      <td>Android v13</td>\n",
              "      <td>...</td>\n",
              "      <td>Yes</td>\n",
              "      <td>64 GB\\n                                       ...</td>\n",
              "      <td>Yes, Up to 2 TB</td>\n",
              "      <td>Yes, Wi-Fi 5 (802.11 a/b/g/n/ac) 5GHz</td>\n",
              "      <td>Yes, v5.0</td>\n",
              "      <td>Yes with A-GPS, Glonass</td>\n",
              "      <td>3.5 mm</td>\n",
              "      <td>Dual SIM, GSM+GSM</td>\n",
              "      <td>Yes</td>\n",
              "      <td>Rs. 8,999.00</td>\n",
              "    </tr>\n",
              "    <tr>\n",
              "      <th>3</th>\n",
              "      <td>OnePlus</td>\n",
              "      <td>OnePlus 11R</td>\n",
              "      <td>8 GB</td>\n",
              "      <td>Qualcomm Snapdragon 8 Plus Gen 1</td>\n",
              "      <td>5000 mAh</td>\n",
              "      <td>50 MP + 8 MP + 2 MP</td>\n",
              "      <td>16 MP</td>\n",
              "      <td>6.74 inches (17.12 cm)</td>\n",
              "      <td>February 21, 2023 (Official)</td>\n",
              "      <td>Android v13</td>\n",
              "      <td>...</td>\n",
              "      <td>Yes</td>\n",
              "      <td>128 GB\\n                                      ...</td>\n",
              "      <td>No</td>\n",
              "      <td>Yes, Wi-Fi 6 (802.11 a/b/g/n/ac/ax) 5GHz, MIMO</td>\n",
              "      <td>Yes, v5.3</td>\n",
              "      <td>Yes with A-GPS, Glonass</td>\n",
              "      <td>USB Type-C</td>\n",
              "      <td>Dual SIM, GSM+GSM</td>\n",
              "      <td>Yes</td>\n",
              "      <td>Rs. 39,999.00</td>\n",
              "    </tr>\n",
              "    <tr>\n",
              "      <th>4</th>\n",
              "      <td>POCO</td>\n",
              "      <td>POCO F5</td>\n",
              "      <td>8 GB</td>\n",
              "      <td>Qualcomm Snapdragon 7 Plus Gen 2</td>\n",
              "      <td>5000 mAh</td>\n",
              "      <td>64 MP + 8 MP + 2 MP</td>\n",
              "      <td>16 MP</td>\n",
              "      <td>6.67 inches (16.94 cm)</td>\n",
              "      <td>May 10, 2023 (Official)</td>\n",
              "      <td>Android v13</td>\n",
              "      <td>...</td>\n",
              "      <td>Yes</td>\n",
              "      <td>256 GB</td>\n",
              "      <td>No</td>\n",
              "      <td>Yes, Wi-Fi 6 (802.11 a/b/g/n/ac/ax) 5GHz</td>\n",
              "      <td>Yes, v5.3</td>\n",
              "      <td>Yes with A-GPS, Glonass</td>\n",
              "      <td>3.5 mm</td>\n",
              "      <td>Dual SIM, GSM+GSM, Dual VoLTE</td>\n",
              "      <td>Yes</td>\n",
              "      <td>Rs. 29,999.00</td>\n",
              "    </tr>\n",
              "    <tr>\n",
              "      <th>...</th>\n",
              "      <td>...</td>\n",
              "      <td>...</td>\n",
              "      <td>...</td>\n",
              "      <td>...</td>\n",
              "      <td>...</td>\n",
              "      <td>...</td>\n",
              "      <td>...</td>\n",
              "      <td>...</td>\n",
              "      <td>...</td>\n",
              "      <td>...</td>\n",
              "      <td>...</td>\n",
              "      <td>...</td>\n",
              "      <td>...</td>\n",
              "      <td>...</td>\n",
              "      <td>...</td>\n",
              "      <td>...</td>\n",
              "      <td>...</td>\n",
              "      <td>...</td>\n",
              "      <td>...</td>\n",
              "      <td>...</td>\n",
              "      <td>...</td>\n",
              "    </tr>\n",
              "    <tr>\n",
              "      <th>1371</th>\n",
              "      <td>BLU</td>\n",
              "      <td>BLU G72 Max</td>\n",
              "      <td>4 GB</td>\n",
              "      <td>MediaTek Helio G37 MT6765</td>\n",
              "      <td>5000 mAh</td>\n",
              "      <td>13 MP</td>\n",
              "      <td>8 MP</td>\n",
              "      <td>6.8 inches (17.27 cm)</td>\n",
              "      <td>June 10, 2023 (Expected)</td>\n",
              "      <td>Android v12</td>\n",
              "      <td>...</td>\n",
              "      <td>Yes</td>\n",
              "      <td>128 GB\\n                                      ...</td>\n",
              "      <td>Yes, Up to 256 GB</td>\n",
              "      <td>Yes, Wi-Fi 5 (802.11 a/b/g/n/ac)</td>\n",
              "      <td>Yes, v5.1</td>\n",
              "      <td>Yes with A-GPS</td>\n",
              "      <td>3.5 mm</td>\n",
              "      <td>Dual SIM, GSM+GSM</td>\n",
              "      <td>Yes</td>\n",
              "      <td>NaN</td>\n",
              "    </tr>\n",
              "    <tr>\n",
              "      <th>1372</th>\n",
              "      <td>Motorola</td>\n",
              "      <td>Motorola Razr 40</td>\n",
              "      <td>8 GB</td>\n",
              "      <td>Qualcomm Snapdragon 7 Gen 1</td>\n",
              "      <td>4200 mAh</td>\n",
              "      <td>64 MP + 13 MP</td>\n",
              "      <td>32 MP</td>\n",
              "      <td>6.9 inches (17.53 cm)</td>\n",
              "      <td>June 30, 2023 (Expected)</td>\n",
              "      <td>Android v13</td>\n",
              "      <td>...</td>\n",
              "      <td>Yes</td>\n",
              "      <td>256 GB</td>\n",
              "      <td>No</td>\n",
              "      <td>Yes, Wi-Fi 6E (802.11 a/b/g/n/ac/ax) 5GHz 6GHz</td>\n",
              "      <td>Yes, v5.3</td>\n",
              "      <td>Yes with A-GPS, Glonass</td>\n",
              "      <td>USB Type-C</td>\n",
              "      <td>Dual SIM, GSM+GSM</td>\n",
              "      <td>Yes</td>\n",
              "      <td>NaN</td>\n",
              "    </tr>\n",
              "    <tr>\n",
              "      <th>1373</th>\n",
              "      <td>Nubia</td>\n",
              "      <td>Nubia N5</td>\n",
              "      <td>4 GB</td>\n",
              "      <td>Unisoc T700</td>\n",
              "      <td>5000 mAh</td>\n",
              "      <td>50 MP</td>\n",
              "      <td>13 MP</td>\n",
              "      <td>6.51 inches (16.54 cm)</td>\n",
              "      <td>September 20, 2023 (Expected)</td>\n",
              "      <td>Android v13</td>\n",
              "      <td>...</td>\n",
              "      <td>Yes</td>\n",
              "      <td>128 GB\\n                                      ...</td>\n",
              "      <td>NaN</td>\n",
              "      <td>Yes, Wi-Fi 4 (802.11 b/g/n)</td>\n",
              "      <td>Yes</td>\n",
              "      <td>Yes with A-GPS</td>\n",
              "      <td>3.5 mm</td>\n",
              "      <td>Dual SIM, GSM+GSM</td>\n",
              "      <td>No</td>\n",
              "      <td>NaN</td>\n",
              "    </tr>\n",
              "    <tr>\n",
              "      <th>1374</th>\n",
              "      <td>Doogee</td>\n",
              "      <td>Doogee S51</td>\n",
              "      <td>4 GB</td>\n",
              "      <td>MediaTek Helio G25</td>\n",
              "      <td>5180 mAh</td>\n",
              "      <td>12 MP + 2 MP</td>\n",
              "      <td>8 MP</td>\n",
              "      <td>6.0 inches (15.24 cm)</td>\n",
              "      <td>July 28, 2023 (Expected)</td>\n",
              "      <td>Android v12</td>\n",
              "      <td>...</td>\n",
              "      <td>Yes</td>\n",
              "      <td>64 GB\\n                                       ...</td>\n",
              "      <td>Yes, Up to 512 GB</td>\n",
              "      <td>Yes, Wi-Fi 4 (802.11 b/g/n)</td>\n",
              "      <td>Yes, v5.0</td>\n",
              "      <td>Yes with A-GPS, Glonass</td>\n",
              "      <td>3.5 mm</td>\n",
              "      <td>Dual SIM, GSM+GSM</td>\n",
              "      <td>Yes</td>\n",
              "      <td>NaN</td>\n",
              "    </tr>\n",
              "    <tr>\n",
              "      <th>1375</th>\n",
              "      <td>TCL</td>\n",
              "      <td>TCL 408</td>\n",
              "      <td>4 GB</td>\n",
              "      <td>MediaTek Helio A25</td>\n",
              "      <td>5000 mAh</td>\n",
              "      <td>50 MP + 2 MP</td>\n",
              "      <td>8 MP</td>\n",
              "      <td>6.6 inches (16.76 cm)</td>\n",
              "      <td>June 27, 2023 (Expected)</td>\n",
              "      <td>Android v12</td>\n",
              "      <td>...</td>\n",
              "      <td>Yes</td>\n",
              "      <td>64 GB\\n                                       ...</td>\n",
              "      <td>Yes, Up to 512 GB</td>\n",
              "      <td>Yes, Wi-Fi 5 (802.11 a/b/g/n/ac) 5GHz</td>\n",
              "      <td>Yes, v5.1</td>\n",
              "      <td>Yes with A-GPS, Glonass</td>\n",
              "      <td>3.5 mm</td>\n",
              "      <td>Dual SIM, GSM+GSM</td>\n",
              "      <td>Yes</td>\n",
              "      <td>NaN</td>\n",
              "    </tr>\n",
              "  </tbody>\n",
              "</table>\n",
              "<p>1376 rows × 30 columns</p>\n",
              "</div>\n",
              "      <button class=\"colab-df-convert\" onclick=\"convertToInteractive('df-a74938f0-01af-443f-ae3a-041d3e175204')\"\n",
              "              title=\"Convert this dataframe to an interactive table.\"\n",
              "              style=\"display:none;\">\n",
              "        \n",
              "  <svg xmlns=\"http://www.w3.org/2000/svg\" height=\"24px\"viewBox=\"0 0 24 24\"\n",
              "       width=\"24px\">\n",
              "    <path d=\"M0 0h24v24H0V0z\" fill=\"none\"/>\n",
              "    <path d=\"M18.56 5.44l.94 2.06.94-2.06 2.06-.94-2.06-.94-.94-2.06-.94 2.06-2.06.94zm-11 1L8.5 8.5l.94-2.06 2.06-.94-2.06-.94L8.5 2.5l-.94 2.06-2.06.94zm10 10l.94 2.06.94-2.06 2.06-.94-2.06-.94-.94-2.06-.94 2.06-2.06.94z\"/><path d=\"M17.41 7.96l-1.37-1.37c-.4-.4-.92-.59-1.43-.59-.52 0-1.04.2-1.43.59L10.3 9.45l-7.72 7.72c-.78.78-.78 2.05 0 2.83L4 21.41c.39.39.9.59 1.41.59.51 0 1.02-.2 1.41-.59l7.78-7.78 2.81-2.81c.8-.78.8-2.07 0-2.86zM5.41 20L4 18.59l7.72-7.72 1.47 1.35L5.41 20z\"/>\n",
              "  </svg>\n",
              "      </button>\n",
              "      \n",
              "  <style>\n",
              "    .colab-df-container {\n",
              "      display:flex;\n",
              "      flex-wrap:wrap;\n",
              "      gap: 12px;\n",
              "    }\n",
              "\n",
              "    .colab-df-convert {\n",
              "      background-color: #E8F0FE;\n",
              "      border: none;\n",
              "      border-radius: 50%;\n",
              "      cursor: pointer;\n",
              "      display: none;\n",
              "      fill: #1967D2;\n",
              "      height: 32px;\n",
              "      padding: 0 0 0 0;\n",
              "      width: 32px;\n",
              "    }\n",
              "\n",
              "    .colab-df-convert:hover {\n",
              "      background-color: #E2EBFA;\n",
              "      box-shadow: 0px 1px 2px rgba(60, 64, 67, 0.3), 0px 1px 3px 1px rgba(60, 64, 67, 0.15);\n",
              "      fill: #174EA6;\n",
              "    }\n",
              "\n",
              "    [theme=dark] .colab-df-convert {\n",
              "      background-color: #3B4455;\n",
              "      fill: #D2E3FC;\n",
              "    }\n",
              "\n",
              "    [theme=dark] .colab-df-convert:hover {\n",
              "      background-color: #434B5C;\n",
              "      box-shadow: 0px 1px 3px 1px rgba(0, 0, 0, 0.15);\n",
              "      filter: drop-shadow(0px 1px 2px rgba(0, 0, 0, 0.3));\n",
              "      fill: #FFFFFF;\n",
              "    }\n",
              "  </style>\n",
              "\n",
              "      <script>\n",
              "        const buttonEl =\n",
              "          document.querySelector('#df-a74938f0-01af-443f-ae3a-041d3e175204 button.colab-df-convert');\n",
              "        buttonEl.style.display =\n",
              "          google.colab.kernel.accessAllowed ? 'block' : 'none';\n",
              "\n",
              "        async function convertToInteractive(key) {\n",
              "          const element = document.querySelector('#df-a74938f0-01af-443f-ae3a-041d3e175204');\n",
              "          const dataTable =\n",
              "            await google.colab.kernel.invokeFunction('convertToInteractive',\n",
              "                                                     [key], {});\n",
              "          if (!dataTable) return;\n",
              "\n",
              "          const docLinkHtml = 'Like what you see? Visit the ' +\n",
              "            '<a target=\"_blank\" href=https://colab.research.google.com/notebooks/data_table.ipynb>data table notebook</a>'\n",
              "            + ' to learn more about interactive tables.';\n",
              "          element.innerHTML = '';\n",
              "          dataTable['output_type'] = 'display_data';\n",
              "          await google.colab.output.renderOutput(dataTable, element);\n",
              "          const docLink = document.createElement('div');\n",
              "          docLink.innerHTML = docLinkHtml;\n",
              "          element.appendChild(docLink);\n",
              "        }\n",
              "      </script>\n",
              "    </div>\n",
              "  </div>\n",
              "  "
            ]
          },
          "metadata": {},
          "execution_count": 3
        }
      ]
    },
    {
      "cell_type": "code",
      "source": [
        "df.isna().sum()"
      ],
      "metadata": {
        "colab": {
          "base_uri": "https://localhost:8080/"
        },
        "id": "JNNCC_tsM3_i",
        "outputId": "e6058e26-11eb-434d-84a2-12110bdf8b4b"
      },
      "execution_count": 4,
      "outputs": [
        {
          "output_type": "execute_result",
          "data": {
            "text/plain": [
              "Brand                     0\n",
              "Name                      0\n",
              "RAM                       3\n",
              "Processor                56\n",
              "Battery                   1\n",
              "Rear Camera               0\n",
              "Front Camera              2\n",
              "Display                   0\n",
              "Launch Date               0\n",
              "Operating System          3\n",
              "Chipset                  56\n",
              "Fabrication             219\n",
              "Graphics                 66\n",
              "Display Type              1\n",
              "Pixel Density             0\n",
              "Screen to Body Ratio    863\n",
              "Brightness              691\n",
              "Refresh Rate            549\n",
              "Capacity                  1\n",
              "Quick Charging          443\n",
              "USB Type-C               43\n",
              "Internal Memory           3\n",
              "Expandable Memory         8\n",
              "Wi-Fi                     2\n",
              "Bluetooth                 0\n",
              "GPS                       6\n",
              "Audio Jack                5\n",
              "SIM Slot(s)               0\n",
              "Fingerprint Sensor       30\n",
              "Price                   157\n",
              "dtype: int64"
            ]
          },
          "metadata": {},
          "execution_count": 4
        }
      ]
    },
    {
      "cell_type": "code",
      "source": [
        "dfpd = df.copy()\n",
        "dfpd.shape"
      ],
      "metadata": {
        "colab": {
          "base_uri": "https://localhost:8080/"
        },
        "id": "qT8sW_bMM7Im",
        "outputId": "02e8277d-4b53-45e2-f24e-51bcc54d3482"
      },
      "execution_count": 5,
      "outputs": [
        {
          "output_type": "execute_result",
          "data": {
            "text/plain": [
              "(1376, 30)"
            ]
          },
          "metadata": {},
          "execution_count": 5
        }
      ]
    },
    {
      "cell_type": "markdown",
      "source": [
        "# Data Cleaning"
      ],
      "metadata": {
        "id": "w4ZPJA3uNUBK"
      }
    },
    {
      "cell_type": "code",
      "source": [
        "dfpd.isnull().sum()"
      ],
      "metadata": {
        "id": "yaX3yjPcNDKz",
        "colab": {
          "base_uri": "https://localhost:8080/"
        },
        "outputId": "4e44464d-889f-4c3a-d1f8-a73f45e35222"
      },
      "execution_count": 6,
      "outputs": [
        {
          "output_type": "execute_result",
          "data": {
            "text/plain": [
              "Brand                     0\n",
              "Name                      0\n",
              "RAM                       3\n",
              "Processor                56\n",
              "Battery                   1\n",
              "Rear Camera               0\n",
              "Front Camera              2\n",
              "Display                   0\n",
              "Launch Date               0\n",
              "Operating System          3\n",
              "Chipset                  56\n",
              "Fabrication             219\n",
              "Graphics                 66\n",
              "Display Type              1\n",
              "Pixel Density             0\n",
              "Screen to Body Ratio    863\n",
              "Brightness              691\n",
              "Refresh Rate            549\n",
              "Capacity                  1\n",
              "Quick Charging          443\n",
              "USB Type-C               43\n",
              "Internal Memory           3\n",
              "Expandable Memory         8\n",
              "Wi-Fi                     2\n",
              "Bluetooth                 0\n",
              "GPS                       6\n",
              "Audio Jack                5\n",
              "SIM Slot(s)               0\n",
              "Fingerprint Sensor       30\n",
              "Price                   157\n",
              "dtype: int64"
            ]
          },
          "metadata": {},
          "execution_count": 6
        }
      ]
    },
    {
      "cell_type": "markdown",
      "source": [
        "## Minimising Null Values"
      ],
      "metadata": {
        "id": "wyIG5FLDUUI7"
      }
    },
    {
      "cell_type": "code",
      "source": [
        "dfpd.drop('Name', axis=1, inplace=True)\n",
        "dfpd.dropna(subset=['RAM'], inplace=True)\n",
        "dfpd['Processor'] = dfpd['Processor'].fillna('other')\n",
        "dfpd.dropna(subset=['Battery'], inplace=True)\n",
        "dfpd.dropna(subset=['Front Camera'], inplace=True)\n",
        "dfpd['Operating System'] = dfpd['Operating System'].fillna('Android')\n",
        "dfpd.drop('Chipset', axis=1, inplace=True)\n"
      ],
      "metadata": {
        "id": "vSDgDFk7047s"
      },
      "execution_count": 7,
      "outputs": []
    },
    {
      "cell_type": "code",
      "source": [
        "dfpd.drop('Screen to Body Ratio', axis=1, inplace=True)\n",
        "dfpd.drop('Brightness', axis=1, inplace=True)\n",
        "dfpd.drop('Capacity', axis=1, inplace=True)\n",
        "dfpd.dropna(subset=[\"Wi-Fi\",\"GPS\", \"Audio Jack\"], inplace=True)\n",
        "dfpd.dropna(subset=['Display Type'], inplace=True)"
      ],
      "metadata": {
        "id": "SfRIwKvEQY2q"
      },
      "execution_count": 8,
      "outputs": []
    },
    {
      "cell_type": "code",
      "source": [
        "dfpd.isnull().sum()"
      ],
      "metadata": {
        "colab": {
          "base_uri": "https://localhost:8080/"
        },
        "id": "TLnZFOcnRwEG",
        "outputId": "6e54563e-600f-43bc-ffe2-434bf8f0d5ac"
      },
      "execution_count": 9,
      "outputs": [
        {
          "output_type": "execute_result",
          "data": {
            "text/plain": [
              "Brand                   0\n",
              "RAM                     0\n",
              "Processor               0\n",
              "Battery                 0\n",
              "Rear Camera             0\n",
              "Front Camera            0\n",
              "Display                 0\n",
              "Launch Date             0\n",
              "Operating System        0\n",
              "Fabrication           209\n",
              "Graphics               59\n",
              "Display Type            0\n",
              "Pixel Density           0\n",
              "Refresh Rate          537\n",
              "Quick Charging        432\n",
              "USB Type-C             36\n",
              "Internal Memory         0\n",
              "Expandable Memory       8\n",
              "Wi-Fi                   0\n",
              "Bluetooth               0\n",
              "GPS                     0\n",
              "Audio Jack              0\n",
              "SIM Slot(s)             0\n",
              "Fingerprint Sensor     22\n",
              "Price                 156\n",
              "dtype: int64"
            ]
          },
          "metadata": {},
          "execution_count": 9
        }
      ]
    },
    {
      "cell_type": "code",
      "source": [
        "import re\n",
        "def extract_numeric_value(value):\n",
        "    numeric_value = re.findall(r'\\d+', value)\n",
        "    if len(numeric_value) > 0:\n",
        "        numeric_value = int(numeric_value[0])\n",
        "        if 'MB' in value:\n",
        "            numeric_value = int(numeric_value / 1024)\n",
        "    return numeric_value\n",
        "dfpd['RAM'] = dfpd['RAM'].apply(extract_numeric_value)"
      ],
      "metadata": {
        "id": "7UMK6gn04COY"
      },
      "execution_count": 10,
      "outputs": []
    },
    {
      "cell_type": "code",
      "source": [
        "def proc(value):\n",
        "  temp = value.split()\n",
        "  return temp[0].strip()\n",
        "dfpd['Processor'] = dfpd['Processor'].apply(proc)\n",
        "dfpd['Processor'].unique()"
      ],
      "metadata": {
        "colab": {
          "base_uri": "https://localhost:8080/"
        },
        "id": "o0B8xVEVIzRX",
        "outputId": "bfcb4a93-0246-4d63-c365-d9c1b0262eab"
      },
      "execution_count": 11,
      "outputs": [
        {
          "output_type": "execute_result",
          "data": {
            "text/plain": [
              "array(['Qualcomm', 'MediaTek', 'Unisoc', 'Samsung', 'Apple', 'Google',\n",
              "       'HiSilicon', 'other', 'Spreadtrum'], dtype=object)"
            ]
          },
          "metadata": {},
          "execution_count": 11
        }
      ]
    },
    {
      "cell_type": "code",
      "source": [
        "dfpd['Battery'] = dfpd['Battery'].str.extract('(\\d+)', expand=False).astype(int)\n",
        "# dfpd['Battery'] = np.round(dfpd['Battery'] / 500) * 500\n",
        "dfpd['Battery'] = dfpd['Battery'].astype(int)\n",
        "dfpd['Battery'].unique()"
      ],
      "metadata": {
        "colab": {
          "base_uri": "https://localhost:8080/"
        },
        "id": "lKBlM2CRLBJ0",
        "outputId": "4dc5072e-caac-4be5-a546-40839986203f"
      },
      "execution_count": 12,
      "outputs": [
        {
          "output_type": "execute_result",
          "data": {
            "text/plain": [
              "array([ 5000,  4500,  4600,  4700,  4980,  4323,  6000,  4820,  4385,\n",
              "        3279,  3227,  3900,  4800,  4020,  4410,  4810,  5080,  3110,\n",
              "        4870,  4355,  3700,  2815,  4000,  3200,  4325,  4200,  4830,\n",
              "        4610,  4400,  4100,  5003,  4614,  5020,  4350,  3095,  4050,\n",
              "        2227,  4352,  4300,  4520,  3400,  7000,  5160,  3800,  4310,\n",
              "        2942,  2716,  4015,  3100,  3500,  1821,  4250,  3046,  4025,\n",
              "        3140,  4680,  3300,  3000,  2915,  5050,  2675,  2018,  4230,\n",
              "        3969,  3080,  4030,  2800,  4440,  5200,  5065,  3230,  3060,\n",
              "       10800,  2500,  2515,  9600,  3430,  3315,  3225,  3260,  3055,\n",
              "        8000,  2730,  2350,  2630,  5300,  5180,  3520,  2000,  2550,\n",
              "        2300, 10000,  3340,  2100,  4950,  4010,  3360,  1500,  2900,\n",
              "       12000,  2200,  3050,  2650,  1900,  2600,  3950,  2990,  3030,\n",
              "        3750,  3020,  2406,  8380,  3687,  2400,  2150,  6600,  6150,\n",
              "        1800, 10850,  8300,  2050,  2700,  2750,  2820,  2910,  2680,\n",
              "        5500,  4821,  4860,  5100,  4815,  5450,  5010])"
            ]
          },
          "metadata": {},
          "execution_count": 12
        }
      ]
    },
    {
      "cell_type": "code",
      "source": [
        "dfpd['Rear Camera'] = [int(float(i.split('+')[0].strip().split()[0])) for i in dfpd['Rear Camera']]"
      ],
      "metadata": {
        "id": "1sfUK1Onq7xX"
      },
      "execution_count": 13,
      "outputs": []
    },
    {
      "cell_type": "code",
      "source": [
        "dfpd['Front Camera'] = [int(float(i.split('+')[0].strip().split()[0])) for i in dfpd['Front Camera']]"
      ],
      "metadata": {
        "id": "O3vPFLrnxzP5"
      },
      "execution_count": 14,
      "outputs": []
    },
    {
      "cell_type": "code",
      "source": [
        "import numpy as np\n",
        "dfpd['Display'] = dfpd['Display'].str.extract(r'([\\d.]+)').astype(float)\n",
        "# dfpd['Display'] = np.round(dfpd['Display'] * 2) / 2"
      ],
      "metadata": {
        "id": "oTJ7MTRqzAEB"
      },
      "execution_count": 15,
      "outputs": []
    },
    {
      "cell_type": "code",
      "source": [
        "dfpd['Launch Date'] = [int(i.split()[2]) for i in dfpd['Launch Date']]"
      ],
      "metadata": {
        "id": "yw2DLa_M0fBb"
      },
      "execution_count": 16,
      "outputs": []
    },
    {
      "cell_type": "code",
      "source": [
        "import re\n",
        "dfpd['Operating System'] = dfpd['Operating System'].str.extract(r'(Android|iOS)', flags=re.IGNORECASE).fillna('Other')\n",
        "dfpd['Operating System'].unique()"
      ],
      "metadata": {
        "colab": {
          "base_uri": "https://localhost:8080/"
        },
        "id": "iPhtGRu7HFLz",
        "outputId": "d511cf98-a0dc-446e-b514-390a7062e58b"
      },
      "execution_count": 17,
      "outputs": [
        {
          "output_type": "execute_result",
          "data": {
            "text/plain": [
              "array(['Android', 'iOS', 'Other'], dtype=object)"
            ]
          },
          "metadata": {},
          "execution_count": 17
        }
      ]
    },
    {
      "cell_type": "code",
      "source": [
        "import re\n",
        "def fab(value):\n",
        "  if value ==None or value =='nan':\n",
        "    pass\n",
        "  else:\n",
        "    fab = re.sub('[^0-9]', '', str(value))\n",
        "    return fab\n",
        "dfpd['Fabrication'] = dfpd['Fabrication'].apply(fab)"
      ],
      "metadata": {
        "id": "td4YcUdBSH7u"
      },
      "execution_count": 18,
      "outputs": []
    },
    {
      "cell_type": "code",
      "source": [
        "dfpd['Fabrication'] = dfpd['Fabrication'].replace('',dfpd['Fabrication'].mode()[0]).astype(int)\n",
        "dfpd['Fabrication'].unique()"
      ],
      "metadata": {
        "colab": {
          "base_uri": "https://localhost:8080/"
        },
        "id": "djoWmIk0G0dF",
        "outputId": "2d92b552-9c52-48a7-9995-1f2afb62d85d"
      },
      "execution_count": 19,
      "outputs": [
        {
          "output_type": "execute_result",
          "data": {
            "text/plain": [
              "array([ 6, 12,  4,  5,  7,  8, 11, 28, 10, 22, 14, 16, 20])"
            ]
          },
          "metadata": {},
          "execution_count": 19
        }
      ]
    },
    {
      "cell_type": "code",
      "source": [
        "dfpd['Graphics'] = dfpd['Graphics'].str.split(' |-').str[0]"
      ],
      "metadata": {
        "id": "_E2zNG0eZG7F"
      },
      "execution_count": 20,
      "outputs": []
    },
    {
      "cell_type": "code",
      "source": [
        "dfpd['Graphics'] = dfpd['Graphics'].fillna(dfpd['Graphics'].mode()[0])\n",
        "dfpd['Graphics'].unique()"
      ],
      "metadata": {
        "colab": {
          "base_uri": "https://localhost:8080/"
        },
        "id": "vWN0YI-uHb79",
        "outputId": "5f09faf8-eef7-4924-c6a2-3060ee42807b"
      },
      "execution_count": 21,
      "outputs": [
        {
          "output_type": "execute_result",
          "data": {
            "text/plain": [
              "array(['Adreno', 'Mali', 'Apple', 'Immortalis', 'PowerVR', 'IMG'],\n",
              "      dtype=object)"
            ]
          },
          "metadata": {},
          "execution_count": 21
        }
      ]
    },
    {
      "cell_type": "code",
      "source": [
        "dfpd['Display Type'] = dfpd['Display Type'].str.lower()\n",
        "dfpd['Display Type'] = dfpd['Display Type'].str.replace(r'.*amoled.*', 'AMOLED', regex=True)\n",
        "dfpd['Display Type'] = dfpd['Display Type'].str.replace(r'.*lcd.*', 'LCD', regex=True)\n",
        "dfpd['Display Type'] = dfpd['Display Type'].str.replace(r'.*tft.*', 'TFT', regex=True)\n",
        "dfpd['Display Type'] = dfpd['Display Type'].str.replace(r'.*oled.*', 'OLED', regex=True)\n",
        "\n",
        "dfpd['Display Type'].unique()"
      ],
      "metadata": {
        "colab": {
          "base_uri": "https://localhost:8080/"
        },
        "id": "B8VBITkEKJye",
        "outputId": "1a873aad-3b62-469b-9cdd-88e119fece28"
      },
      "execution_count": 22,
      "outputs": [
        {
          "output_type": "execute_result",
          "data": {
            "text/plain": [
              "array(['LCD', 'AMOLED', 'OLED', 'TFT'], dtype=object)"
            ]
          },
          "metadata": {},
          "execution_count": 22
        }
      ]
    },
    {
      "cell_type": "code",
      "source": [
        "dfpd['Pixel Density'] = dfpd['Pixel Density'].str.extract('(\\d+)', expand=False).astype(int)\n",
        "# dfpd['Pixel Density'] = (dfpd['Pixel Density'] // 50) * 50\n",
        "dfpd['Pixel Density'].unique()"
      ],
      "metadata": {
        "colab": {
          "base_uri": "https://localhost:8080/"
        },
        "id": "WeWUj8nNKJ82",
        "outputId": "668fa709-b7b9-427b-b58c-159c3b801e5c"
      },
      "execution_count": 23,
      "outputs": [
        {
          "output_type": "execute_result",
          "data": {
            "text/plain": [
              "array([392, 394, 390, 451, 395, 403, 401, 413, 501, 400, 411, 388, 398,\n",
              "       409, 526, 460, 521, 405, 431, 402, 457, 422, 269, 453, 268, 407,\n",
              "       393, 324, 418, 518, 509, 516, 424, 461, 399, 270, 513, 410, 396,\n",
              "       267, 387, 477, 373, 495, 566, 551, 385, 274, 263, 389, 463, 494,\n",
              "       465, 326, 426, 404, 531, 444, 415, 514, 568, 439, 278, 524, 456,\n",
              "       283, 443, 266, 264, 372, 271, 522, 745, 425, 435, 220, 291, 256,\n",
              "       282, 258, 293, 311, 441, 299, 432, 287, 294, 344, 537, 378, 163,\n",
              "       218, 257, 273, 252, 295, 337, 233, 197, 310, 196, 247, 285, 312,\n",
              "       296, 427, 342, 171, 179, 275, 178, 215, 170, 510, 414, 643, 515,\n",
              "       449, 406, 391, 370, 260, 360, 423, 436, 437, 376, 265])"
            ]
          },
          "metadata": {},
          "execution_count": 23
        }
      ]
    },
    {
      "cell_type": "code",
      "source": [
        "dfpd['Refresh Rate'] = dfpd['Refresh Rate'].str.extract('(\\d+)', expand=False).astype(float).fillna(0).astype(int)\n",
        "dfpd['Refresh Rate'] = dfpd['Refresh Rate'].replace(0, 60)\n",
        "dfpd['Refresh Rate'].unique()\n"
      ],
      "metadata": {
        "colab": {
          "base_uri": "https://localhost:8080/"
        },
        "id": "EJquEiL7KTb9",
        "outputId": "191196fd-b5bf-4c9e-9046-5d1f49326c50"
      },
      "execution_count": 24,
      "outputs": [
        {
          "output_type": "execute_result",
          "data": {
            "text/plain": [
              "array([120,  90,  60, 144, 165])"
            ]
          },
          "metadata": {},
          "execution_count": 24
        }
      ]
    },
    {
      "cell_type": "code",
      "source": [
        "dfpd['Quick Charging'] = dfpd['Quick Charging'].str.contains('Yes').fillna(False).map({True: 'Yes', False: 'No'})\n",
        "dfpd['Quick Charging'].unique()"
      ],
      "metadata": {
        "colab": {
          "base_uri": "https://localhost:8080/"
        },
        "id": "qfV2Q9zMBFqT",
        "outputId": "01c1d48b-3d0f-45c9-d381-5dbf82c3d8d9"
      },
      "execution_count": 25,
      "outputs": [
        {
          "output_type": "execute_result",
          "data": {
            "text/plain": [
              "array(['Yes', 'No'], dtype=object)"
            ]
          },
          "metadata": {},
          "execution_count": 25
        }
      ]
    },
    {
      "cell_type": "code",
      "source": [
        "launch_date_counts = {}\n",
        "for date in dfpd['Launch Date'].unique():\n",
        "    count = dfpd.loc[dfpd['Launch Date'] == date, 'USB Type-C'].eq('Yes').sum()\n",
        "    launch_date_counts[date] = count\n",
        "launch_date_counts"
      ],
      "metadata": {
        "colab": {
          "base_uri": "https://localhost:8080/"
        },
        "id": "wOcfiSni-Bi1",
        "outputId": "3a5a06a7-b7c7-47b7-bb3d-5c893dd04847"
      },
      "execution_count": 26,
      "outputs": [
        {
          "output_type": "execute_result",
          "data": {
            "text/plain": [
              "{2023: 292,\n",
              " 2022: 308,\n",
              " 2021: 202,\n",
              " 2019: 33,\n",
              " 2020: 81,\n",
              " 2018: 22,\n",
              " 2017: 6,\n",
              " 2016: 1,\n",
              " 2015: 0,\n",
              " 2014: 0,\n",
              " 2013: 0,\n",
              " 2012: 0}"
            ]
          },
          "metadata": {},
          "execution_count": 26
        }
      ]
    },
    {
      "cell_type": "code",
      "source": [
        "dfpd.loc[dfpd['USB Type-C'].isnull(), 'USB Type-C'] = np.where(dfpd.loc[dfpd['USB Type-C'].isnull(), 'Launch Date'].astype(str).str[-4:].astype(int) >= 2020, 'Yes', 'No')\n",
        "dfpd['USB Type-C'].unique()"
      ],
      "metadata": {
        "colab": {
          "base_uri": "https://localhost:8080/"
        },
        "id": "c6OB1PkLAfTz",
        "outputId": "75d395a4-6846-4288-cf3e-db31b5f439b1"
      },
      "execution_count": 27,
      "outputs": [
        {
          "output_type": "execute_result",
          "data": {
            "text/plain": [
              "array(['Yes', 'No'], dtype=object)"
            ]
          },
          "metadata": {},
          "execution_count": 27
        }
      ]
    },
    {
      "cell_type": "code",
      "source": [
        "dfpd['Internal Memory'] = dfpd['Internal Memory'].str.extract(r'(\\d+)', expand=False).astype(int)\n",
        "dfpd['Internal Memory'].unique()"
      ],
      "metadata": {
        "colab": {
          "base_uri": "https://localhost:8080/"
        },
        "id": "9UOv2iAuI5bR",
        "outputId": "015f1210-f8d2-4e3f-bc81-e87c9b958101"
      },
      "execution_count": 28,
      "outputs": [
        {
          "output_type": "execute_result",
          "data": {
            "text/plain": [
              "array([128,  64, 256,  32,   1, 512,  16,   8,   4])"
            ]
          },
          "metadata": {},
          "execution_count": 28
        }
      ]
    },
    {
      "cell_type": "code",
      "source": [
        "dfpd['Expandable Memory'] = dfpd['Expandable Memory'].str.contains('Yes').fillna(False).map({True: 'Yes', False: 'No'})\n",
        "dfpd['Expandable Memory'].unique()"
      ],
      "metadata": {
        "colab": {
          "base_uri": "https://localhost:8080/"
        },
        "id": "UoNxns_SC8LV",
        "outputId": "f6a5bf02-a031-41ce-ac0e-f3ea24a23fbe"
      },
      "execution_count": 29,
      "outputs": [
        {
          "output_type": "execute_result",
          "data": {
            "text/plain": [
              "array(['Yes', 'No'], dtype=object)"
            ]
          },
          "metadata": {},
          "execution_count": 29
        }
      ]
    },
    {
      "cell_type": "code",
      "source": [
        "dfpd['Wi-Fi'] = dfpd['Wi-Fi'].str.contains('Yes').fillna(False).map({True: 'Yes', False: 'No'})\n",
        "dfpd['Wi-Fi'].unique()"
      ],
      "metadata": {
        "colab": {
          "base_uri": "https://localhost:8080/"
        },
        "id": "jnK8rKoYCc9I",
        "outputId": "ca9a9db9-bc15-4166-aab1-a7b52e957fe2"
      },
      "execution_count": 30,
      "outputs": [
        {
          "output_type": "execute_result",
          "data": {
            "text/plain": [
              "array(['Yes'], dtype=object)"
            ]
          },
          "metadata": {},
          "execution_count": 30
        }
      ]
    },
    {
      "cell_type": "code",
      "source": [
        "dfpd.drop('Wi-Fi', axis=1, inplace=True)"
      ],
      "metadata": {
        "id": "5itKmsQSJyy2"
      },
      "execution_count": 31,
      "outputs": []
    },
    {
      "cell_type": "code",
      "source": [
        "dfpd['Bluetooth'] = dfpd['Bluetooth'].str.contains('Yes').fillna(False).map({True: 'Yes', False: 'No'})\n",
        "dfpd['Bluetooth'].unique()"
      ],
      "metadata": {
        "colab": {
          "base_uri": "https://localhost:8080/"
        },
        "id": "qTWQnY64Cy9G",
        "outputId": "b50f49bf-2e8d-43e5-ef0b-0e1ad38f399e"
      },
      "execution_count": 32,
      "outputs": [
        {
          "output_type": "execute_result",
          "data": {
            "text/plain": [
              "array(['Yes'], dtype=object)"
            ]
          },
          "metadata": {},
          "execution_count": 32
        }
      ]
    },
    {
      "cell_type": "code",
      "source": [
        "dfpd.drop('Bluetooth', axis=1, inplace=True)"
      ],
      "metadata": {
        "id": "DrXs5kMiJ13d"
      },
      "execution_count": 33,
      "outputs": []
    },
    {
      "cell_type": "code",
      "source": [
        "dfpd['GPS'] = dfpd['GPS'].str.contains('Yes').fillna(False).map({True: 'Yes', False: 'No'})\n",
        "dfpd.drop('GPS', axis=1, inplace=True)"
      ],
      "metadata": {
        "id": "majMnhbHDvxX"
      },
      "execution_count": 34,
      "outputs": []
    },
    {
      "cell_type": "code",
      "source": [
        "dfpd['Audio Jack'] = dfpd['Audio Jack'].replace('3.5 mm', 'Yes').replace(['USB Type-C', 'Lightning'], 'No')\n",
        "dfpd['Audio Jack'].unique()"
      ],
      "metadata": {
        "colab": {
          "base_uri": "https://localhost:8080/"
        },
        "id": "4hntelH2RJ5y",
        "outputId": "a757357b-7f41-40a9-c5b6-30784011ad7b"
      },
      "execution_count": 35,
      "outputs": [
        {
          "output_type": "execute_result",
          "data": {
            "text/plain": [
              "array(['Yes', 'No'], dtype=object)"
            ]
          },
          "metadata": {},
          "execution_count": 35
        }
      ]
    },
    {
      "cell_type": "code",
      "source": [
        "\n",
        "dfpd['SIM Slot(s)'] = dfpd['SIM Slot(s)'].replace({\n",
        "    'Dual SIM, GSM+GSM': '2',\n",
        "    'Dual SIM, GSM+GSM, Dual VoLTE': '2',\n",
        "    'Single SIM, GSM': '1',\n",
        "    'Dual SIM, GSM+CDMA': '2'\n",
        "})\n",
        "\n",
        "dfpd['SIM Slot(s)'] = dfpd['SIM Slot(s)'].astype(int)\n",
        "dfpd['SIM Slot(s)'].unique()"
      ],
      "metadata": {
        "colab": {
          "base_uri": "https://localhost:8080/"
        },
        "id": "4ZXp9yI1RKBT",
        "outputId": "5897d69d-b425-4d61-c3aa-d9bc8062f608"
      },
      "execution_count": 36,
      "outputs": [
        {
          "output_type": "execute_result",
          "data": {
            "text/plain": [
              "array([2, 1])"
            ]
          },
          "metadata": {},
          "execution_count": 36
        }
      ]
    },
    {
      "cell_type": "code",
      "source": [
        "dfpd['Fingerprint Sensor'] = dfpd['Fingerprint Sensor'].fillna(dfpd['RAM'].apply(lambda x: 'Yes' if x > 6 else 'No'))"
      ],
      "metadata": {
        "id": "X8juBbkC8qbF"
      },
      "execution_count": 37,
      "outputs": []
    },
    {
      "cell_type": "code",
      "source": [
        "dfpd.dropna(subset=['Price'], inplace=True)"
      ],
      "metadata": {
        "id": "gztRmsHRY0uF"
      },
      "execution_count": 38,
      "outputs": []
    },
    {
      "cell_type": "code",
      "source": [
        "dfpd['Price'] = dfpd['Price'].str.replace('Rs. |,|\\.[0-9]+', '', regex=True)\n",
        "dfpd['Price'] = pd.to_numeric(dfpd['Price'], errors='coerce').round(-2).astype('Int64').astype(int)\n",
        "\n",
        "# dfpd.head()"
      ],
      "metadata": {
        "id": "dngSnjDajwwJ"
      },
      "execution_count": 39,
      "outputs": []
    },
    {
      "cell_type": "code",
      "source": [
        "dfpd.head()"
      ],
      "metadata": {
        "colab": {
          "base_uri": "https://localhost:8080/",
          "height": 264
        },
        "id": "arZ6VUxPAzey",
        "outputId": "1575704f-d064-4b10-fcbd-1ad41ab2fb57"
      },
      "execution_count": 40,
      "outputs": [
        {
          "output_type": "execute_result",
          "data": {
            "text/plain": [
              "     Brand  RAM Processor  Battery  Rear Camera  Front Camera  Display  \\\n",
              "0  OnePlus    8  Qualcomm     5000          108            16     6.72   \n",
              "1   realme    6  MediaTek     5000          108            16     6.70   \n",
              "2   realme    4    Unisoc     5000           50             8     6.74   \n",
              "3  OnePlus    8  Qualcomm     5000           50            16     6.74   \n",
              "4     POCO    8  Qualcomm     5000           64            16     6.67   \n",
              "\n",
              "   Launch Date Operating System  Fabrication  ... Pixel Density Refresh Rate  \\\n",
              "0         2023          Android            6  ...           392          120   \n",
              "1         2022          Android            6  ...           394          120   \n",
              "2         2023          Android           12  ...           390           90   \n",
              "3         2023          Android            4  ...           451          120   \n",
              "4         2023          Android            4  ...           395          120   \n",
              "\n",
              "   Quick Charging  USB Type-C Internal Memory Expandable Memory  Audio Jack  \\\n",
              "0             Yes         Yes             128               Yes         Yes   \n",
              "1             Yes         Yes             128                No          No   \n",
              "2             Yes         Yes              64               Yes         Yes   \n",
              "3             Yes         Yes             128                No          No   \n",
              "4             Yes         Yes             256                No         Yes   \n",
              "\n",
              "  SIM Slot(s) Fingerprint Sensor  Price  \n",
              "0           2                Yes  20000  \n",
              "1           2                Yes  24800  \n",
              "2           2                Yes   9000  \n",
              "3           2                Yes  40000  \n",
              "4           2                Yes  30000  \n",
              "\n",
              "[5 rows x 22 columns]"
            ],
            "text/html": [
              "\n",
              "  <div id=\"df-bf3fcf5d-e2c8-4807-b5ce-1269a744b0f4\">\n",
              "    <div class=\"colab-df-container\">\n",
              "      <div>\n",
              "<style scoped>\n",
              "    .dataframe tbody tr th:only-of-type {\n",
              "        vertical-align: middle;\n",
              "    }\n",
              "\n",
              "    .dataframe tbody tr th {\n",
              "        vertical-align: top;\n",
              "    }\n",
              "\n",
              "    .dataframe thead th {\n",
              "        text-align: right;\n",
              "    }\n",
              "</style>\n",
              "<table border=\"1\" class=\"dataframe\">\n",
              "  <thead>\n",
              "    <tr style=\"text-align: right;\">\n",
              "      <th></th>\n",
              "      <th>Brand</th>\n",
              "      <th>RAM</th>\n",
              "      <th>Processor</th>\n",
              "      <th>Battery</th>\n",
              "      <th>Rear Camera</th>\n",
              "      <th>Front Camera</th>\n",
              "      <th>Display</th>\n",
              "      <th>Launch Date</th>\n",
              "      <th>Operating System</th>\n",
              "      <th>Fabrication</th>\n",
              "      <th>...</th>\n",
              "      <th>Pixel Density</th>\n",
              "      <th>Refresh Rate</th>\n",
              "      <th>Quick Charging</th>\n",
              "      <th>USB Type-C</th>\n",
              "      <th>Internal Memory</th>\n",
              "      <th>Expandable Memory</th>\n",
              "      <th>Audio Jack</th>\n",
              "      <th>SIM Slot(s)</th>\n",
              "      <th>Fingerprint Sensor</th>\n",
              "      <th>Price</th>\n",
              "    </tr>\n",
              "  </thead>\n",
              "  <tbody>\n",
              "    <tr>\n",
              "      <th>0</th>\n",
              "      <td>OnePlus</td>\n",
              "      <td>8</td>\n",
              "      <td>Qualcomm</td>\n",
              "      <td>5000</td>\n",
              "      <td>108</td>\n",
              "      <td>16</td>\n",
              "      <td>6.72</td>\n",
              "      <td>2023</td>\n",
              "      <td>Android</td>\n",
              "      <td>6</td>\n",
              "      <td>...</td>\n",
              "      <td>392</td>\n",
              "      <td>120</td>\n",
              "      <td>Yes</td>\n",
              "      <td>Yes</td>\n",
              "      <td>128</td>\n",
              "      <td>Yes</td>\n",
              "      <td>Yes</td>\n",
              "      <td>2</td>\n",
              "      <td>Yes</td>\n",
              "      <td>20000</td>\n",
              "    </tr>\n",
              "    <tr>\n",
              "      <th>1</th>\n",
              "      <td>realme</td>\n",
              "      <td>6</td>\n",
              "      <td>MediaTek</td>\n",
              "      <td>5000</td>\n",
              "      <td>108</td>\n",
              "      <td>16</td>\n",
              "      <td>6.70</td>\n",
              "      <td>2022</td>\n",
              "      <td>Android</td>\n",
              "      <td>6</td>\n",
              "      <td>...</td>\n",
              "      <td>394</td>\n",
              "      <td>120</td>\n",
              "      <td>Yes</td>\n",
              "      <td>Yes</td>\n",
              "      <td>128</td>\n",
              "      <td>No</td>\n",
              "      <td>No</td>\n",
              "      <td>2</td>\n",
              "      <td>Yes</td>\n",
              "      <td>24800</td>\n",
              "    </tr>\n",
              "    <tr>\n",
              "      <th>2</th>\n",
              "      <td>realme</td>\n",
              "      <td>4</td>\n",
              "      <td>Unisoc</td>\n",
              "      <td>5000</td>\n",
              "      <td>50</td>\n",
              "      <td>8</td>\n",
              "      <td>6.74</td>\n",
              "      <td>2023</td>\n",
              "      <td>Android</td>\n",
              "      <td>12</td>\n",
              "      <td>...</td>\n",
              "      <td>390</td>\n",
              "      <td>90</td>\n",
              "      <td>Yes</td>\n",
              "      <td>Yes</td>\n",
              "      <td>64</td>\n",
              "      <td>Yes</td>\n",
              "      <td>Yes</td>\n",
              "      <td>2</td>\n",
              "      <td>Yes</td>\n",
              "      <td>9000</td>\n",
              "    </tr>\n",
              "    <tr>\n",
              "      <th>3</th>\n",
              "      <td>OnePlus</td>\n",
              "      <td>8</td>\n",
              "      <td>Qualcomm</td>\n",
              "      <td>5000</td>\n",
              "      <td>50</td>\n",
              "      <td>16</td>\n",
              "      <td>6.74</td>\n",
              "      <td>2023</td>\n",
              "      <td>Android</td>\n",
              "      <td>4</td>\n",
              "      <td>...</td>\n",
              "      <td>451</td>\n",
              "      <td>120</td>\n",
              "      <td>Yes</td>\n",
              "      <td>Yes</td>\n",
              "      <td>128</td>\n",
              "      <td>No</td>\n",
              "      <td>No</td>\n",
              "      <td>2</td>\n",
              "      <td>Yes</td>\n",
              "      <td>40000</td>\n",
              "    </tr>\n",
              "    <tr>\n",
              "      <th>4</th>\n",
              "      <td>POCO</td>\n",
              "      <td>8</td>\n",
              "      <td>Qualcomm</td>\n",
              "      <td>5000</td>\n",
              "      <td>64</td>\n",
              "      <td>16</td>\n",
              "      <td>6.67</td>\n",
              "      <td>2023</td>\n",
              "      <td>Android</td>\n",
              "      <td>4</td>\n",
              "      <td>...</td>\n",
              "      <td>395</td>\n",
              "      <td>120</td>\n",
              "      <td>Yes</td>\n",
              "      <td>Yes</td>\n",
              "      <td>256</td>\n",
              "      <td>No</td>\n",
              "      <td>Yes</td>\n",
              "      <td>2</td>\n",
              "      <td>Yes</td>\n",
              "      <td>30000</td>\n",
              "    </tr>\n",
              "  </tbody>\n",
              "</table>\n",
              "<p>5 rows × 22 columns</p>\n",
              "</div>\n",
              "      <button class=\"colab-df-convert\" onclick=\"convertToInteractive('df-bf3fcf5d-e2c8-4807-b5ce-1269a744b0f4')\"\n",
              "              title=\"Convert this dataframe to an interactive table.\"\n",
              "              style=\"display:none;\">\n",
              "        \n",
              "  <svg xmlns=\"http://www.w3.org/2000/svg\" height=\"24px\"viewBox=\"0 0 24 24\"\n",
              "       width=\"24px\">\n",
              "    <path d=\"M0 0h24v24H0V0z\" fill=\"none\"/>\n",
              "    <path d=\"M18.56 5.44l.94 2.06.94-2.06 2.06-.94-2.06-.94-.94-2.06-.94 2.06-2.06.94zm-11 1L8.5 8.5l.94-2.06 2.06-.94-2.06-.94L8.5 2.5l-.94 2.06-2.06.94zm10 10l.94 2.06.94-2.06 2.06-.94-2.06-.94-.94-2.06-.94 2.06-2.06.94z\"/><path d=\"M17.41 7.96l-1.37-1.37c-.4-.4-.92-.59-1.43-.59-.52 0-1.04.2-1.43.59L10.3 9.45l-7.72 7.72c-.78.78-.78 2.05 0 2.83L4 21.41c.39.39.9.59 1.41.59.51 0 1.02-.2 1.41-.59l7.78-7.78 2.81-2.81c.8-.78.8-2.07 0-2.86zM5.41 20L4 18.59l7.72-7.72 1.47 1.35L5.41 20z\"/>\n",
              "  </svg>\n",
              "      </button>\n",
              "      \n",
              "  <style>\n",
              "    .colab-df-container {\n",
              "      display:flex;\n",
              "      flex-wrap:wrap;\n",
              "      gap: 12px;\n",
              "    }\n",
              "\n",
              "    .colab-df-convert {\n",
              "      background-color: #E8F0FE;\n",
              "      border: none;\n",
              "      border-radius: 50%;\n",
              "      cursor: pointer;\n",
              "      display: none;\n",
              "      fill: #1967D2;\n",
              "      height: 32px;\n",
              "      padding: 0 0 0 0;\n",
              "      width: 32px;\n",
              "    }\n",
              "\n",
              "    .colab-df-convert:hover {\n",
              "      background-color: #E2EBFA;\n",
              "      box-shadow: 0px 1px 2px rgba(60, 64, 67, 0.3), 0px 1px 3px 1px rgba(60, 64, 67, 0.15);\n",
              "      fill: #174EA6;\n",
              "    }\n",
              "\n",
              "    [theme=dark] .colab-df-convert {\n",
              "      background-color: #3B4455;\n",
              "      fill: #D2E3FC;\n",
              "    }\n",
              "\n",
              "    [theme=dark] .colab-df-convert:hover {\n",
              "      background-color: #434B5C;\n",
              "      box-shadow: 0px 1px 3px 1px rgba(0, 0, 0, 0.15);\n",
              "      filter: drop-shadow(0px 1px 2px rgba(0, 0, 0, 0.3));\n",
              "      fill: #FFFFFF;\n",
              "    }\n",
              "  </style>\n",
              "\n",
              "      <script>\n",
              "        const buttonEl =\n",
              "          document.querySelector('#df-bf3fcf5d-e2c8-4807-b5ce-1269a744b0f4 button.colab-df-convert');\n",
              "        buttonEl.style.display =\n",
              "          google.colab.kernel.accessAllowed ? 'block' : 'none';\n",
              "\n",
              "        async function convertToInteractive(key) {\n",
              "          const element = document.querySelector('#df-bf3fcf5d-e2c8-4807-b5ce-1269a744b0f4');\n",
              "          const dataTable =\n",
              "            await google.colab.kernel.invokeFunction('convertToInteractive',\n",
              "                                                     [key], {});\n",
              "          if (!dataTable) return;\n",
              "\n",
              "          const docLinkHtml = 'Like what you see? Visit the ' +\n",
              "            '<a target=\"_blank\" href=https://colab.research.google.com/notebooks/data_table.ipynb>data table notebook</a>'\n",
              "            + ' to learn more about interactive tables.';\n",
              "          element.innerHTML = '';\n",
              "          dataTable['output_type'] = 'display_data';\n",
              "          await google.colab.output.renderOutput(dataTable, element);\n",
              "          const docLink = document.createElement('div');\n",
              "          docLink.innerHTML = docLinkHtml;\n",
              "          element.appendChild(docLink);\n",
              "        }\n",
              "      </script>\n",
              "    </div>\n",
              "  </div>\n",
              "  "
            ]
          },
          "metadata": {},
          "execution_count": 40
        },
        {
          "output_type": "stream",
          "name": "stdout",
          "text": [
            "Warning: Total number of columns (22) exceeds max_columns (20) limiting to first (20) columns.\n"
          ]
        }
      ]
    },
    {
      "cell_type": "code",
      "source": [
        "dfpd.isnull().sum()"
      ],
      "metadata": {
        "colab": {
          "base_uri": "https://localhost:8080/"
        },
        "id": "J5IpQiU0tyq_",
        "outputId": "bc5a3e4e-39b4-4ccf-8025-1f4a7d89fb44"
      },
      "execution_count": 41,
      "outputs": [
        {
          "output_type": "execute_result",
          "data": {
            "text/plain": [
              "Brand                 0\n",
              "RAM                   0\n",
              "Processor             0\n",
              "Battery               0\n",
              "Rear Camera           0\n",
              "Front Camera          0\n",
              "Display               0\n",
              "Launch Date           0\n",
              "Operating System      0\n",
              "Fabrication           0\n",
              "Graphics              0\n",
              "Display Type          0\n",
              "Pixel Density         0\n",
              "Refresh Rate          0\n",
              "Quick Charging        0\n",
              "USB Type-C            0\n",
              "Internal Memory       0\n",
              "Expandable Memory     0\n",
              "Audio Jack            0\n",
              "SIM Slot(s)           0\n",
              "Fingerprint Sensor    0\n",
              "Price                 0\n",
              "dtype: int64"
            ]
          },
          "metadata": {},
          "execution_count": 41
        }
      ]
    },
    {
      "cell_type": "code",
      "source": [
        "dfpd.shape"
      ],
      "metadata": {
        "colab": {
          "base_uri": "https://localhost:8080/"
        },
        "id": "7ckR33SN29RO",
        "outputId": "e2604858-51b9-44ea-ccf2-139662d7933d"
      },
      "execution_count": 42,
      "outputs": [
        {
          "output_type": "execute_result",
          "data": {
            "text/plain": [
              "(1207, 22)"
            ]
          },
          "metadata": {},
          "execution_count": 42
        }
      ]
    },
    {
      "cell_type": "code",
      "source": [
        "dfpd.to_csv('mobile-data-cleaned.csv')"
      ],
      "metadata": {
        "id": "avPHr77G8DCb"
      },
      "execution_count": 43,
      "outputs": []
    },
    {
      "cell_type": "code",
      "source": [
        "dfpd.describe()"
      ],
      "metadata": {
        "colab": {
          "base_uri": "https://localhost:8080/",
          "height": 382
        },
        "id": "MxUS0wT2UvtR",
        "outputId": "16eeafe2-e3f7-4f66-8f45-8945fce08023"
      },
      "execution_count": 44,
      "outputs": [
        {
          "output_type": "execute_result",
          "data": {
            "text/plain": [
              "               RAM       Battery  Rear Camera  Front Camera      Display  \\\n",
              "count  1207.000000   1207.000000  1207.000000   1207.000000  1207.000000   \n",
              "mean      5.429163   4558.351284    37.542668     13.652858     6.337697   \n",
              "std       2.721405   1105.652222    29.160043      9.556047     0.505951   \n",
              "min       0.000000   1500.000000     5.000000      0.000000     3.500000   \n",
              "25%       4.000000   4000.000000    13.000000      8.000000     6.300000   \n",
              "50%       4.000000   5000.000000    48.000000     12.000000     6.500000   \n",
              "75%       8.000000   5000.000000    50.000000     16.000000     6.600000   \n",
              "max      16.000000  12000.000000   200.000000     60.000000     7.850000   \n",
              "\n",
              "       Launch Date  Fabrication  Pixel Density  Refresh Rate  Internal Memory  \\\n",
              "count  1207.000000  1207.000000    1207.000000   1207.000000      1207.000000   \n",
              "mean   2020.632974     9.986744     353.244408     79.217896       108.528583   \n",
              "std       2.066556     4.550052      76.626676     25.428430        84.291707   \n",
              "min    2012.000000     4.000000     163.000000     60.000000         1.000000   \n",
              "25%    2020.000000     6.000000     270.000000     60.000000        64.000000   \n",
              "50%    2021.000000    12.000000     395.000000     60.000000       128.000000   \n",
              "75%    2022.000000    12.000000     403.000000     90.000000       128.000000   \n",
              "max    2023.000000    28.000000     745.000000    144.000000       512.000000   \n",
              "\n",
              "       SIM Slot(s)          Price  \n",
              "count  1207.000000    1207.000000  \n",
              "mean      1.985087   22500.497100  \n",
              "std       0.121255   23085.907048  \n",
              "min       1.000000    6000.000000  \n",
              "25%       2.000000    9700.000000  \n",
              "50%       2.000000   15000.000000  \n",
              "75%       2.000000   25000.000000  \n",
              "max       2.000000  178000.000000  "
            ],
            "text/html": [
              "\n",
              "  <div id=\"df-9dccaaed-ad1e-429c-96da-e4294c4a0c52\">\n",
              "    <div class=\"colab-df-container\">\n",
              "      <div>\n",
              "<style scoped>\n",
              "    .dataframe tbody tr th:only-of-type {\n",
              "        vertical-align: middle;\n",
              "    }\n",
              "\n",
              "    .dataframe tbody tr th {\n",
              "        vertical-align: top;\n",
              "    }\n",
              "\n",
              "    .dataframe thead th {\n",
              "        text-align: right;\n",
              "    }\n",
              "</style>\n",
              "<table border=\"1\" class=\"dataframe\">\n",
              "  <thead>\n",
              "    <tr style=\"text-align: right;\">\n",
              "      <th></th>\n",
              "      <th>RAM</th>\n",
              "      <th>Battery</th>\n",
              "      <th>Rear Camera</th>\n",
              "      <th>Front Camera</th>\n",
              "      <th>Display</th>\n",
              "      <th>Launch Date</th>\n",
              "      <th>Fabrication</th>\n",
              "      <th>Pixel Density</th>\n",
              "      <th>Refresh Rate</th>\n",
              "      <th>Internal Memory</th>\n",
              "      <th>SIM Slot(s)</th>\n",
              "      <th>Price</th>\n",
              "    </tr>\n",
              "  </thead>\n",
              "  <tbody>\n",
              "    <tr>\n",
              "      <th>count</th>\n",
              "      <td>1207.000000</td>\n",
              "      <td>1207.000000</td>\n",
              "      <td>1207.000000</td>\n",
              "      <td>1207.000000</td>\n",
              "      <td>1207.000000</td>\n",
              "      <td>1207.000000</td>\n",
              "      <td>1207.000000</td>\n",
              "      <td>1207.000000</td>\n",
              "      <td>1207.000000</td>\n",
              "      <td>1207.000000</td>\n",
              "      <td>1207.000000</td>\n",
              "      <td>1207.000000</td>\n",
              "    </tr>\n",
              "    <tr>\n",
              "      <th>mean</th>\n",
              "      <td>5.429163</td>\n",
              "      <td>4558.351284</td>\n",
              "      <td>37.542668</td>\n",
              "      <td>13.652858</td>\n",
              "      <td>6.337697</td>\n",
              "      <td>2020.632974</td>\n",
              "      <td>9.986744</td>\n",
              "      <td>353.244408</td>\n",
              "      <td>79.217896</td>\n",
              "      <td>108.528583</td>\n",
              "      <td>1.985087</td>\n",
              "      <td>22500.497100</td>\n",
              "    </tr>\n",
              "    <tr>\n",
              "      <th>std</th>\n",
              "      <td>2.721405</td>\n",
              "      <td>1105.652222</td>\n",
              "      <td>29.160043</td>\n",
              "      <td>9.556047</td>\n",
              "      <td>0.505951</td>\n",
              "      <td>2.066556</td>\n",
              "      <td>4.550052</td>\n",
              "      <td>76.626676</td>\n",
              "      <td>25.428430</td>\n",
              "      <td>84.291707</td>\n",
              "      <td>0.121255</td>\n",
              "      <td>23085.907048</td>\n",
              "    </tr>\n",
              "    <tr>\n",
              "      <th>min</th>\n",
              "      <td>0.000000</td>\n",
              "      <td>1500.000000</td>\n",
              "      <td>5.000000</td>\n",
              "      <td>0.000000</td>\n",
              "      <td>3.500000</td>\n",
              "      <td>2012.000000</td>\n",
              "      <td>4.000000</td>\n",
              "      <td>163.000000</td>\n",
              "      <td>60.000000</td>\n",
              "      <td>1.000000</td>\n",
              "      <td>1.000000</td>\n",
              "      <td>6000.000000</td>\n",
              "    </tr>\n",
              "    <tr>\n",
              "      <th>25%</th>\n",
              "      <td>4.000000</td>\n",
              "      <td>4000.000000</td>\n",
              "      <td>13.000000</td>\n",
              "      <td>8.000000</td>\n",
              "      <td>6.300000</td>\n",
              "      <td>2020.000000</td>\n",
              "      <td>6.000000</td>\n",
              "      <td>270.000000</td>\n",
              "      <td>60.000000</td>\n",
              "      <td>64.000000</td>\n",
              "      <td>2.000000</td>\n",
              "      <td>9700.000000</td>\n",
              "    </tr>\n",
              "    <tr>\n",
              "      <th>50%</th>\n",
              "      <td>4.000000</td>\n",
              "      <td>5000.000000</td>\n",
              "      <td>48.000000</td>\n",
              "      <td>12.000000</td>\n",
              "      <td>6.500000</td>\n",
              "      <td>2021.000000</td>\n",
              "      <td>12.000000</td>\n",
              "      <td>395.000000</td>\n",
              "      <td>60.000000</td>\n",
              "      <td>128.000000</td>\n",
              "      <td>2.000000</td>\n",
              "      <td>15000.000000</td>\n",
              "    </tr>\n",
              "    <tr>\n",
              "      <th>75%</th>\n",
              "      <td>8.000000</td>\n",
              "      <td>5000.000000</td>\n",
              "      <td>50.000000</td>\n",
              "      <td>16.000000</td>\n",
              "      <td>6.600000</td>\n",
              "      <td>2022.000000</td>\n",
              "      <td>12.000000</td>\n",
              "      <td>403.000000</td>\n",
              "      <td>90.000000</td>\n",
              "      <td>128.000000</td>\n",
              "      <td>2.000000</td>\n",
              "      <td>25000.000000</td>\n",
              "    </tr>\n",
              "    <tr>\n",
              "      <th>max</th>\n",
              "      <td>16.000000</td>\n",
              "      <td>12000.000000</td>\n",
              "      <td>200.000000</td>\n",
              "      <td>60.000000</td>\n",
              "      <td>7.850000</td>\n",
              "      <td>2023.000000</td>\n",
              "      <td>28.000000</td>\n",
              "      <td>745.000000</td>\n",
              "      <td>144.000000</td>\n",
              "      <td>512.000000</td>\n",
              "      <td>2.000000</td>\n",
              "      <td>178000.000000</td>\n",
              "    </tr>\n",
              "  </tbody>\n",
              "</table>\n",
              "</div>\n",
              "      <button class=\"colab-df-convert\" onclick=\"convertToInteractive('df-9dccaaed-ad1e-429c-96da-e4294c4a0c52')\"\n",
              "              title=\"Convert this dataframe to an interactive table.\"\n",
              "              style=\"display:none;\">\n",
              "        \n",
              "  <svg xmlns=\"http://www.w3.org/2000/svg\" height=\"24px\"viewBox=\"0 0 24 24\"\n",
              "       width=\"24px\">\n",
              "    <path d=\"M0 0h24v24H0V0z\" fill=\"none\"/>\n",
              "    <path d=\"M18.56 5.44l.94 2.06.94-2.06 2.06-.94-2.06-.94-.94-2.06-.94 2.06-2.06.94zm-11 1L8.5 8.5l.94-2.06 2.06-.94-2.06-.94L8.5 2.5l-.94 2.06-2.06.94zm10 10l.94 2.06.94-2.06 2.06-.94-2.06-.94-.94-2.06-.94 2.06-2.06.94z\"/><path d=\"M17.41 7.96l-1.37-1.37c-.4-.4-.92-.59-1.43-.59-.52 0-1.04.2-1.43.59L10.3 9.45l-7.72 7.72c-.78.78-.78 2.05 0 2.83L4 21.41c.39.39.9.59 1.41.59.51 0 1.02-.2 1.41-.59l7.78-7.78 2.81-2.81c.8-.78.8-2.07 0-2.86zM5.41 20L4 18.59l7.72-7.72 1.47 1.35L5.41 20z\"/>\n",
              "  </svg>\n",
              "      </button>\n",
              "      \n",
              "  <style>\n",
              "    .colab-df-container {\n",
              "      display:flex;\n",
              "      flex-wrap:wrap;\n",
              "      gap: 12px;\n",
              "    }\n",
              "\n",
              "    .colab-df-convert {\n",
              "      background-color: #E8F0FE;\n",
              "      border: none;\n",
              "      border-radius: 50%;\n",
              "      cursor: pointer;\n",
              "      display: none;\n",
              "      fill: #1967D2;\n",
              "      height: 32px;\n",
              "      padding: 0 0 0 0;\n",
              "      width: 32px;\n",
              "    }\n",
              "\n",
              "    .colab-df-convert:hover {\n",
              "      background-color: #E2EBFA;\n",
              "      box-shadow: 0px 1px 2px rgba(60, 64, 67, 0.3), 0px 1px 3px 1px rgba(60, 64, 67, 0.15);\n",
              "      fill: #174EA6;\n",
              "    }\n",
              "\n",
              "    [theme=dark] .colab-df-convert {\n",
              "      background-color: #3B4455;\n",
              "      fill: #D2E3FC;\n",
              "    }\n",
              "\n",
              "    [theme=dark] .colab-df-convert:hover {\n",
              "      background-color: #434B5C;\n",
              "      box-shadow: 0px 1px 3px 1px rgba(0, 0, 0, 0.15);\n",
              "      filter: drop-shadow(0px 1px 2px rgba(0, 0, 0, 0.3));\n",
              "      fill: #FFFFFF;\n",
              "    }\n",
              "  </style>\n",
              "\n",
              "      <script>\n",
              "        const buttonEl =\n",
              "          document.querySelector('#df-9dccaaed-ad1e-429c-96da-e4294c4a0c52 button.colab-df-convert');\n",
              "        buttonEl.style.display =\n",
              "          google.colab.kernel.accessAllowed ? 'block' : 'none';\n",
              "\n",
              "        async function convertToInteractive(key) {\n",
              "          const element = document.querySelector('#df-9dccaaed-ad1e-429c-96da-e4294c4a0c52');\n",
              "          const dataTable =\n",
              "            await google.colab.kernel.invokeFunction('convertToInteractive',\n",
              "                                                     [key], {});\n",
              "          if (!dataTable) return;\n",
              "\n",
              "          const docLinkHtml = 'Like what you see? Visit the ' +\n",
              "            '<a target=\"_blank\" href=https://colab.research.google.com/notebooks/data_table.ipynb>data table notebook</a>'\n",
              "            + ' to learn more about interactive tables.';\n",
              "          element.innerHTML = '';\n",
              "          dataTable['output_type'] = 'display_data';\n",
              "          await google.colab.output.renderOutput(dataTable, element);\n",
              "          const docLink = document.createElement('div');\n",
              "          docLink.innerHTML = docLinkHtml;\n",
              "          element.appendChild(docLink);\n",
              "        }\n",
              "      </script>\n",
              "    </div>\n",
              "  </div>\n",
              "  "
            ]
          },
          "metadata": {},
          "execution_count": 44
        }
      ]
    },
    {
      "cell_type": "markdown",
      "source": [
        "**Label Encoding**"
      ],
      "metadata": {
        "id": "n2r_2Cxe5znW"
      }
    },
    {
      "cell_type": "code",
      "source": [
        "from sklearn import preprocessing\n",
        "label_encoder = preprocessing.LabelEncoder()\n",
        "\n",
        "dfpd['Brand']= label_encoder.fit_transform(dfpd['Brand'])\n",
        "dfpd['Processor']= label_encoder.fit_transform(dfpd['Processor'])\n",
        "dfpd['Operating System']= label_encoder.fit_transform(dfpd['Operating System'])\n",
        "dfpd['Graphics']= label_encoder.fit_transform(dfpd['Graphics'])\n",
        "dfpd['Display Type']= label_encoder.fit_transform(dfpd['Display Type'])\n",
        "dfpd['Quick Charging']= label_encoder.fit_transform(dfpd['Quick Charging'])\n",
        "dfpd['USB Type-C']= label_encoder.fit_transform(dfpd['USB Type-C'])\n",
        "dfpd['Expandable Memory']= label_encoder.fit_transform(dfpd['Expandable Memory'])\n",
        "dfpd['Audio Jack']= label_encoder.fit_transform(dfpd['Audio Jack'])\n",
        "dfpd['Fingerprint Sensor']= label_encoder.fit_transform(dfpd['Fingerprint Sensor'])"
      ],
      "metadata": {
        "id": "R9WC7p0n4LlY"
      },
      "execution_count": 45,
      "outputs": []
    },
    {
      "cell_type": "code",
      "source": [
        "dfpd.dtypes"
      ],
      "metadata": {
        "colab": {
          "base_uri": "https://localhost:8080/"
        },
        "id": "alOstuBG8v2Q",
        "outputId": "da7a143f-4b7f-4dea-911c-1a1259c39a37"
      },
      "execution_count": 46,
      "outputs": [
        {
          "output_type": "execute_result",
          "data": {
            "text/plain": [
              "Brand                   int64\n",
              "RAM                     int64\n",
              "Processor               int64\n",
              "Battery                 int64\n",
              "Rear Camera             int64\n",
              "Front Camera            int64\n",
              "Display               float64\n",
              "Launch Date             int64\n",
              "Operating System        int64\n",
              "Fabrication             int64\n",
              "Graphics                int64\n",
              "Display Type            int64\n",
              "Pixel Density           int64\n",
              "Refresh Rate            int64\n",
              "Quick Charging          int64\n",
              "USB Type-C              int64\n",
              "Internal Memory         int64\n",
              "Expandable Memory       int64\n",
              "Audio Jack              int64\n",
              "SIM Slot(s)             int64\n",
              "Fingerprint Sensor      int64\n",
              "Price                   int64\n",
              "dtype: object"
            ]
          },
          "metadata": {},
          "execution_count": 46
        }
      ]
    },
    {
      "cell_type": "markdown",
      "source": [
        "## Data Visualization"
      ],
      "metadata": {
        "id": "nr3BtBuq-y5z"
      }
    },
    {
      "cell_type": "code",
      "source": [
        "import seaborn as sns\n",
        "sns.heatmap(dfpd.corr())"
      ],
      "metadata": {
        "colab": {
          "base_uri": "https://localhost:8080/",
          "height": 582
        },
        "id": "0oSo69XHAHzc",
        "outputId": "a6efed1f-824e-4e5c-8511-cae020069f61"
      },
      "execution_count": 47,
      "outputs": [
        {
          "output_type": "execute_result",
          "data": {
            "text/plain": [
              "<Axes: >"
            ]
          },
          "metadata": {},
          "execution_count": 47
        },
        {
          "output_type": "display_data",
          "data": {
            "text/plain": [
              "<Figure size 640x480 with 2 Axes>"
            ],
            "image/png": "[encoded data removed]"
          },
          "metadata": {}
        }
      ]
    },
    {
      "cell_type": "code",
      "source": [
        "dfpd[dfpd.skew().idxmax()].plot(kind = 'density')"
      ],
      "metadata": {
        "colab": {
          "base_uri": "https://localhost:8080/",
          "height": 448
        },
        "id": "DyTAJnJS9SQh",
        "outputId": "623294a2-4a0c-4b61-d02b-3aa235e322b1"
      },
      "execution_count": 48,
      "outputs": [
        {
          "output_type": "execute_result",
          "data": {
            "text/plain": [
              "<Axes: ylabel='Density'>"
            ]
          },
          "metadata": {},
          "execution_count": 48
        },
        {
          "output_type": "display_data",
          "data": {
            "text/plain": [
              "<Figure size 640x480 with 1 Axes>"
            ],
            "image/png": "[encoded data removed]"
          },
          "metadata": {}
        }
      ]
    },
    {
      "cell_type": "code",
      "source": [
        "dfpd[dfpd.skew().idxmin()].plot(kind = 'density')"
      ],
      "metadata": {
        "colab": {
          "base_uri": "https://localhost:8080/",
          "height": 452
        },
        "id": "ZeeYm3CLNaSB",
        "outputId": "cf7834ad-e744-4f35-aed2-a77ce6fe1dea"
      },
      "execution_count": 49,
      "outputs": [
        {
          "output_type": "execute_result",
          "data": {
            "text/plain": [
              "<Axes: ylabel='Density'>"
            ]
          },
          "metadata": {},
          "execution_count": 49
        },
        {
          "output_type": "display_data",
          "data": {
            "text/plain": [
              "<Figure size 640x480 with 1 Axes>"
            ],
            "image/png": "[encoded data removed]"
          },
          "metadata": {}
        }
      ]
    },
    {
      "cell_type": "code",
      "source": [
        "# import seaborn as sns\n",
        "# sns.pairplot(data=dfpd)"
      ],
      "metadata": {
        "id": "t4VvXg1O9l5n"
      },
      "execution_count": 50,
      "outputs": []
    },
    {
      "cell_type": "markdown",
      "source": [
        "## Removing Outliers "
      ],
      "metadata": {
        "id": "zPExExy5OzU-"
      }
    },
    {
      "cell_type": "code",
      "source": [
        "# Find and display duplicate rows in the DataFrame\n",
        "duplicate_rows = dfpd[dfpd.duplicated()]\n",
        "duplicate_rows\n",
        "dfpd.shape"
      ],
      "metadata": {
        "colab": {
          "base_uri": "https://localhost:8080/"
        },
        "id": "s731QkMZ94jS",
        "outputId": "20a33b23-15d0-426c-f8de-e7b34664478e"
      },
      "execution_count": 51,
      "outputs": [
        {
          "output_type": "execute_result",
          "data": {
            "text/plain": [
              "(1207, 22)"
            ]
          },
          "metadata": {},
          "execution_count": 51
        }
      ]
    },
    {
      "cell_type": "code",
      "source": [
        "dfpd = dfpd.drop_duplicates()\n",
        "dfpd.dtypes"
      ],
      "metadata": {
        "colab": {
          "base_uri": "https://localhost:8080/"
        },
        "id": "621ppSMWQ18O",
        "outputId": "282bebf7-57fa-40b9-f7c2-8dae2b57512d"
      },
      "execution_count": 52,
      "outputs": [
        {
          "output_type": "execute_result",
          "data": {
            "text/plain": [
              "Brand                   int64\n",
              "RAM                     int64\n",
              "Processor               int64\n",
              "Battery                 int64\n",
              "Rear Camera             int64\n",
              "Front Camera            int64\n",
              "Display               float64\n",
              "Launch Date             int64\n",
              "Operating System        int64\n",
              "Fabrication             int64\n",
              "Graphics                int64\n",
              "Display Type            int64\n",
              "Pixel Density           int64\n",
              "Refresh Rate            int64\n",
              "Quick Charging          int64\n",
              "USB Type-C              int64\n",
              "Internal Memory         int64\n",
              "Expandable Memory       int64\n",
              "Audio Jack              int64\n",
              "SIM Slot(s)             int64\n",
              "Fingerprint Sensor      int64\n",
              "Price                   int64\n",
              "dtype: object"
            ]
          },
          "metadata": {},
          "execution_count": 52
        }
      ]
    },
    {
      "cell_type": "code",
      "source": [
        "import pandas as pd\n",
        "from scipy.stats import zscore\n",
        "\n",
        "# Calculate Z-scores for each column in the DataFrame\n",
        "dfpd_zscore = dfpd.apply(zscore)\n",
        "\n",
        "# Set the threshold for Z-score outlier removal\n",
        "zscore_threshold = 3\n",
        "\n",
        "# Filter the DataFrame to exclude rows with Z-score outliers\n",
        "dfpd_filtered = dfpd[(dfpd_zscore < zscore_threshold).all(axis=1)]\n",
        "\n",
        "# Print the updated DataFrame\n",
        "print(\"DataFrame after removing rows based on Z-score:\")\n",
        "dfpd_filtered.shape\n"
      ],
      "metadata": {
        "colab": {
          "base_uri": "https://localhost:8080/"
        },
        "id": "mvZIVN8mCe3x",
        "outputId": "6dede4d0-2427-41a9-c4cb-cff63d27587b"
      },
      "execution_count": 53,
      "outputs": [
        {
          "output_type": "stream",
          "name": "stdout",
          "text": [
            "DataFrame after removing rows based on Z-score:\n"
          ]
        },
        {
          "output_type": "execute_result",
          "data": {
            "text/plain": [
              "(969, 22)"
            ]
          },
          "metadata": {},
          "execution_count": 53
        }
      ]
    },
    {
      "cell_type": "code",
      "source": [
        "dfpd_filtered.isnull().sum()"
      ],
      "metadata": {
        "colab": {
          "base_uri": "https://localhost:8080/"
        },
        "id": "Jle7ixSTD0Ek",
        "outputId": "f2e53b6b-d135-4047-cad2-7c4c7178413f"
      },
      "execution_count": 54,
      "outputs": [
        {
          "output_type": "execute_result",
          "data": {
            "text/plain": [
              "Brand                 0\n",
              "RAM                   0\n",
              "Processor             0\n",
              "Battery               0\n",
              "Rear Camera           0\n",
              "Front Camera          0\n",
              "Display               0\n",
              "Launch Date           0\n",
              "Operating System      0\n",
              "Fabrication           0\n",
              "Graphics              0\n",
              "Display Type          0\n",
              "Pixel Density         0\n",
              "Refresh Rate          0\n",
              "Quick Charging        0\n",
              "USB Type-C            0\n",
              "Internal Memory       0\n",
              "Expandable Memory     0\n",
              "Audio Jack            0\n",
              "SIM Slot(s)           0\n",
              "Fingerprint Sensor    0\n",
              "Price                 0\n",
              "dtype: int64"
            ]
          },
          "metadata": {},
          "execution_count": 54
        }
      ]
    },
    {
      "cell_type": "code",
      "source": [
        "dfpd_filtered.to_csv(\"mobile-data-no-outliers.csv\")"
      ],
      "metadata": {
        "id": "k4WS7Bv6Cf9H"
      },
      "execution_count": 55,
      "outputs": []
    },
    {
      "cell_type": "code",
      "source": [
        "from sklearn import preprocessing\n",
        "\n",
        "columns_to_scale = [col for col in dfpd_filtered.columns if col not in ['Brand', 'Processor', 'Operating System', 'Graphics', 'Display Type', 'Quick Charging', 'USB Type-C', 'Expandable Memory', 'Audio Jack', 'Fingerprint Sensor']]\n",
        "\n",
        "\n",
        "# Perform Z-score scaling\n",
        "scaler = preprocessing.MinMaxScaler()\n",
        "dfpd_scaled = scaler.fit_transform(dfpd_filtered[columns_to_scale])\n",
        "\n",
        "# Create a new DataFrame with the scaled values\n",
        "dfpd_scaled = pd.DataFrame(dfpd_scaled, columns=columns_to_scale)\n",
        "\n",
        "# Concatenate the scaled columns with the remaining columns from the original DataFrame\n",
        "dfpd_scaled = pd.concat([dfpd_scaled, dfpd_filtered.drop(columns=columns_to_scale)], axis=1)\n",
        "dfpd_scaled.dropna(inplace=True)\n",
        "dfpd_scaled.to_csv('mobile-data-scaled.csv', index=False)"
      ],
      "metadata": {
        "id": "7QoF54bth5BO"
      },
      "execution_count": 63,
      "outputs": []
    },
    {
      "cell_type": "markdown",
      "source": [
        "# Ensemble Models"
      ],
      "metadata": {
        "id": "uHGFezK6Vsmb"
      }
    },
    {
      "cell_type": "code",
      "source": [
        "from sklearn.model_selection import train_test_split\n",
        "from sklearn.ensemble import RandomForestRegressor, GradientBoostingRegressor, AdaBoostRegressor\n",
        "from xgboost import XGBRegressor\n",
        "from sklearn.metrics import mean_squared_error, mean_absolute_error, r2_score, explained_variance_score, mean_squared_log_error\n",
        "\n",
        "# Split the data into training and testing sets\n",
        "X = dfpd_scaled.drop('Price', axis=1)\n",
        "y = dfpd_scaled['Price']\n",
        "X_train, X_test, y_train, y_test = train_test_split(X, y, test_size=0.2, random_state=42)\n",
        "\n",
        "# Instantiate the models\n",
        "rf_model = RandomForestRegressor()\n",
        "gb_model = GradientBoostingRegressor()\n",
        "ada_model = AdaBoostRegressor()\n",
        "xgb_model = XGBRegressor()\n",
        "\n",
        "# Fit the models\n",
        "rf_model.fit(X_train, y_train)\n",
        "gb_model.fit(X_train, y_train)\n",
        "ada_model.fit(X_train, y_train)\n",
        "xgb_model.fit(X_train, y_train)\n",
        "\n",
        "# Predict on the test set\n",
        "rf_preds = rf_model.predict(X_test)\n",
        "gb_preds = gb_model.predict(X_test)\n",
        "ada_preds = ada_model.predict(X_test)\n",
        "xgb_preds = xgb_model.predict(X_test)\n",
        "\n",
        "# Evaluate the metrics\n",
        "rf_mse = mean_squared_error(y_test, rf_preds)\n",
        "rf_mae = mean_absolute_error(y_test, rf_preds)\n",
        "rf_r2 = r2_score(y_test, rf_preds)\n",
        "rf_ev = explained_variance_score(y_test, rf_preds)\n",
        "rf_msle = mean_squared_log_error(y_test, rf_preds)\n",
        "\n",
        "gb_mse = mean_squared_error(y_test, gb_preds)\n",
        "gb_mae = mean_absolute_error(y_test, gb_preds)\n",
        "gb_r2 = r2_score(y_test, gb_preds)\n",
        "gb_ev = explained_variance_score(y_test, gb_preds)\n",
        "gb_msle = mean_squared_log_error(y_test, gb_preds)\n",
        "\n",
        "ada_mse = mean_squared_error(y_test, ada_preds)\n",
        "ada_mae = mean_absolute_error(y_test, ada_preds)\n",
        "ada_r2 = r2_score(y_test, ada_preds)\n",
        "ada_ev = explained_variance_score(y_test, ada_preds)\n",
        "ada_msle = mean_squared_log_error(y_test, ada_preds)\n",
        "\n",
        "xgb_mse = mean_squared_error(y_test, xgb_preds)\n",
        "xgb_mae = mean_absolute_error(y_test, xgb_preds)\n",
        "xgb_r2 = r2_score(y_test, xgb_preds)\n",
        "xgb_ev = explained_variance_score(y_test, xgb_preds)\n",
        "xgb_msle = mean_squared_log_error(y_test, xgb_preds)\n",
        "\n",
        "# Print the results\n",
        "print(\"Random Forest:\")\n",
        "print(\"MSE:\", rf_mse)\n",
        "print(\"MAE:\", rf_mae)\n",
        "print(\"R-squared:\", rf_r2)\n",
        "print(\"Explained Variance Score:\", rf_ev)\n",
        "print(\"Mean Squared Logarithmic Error:\", rf_msle)\n",
        "\n",
        "print(\"\\nGradient Boosting:\")\n",
        "print(\"MSE:\", gb_mse)\n",
        "print(\"MAE:\", gb_mae)\n",
        "print(\"R-squared:\", gb_r2)\n",
        "print(\"Explained Variance Score:\", gb_ev)\n",
        "print(\"Mean Squared Logarithmic Error:\", gb_msle)\n",
        "\n",
        "print(\"\\nAdaBoost:\")\n",
        "print(\"MSE:\", ada_mse)\n",
        "print(\"MAE:\", ada_mae)\n",
        "print(\"R-squared:\", ada_r2)\n",
        "print(\"Explained Variance Score:\", ada_ev)\n",
        "print(\"Mean Squared Logarithmic Error:\", ada_msle)\n",
        "\n",
        "print(\"\\nXGBoost:\")\n",
        "print(\"MSE:\", xgb_mse)\n",
        "print(\"MAE:\", xgb_mae)\n",
        "print(\"R-squared:\", xgb_r2)\n",
        "print(\"Explained Variance Score:\", xgb_ev)\n",
        "print(\"Mean Squared Logarithmic Error:\", xgb_msle)\n",
        "\n",
        "# model = XGBRegressor(n_estimators=100, learning_rate=0.1, max_depth=5, random_state=42)\n",
        "# model.fit(X_train, y_train)\n",
        "# custom_values = [[16, 5000, 108, 16, 6.7, 2022, 6, 400, 120, 128, 2, 36, 7, 0, 0, 1, 1, 1,1,1,1 ]]  # Replace value1, value2, value3, ... with your own values\n",
        "# predictions = model.predict(custom_values)"
      ],
      "metadata": {
        "colab": {
          "base_uri": "https://localhost:8080/"
        },
        "id": "SkGIcn_PSHOh",
        "outputId": "453d94f3-5367-420c-ce72-c70a3c265ecf"
      },
      "execution_count": 57,
      "outputs": [
        {
          "output_type": "stream",
          "name": "stdout",
          "text": [
            "Random Forest:\n",
            "MSE: 0.003491467895322999\n",
            "MAE: 0.039080942861902376\n",
            "R-squared: 0.8281404362675588\n",
            "Explained Variance Score: 0.8300473004066797\n",
            "Mean Squared Logarithmic Error: 0.0020819584475125644\n",
            "\n",
            "Gradient Boosting:\n",
            "MSE: 0.0034955789163290864\n",
            "MAE: 0.038330268993294184\n",
            "R-squared: 0.8279380806114901\n",
            "Explained Variance Score: 0.832553285038452\n",
            "Mean Squared Logarithmic Error: 0.00213405333366306\n",
            "\n",
            "AdaBoost:\n",
            "MSE: 0.006781640279561292\n",
            "MAE: 0.07235904275089135\n",
            "R-squared: 0.6661891861022159\n",
            "Explained Variance Score: 0.8029071683864335\n",
            "Mean Squared Logarithmic Error: 0.00478441289085562\n",
            "\n",
            "XGBoost:\n",
            "MSE: 0.0031279225954126285\n",
            "MAE: 0.03644026317699346\n",
            "R-squared: 0.8460351265562106\n",
            "Explained Variance Score: 0.8482136407439587\n",
            "Mean Squared Logarithmic Error: 0.001843180456767777\n"
          ]
        }
      ]
    },
    {
      "cell_type": "markdown",
      "source": [
        "## K-Fold"
      ],
      "metadata": {
        "id": "dd7qUVNmi0AN"
      }
    },
    {
      "cell_type": "code",
      "source": [
        "from sklearn.model_selection import KFold\n",
        "from sklearn.metrics import mean_squared_error, mean_absolute_error, r2_score\n",
        "from sklearn.ensemble import RandomForestRegressor, GradientBoostingRegressor, AdaBoostRegressor\n",
        "from xgboost import XGBRegressor\n",
        "import pandas as pd\n",
        "\n",
        "# Define the models\n",
        "models = {\n",
        "    'Random Forest': RandomForestRegressor(),\n",
        "    'Gradient Boosting': GradientBoostingRegressor(),\n",
        "    'AdaBoost': AdaBoostRegressor(),\n",
        "    'XGBoost': XGBRegressor()\n",
        "}\n",
        "\n",
        "# Define the range of k values to try\n",
        "k_values = range(2, 11)  # Try k = 2 to 10\n",
        "\n",
        "# Initialize the metrics dictionary to store the results\n",
        "metrics = {\n",
        "    'Model': [],\n",
        "    'K': [],\n",
        "    'MSE': [],\n",
        "    'MAE': [],\n",
        "    'R-squared': []\n",
        "}\n",
        "\n",
        "for model_name, model in models.items():\n",
        "    for k in k_values:\n",
        "        mse_scores = []\n",
        "        mae_scores = []\n",
        "        r2_scores = []\n",
        "\n",
        "        # Perform k-fold cross-validation\n",
        "        kf = KFold(n_splits=k, shuffle=True, random_state=42)\n",
        "\n",
        "        for train_index, test_index in kf.split(X):\n",
        "            X_train, X_test = X.iloc[train_index], X.iloc[test_index]\n",
        "            y_train, y_test = y.iloc[train_index], y.iloc[test_index]\n",
        "\n",
        "            # Fit the model on the training data\n",
        "            model.fit(X_train, y_train)\n",
        "\n",
        "            # Make predictions on the test data\n",
        "            y_pred = model.predict(X_test)\n",
        "\n",
        "            # Calculate the evaluation metrics\n",
        "            mse = mean_squared_error(y_test, y_pred)\n",
        "            mae = mean_absolute_error(y_test, y_pred)\n",
        "            r2 = r2_score(y_test, y_pred)\n",
        "\n",
        "            mse_scores.append(mse)\n",
        "            mae_scores.append(mae)\n",
        "            r2_scores.append(r2)\n",
        "\n",
        "        # Calculate the average scores across all folds\n",
        "        avg_mse = np.mean(mse_scores)\n",
        "        avg_mae = np.mean(mae_scores)\n",
        "        avg_r2 = np.mean(r2_scores)\n",
        "\n",
        "        # Store the results in the metrics dictionary\n",
        "        metrics['Model'].append(model_name)\n",
        "        metrics['K'].append(k)\n",
        "        metrics['MSE'].append(avg_mse)\n",
        "        metrics['MAE'].append(avg_mae)\n",
        "        metrics['R-squared'].append(avg_r2)\n",
        "\n",
        "# Convert metrics dictionary to a DataFrame for easier analysis\n",
        "metrics_df = pd.DataFrame(metrics)\n",
        "\n",
        "# Find the best k for each model based on the lowest MSE\n",
        "best_k_values = metrics_df.groupby('Model')['MSE'].idxmin()\n",
        "best_k_metrics = metrics_df.loc[best_k_values]\n",
        "\n",
        "# Print the best k values and corresponding metrics for each model\n",
        "for _, row in best_k_metrics.iterrows():\n",
        "    print(row['Model'])\n",
        "    print(\"Best K:\", row['K'])\n",
        "    print(\"MSE:\", row['MSE'])\n",
        "    print(\"MAE:\", row['MAE'])\n",
        "    print(\"R-squared:\", row['R-squared'])\n",
        "    print()\n"
      ],
      "metadata": {
        "colab": {
          "base_uri": "https://localhost:8080/"
        },
        "id": "w1rAYiz9i1Il",
        "outputId": "0c14551c-8369-4b75-9356-8a376bc8bceb"
      },
      "execution_count": 58,
      "outputs": [
        {
          "output_type": "stream",
          "name": "stdout",
          "text": [
            "AdaBoost\n",
            "Best K: 2\n",
            "MSE: 0.007717634768396753\n",
            "MAE: 0.06873160800016431\n",
            "R-squared: 0.6699109366938623\n",
            "\n",
            "Gradient Boosting\n",
            "Best K: 8\n",
            "MSE: 0.0042662428210453116\n",
            "MAE: 0.039953224834367626\n",
            "R-squared: 0.8163529318491648\n",
            "\n",
            "Random Forest\n",
            "Best K: 4\n",
            "MSE: 0.004770252522783781\n",
            "MAE: 0.041980721577866004\n",
            "R-squared: 0.7945800749574755\n",
            "\n",
            "XGBoost\n",
            "Best K: 5\n",
            "MSE: 0.004502979283388829\n",
            "MAE: 0.04030927987240277\n",
            "R-squared: 0.8067579663482427\n",
            "\n"
          ]
        }
      ]
    },
    {
      "cell_type": "code",
      "source": [
        "df1 = pd.read_csv('/content/mobile-data-scaled.csv')"
      ],
      "metadata": {
        "id": "MQ8Qq2fV5vBq"
      },
      "execution_count": 64,
      "outputs": []
    },
    {
      "cell_type": "code",
      "source": [
        "df1.head()"
      ],
      "metadata": {
        "colab": {
          "base_uri": "https://localhost:8080/",
          "height": 264
        },
        "id": "9RapO8hg50uk",
        "outputId": "d5f61ef6-304d-4694-b71a-6983d4385440"
      },
      "execution_count": 72,
      "outputs": [
        {
          "output_type": "execute_result",
          "data": {
            "text/plain": [
              "        RAM   Battery  Rear Camera  Front Camera   Display  Launch Date  \\\n",
              "0  0.666667  0.636364     1.000000           0.4  0.755556     1.000000   \n",
              "1  0.500000  0.636364     1.000000           0.4  0.750000     0.909091   \n",
              "2  0.333333  0.636364     0.436893           0.2  0.761111     1.000000   \n",
              "3  0.666667  0.636364     0.436893           0.4  0.761111     1.000000   \n",
              "4  0.666667  0.636364     0.572816           0.4  0.741667     1.000000   \n",
              "\n",
              "   Fabrication  Pixel Density  Refresh Rate  Internal Memory  ...  Brand  \\\n",
              "0     0.111111       0.557789      0.714286         0.492063  ...   36.0   \n",
              "1     0.111111       0.562814      0.714286         0.492063  ...   52.0   \n",
              "2     0.444444       0.552764      0.357143         0.238095  ...   52.0   \n",
              "3     0.000000       0.706030      0.714286         0.492063  ...   36.0   \n",
              "4     0.000000       0.565327      0.714286         1.000000  ...   38.0   \n",
              "\n",
              "   Processor  Operating System  Graphics  Display Type  Quick Charging  \\\n",
              "0        4.0               0.0       0.0           1.0             1.0   \n",
              "1        3.0               0.0       3.0           0.0             1.0   \n",
              "2        7.0               0.0       3.0           1.0             1.0   \n",
              "3        4.0               0.0       0.0           0.0             1.0   \n",
              "4        4.0               0.0       0.0           0.0             1.0   \n",
              "\n",
              "   USB Type-C  Expandable Memory  Audio Jack  Fingerprint Sensor  \n",
              "0         1.0                1.0         1.0                 1.0  \n",
              "1         1.0                0.0         0.0                 1.0  \n",
              "2         1.0                1.0         1.0                 1.0  \n",
              "3         1.0                0.0         0.0                 1.0  \n",
              "4         1.0                0.0         1.0                 1.0  \n",
              "\n",
              "[5 rows x 22 columns]"
            ],
            "text/html": [
              "\n",
              "  <div id=\"df-631a7cd8-e6f4-4d80-85f7-d167f4b615e2\">\n",
              "    <div class=\"colab-df-container\">\n",
              "      <div>\n",
              "<style scoped>\n",
              "    .dataframe tbody tr th:only-of-type {\n",
              "        vertical-align: middle;\n",
              "    }\n",
              "\n",
              "    .dataframe tbody tr th {\n",
              "        vertical-align: top;\n",
              "    }\n",
              "\n",
              "    .dataframe thead th {\n",
              "        text-align: right;\n",
              "    }\n",
              "</style>\n",
              "<table border=\"1\" class=\"dataframe\">\n",
              "  <thead>\n",
              "    <tr style=\"text-align: right;\">\n",
              "      <th></th>\n",
              "      <th>RAM</th>\n",
              "      <th>Battery</th>\n",
              "      <th>Rear Camera</th>\n",
              "      <th>Front Camera</th>\n",
              "      <th>Display</th>\n",
              "      <th>Launch Date</th>\n",
              "      <th>Fabrication</th>\n",
              "      <th>Pixel Density</th>\n",
              "      <th>Refresh Rate</th>\n",
              "      <th>Internal Memory</th>\n",
              "      <th>...</th>\n",
              "      <th>Brand</th>\n",
              "      <th>Processor</th>\n",
              "      <th>Operating System</th>\n",
              "      <th>Graphics</th>\n",
              "      <th>Display Type</th>\n",
              "      <th>Quick Charging</th>\n",
              "      <th>USB Type-C</th>\n",
              "      <th>Expandable Memory</th>\n",
              "      <th>Audio Jack</th>\n",
              "      <th>Fingerprint Sensor</th>\n",
              "    </tr>\n",
              "  </thead>\n",
              "  <tbody>\n",
              "    <tr>\n",
              "      <th>0</th>\n",
              "      <td>0.666667</td>\n",
              "      <td>0.636364</td>\n",
              "      <td>1.000000</td>\n",
              "      <td>0.4</td>\n",
              "      <td>0.755556</td>\n",
              "      <td>1.000000</td>\n",
              "      <td>0.111111</td>\n",
              "      <td>0.557789</td>\n",
              "      <td>0.714286</td>\n",
              "      <td>0.492063</td>\n",
              "      <td>...</td>\n",
              "      <td>36.0</td>\n",
              "      <td>4.0</td>\n",
              "      <td>0.0</td>\n",
              "      <td>0.0</td>\n",
              "      <td>1.0</td>\n",
              "      <td>1.0</td>\n",
              "      <td>1.0</td>\n",
              "      <td>1.0</td>\n",
              "      <td>1.0</td>\n",
              "      <td>1.0</td>\n",
              "    </tr>\n",
              "    <tr>\n",
              "      <th>1</th>\n",
              "      <td>0.500000</td>\n",
              "      <td>0.636364</td>\n",
              "      <td>1.000000</td>\n",
              "      <td>0.4</td>\n",
              "      <td>0.750000</td>\n",
              "      <td>0.909091</td>\n",
              "      <td>0.111111</td>\n",
              "      <td>0.562814</td>\n",
              "      <td>0.714286</td>\n",
              "      <td>0.492063</td>\n",
              "      <td>...</td>\n",
              "      <td>52.0</td>\n",
              "      <td>3.0</td>\n",
              "      <td>0.0</td>\n",
              "      <td>3.0</td>\n",
              "      <td>0.0</td>\n",
              "      <td>1.0</td>\n",
              "      <td>1.0</td>\n",
              "      <td>0.0</td>\n",
              "      <td>0.0</td>\n",
              "      <td>1.0</td>\n",
              "    </tr>\n",
              "    <tr>\n",
              "      <th>2</th>\n",
              "      <td>0.333333</td>\n",
              "      <td>0.636364</td>\n",
              "      <td>0.436893</td>\n",
              "      <td>0.2</td>\n",
              "      <td>0.761111</td>\n",
              "      <td>1.000000</td>\n",
              "      <td>0.444444</td>\n",
              "      <td>0.552764</td>\n",
              "      <td>0.357143</td>\n",
              "      <td>0.238095</td>\n",
              "      <td>...</td>\n",
              "      <td>52.0</td>\n",
              "      <td>7.0</td>\n",
              "      <td>0.0</td>\n",
              "      <td>3.0</td>\n",
              "      <td>1.0</td>\n",
              "      <td>1.0</td>\n",
              "      <td>1.0</td>\n",
              "      <td>1.0</td>\n",
              "      <td>1.0</td>\n",
              "      <td>1.0</td>\n",
              "    </tr>\n",
              "    <tr>\n",
              "      <th>3</th>\n",
              "      <td>0.666667</td>\n",
              "      <td>0.636364</td>\n",
              "      <td>0.436893</td>\n",
              "      <td>0.4</td>\n",
              "      <td>0.761111</td>\n",
              "      <td>1.000000</td>\n",
              "      <td>0.000000</td>\n",
              "      <td>0.706030</td>\n",
              "      <td>0.714286</td>\n",
              "      <td>0.492063</td>\n",
              "      <td>...</td>\n",
              "      <td>36.0</td>\n",
              "      <td>4.0</td>\n",
              "      <td>0.0</td>\n",
              "      <td>0.0</td>\n",
              "      <td>0.0</td>\n",
              "      <td>1.0</td>\n",
              "      <td>1.0</td>\n",
              "      <td>0.0</td>\n",
              "      <td>0.0</td>\n",
              "      <td>1.0</td>\n",
              "    </tr>\n",
              "    <tr>\n",
              "      <th>4</th>\n",
              "      <td>0.666667</td>\n",
              "      <td>0.636364</td>\n",
              "      <td>0.572816</td>\n",
              "      <td>0.4</td>\n",
              "      <td>0.741667</td>\n",
              "      <td>1.000000</td>\n",
              "      <td>0.000000</td>\n",
              "      <td>0.565327</td>\n",
              "      <td>0.714286</td>\n",
              "      <td>1.000000</td>\n",
              "      <td>...</td>\n",
              "      <td>38.0</td>\n",
              "      <td>4.0</td>\n",
              "      <td>0.0</td>\n",
              "      <td>0.0</td>\n",
              "      <td>0.0</td>\n",
              "      <td>1.0</td>\n",
              "      <td>1.0</td>\n",
              "      <td>0.0</td>\n",
              "      <td>1.0</td>\n",
              "      <td>1.0</td>\n",
              "    </tr>\n",
              "  </tbody>\n",
              "</table>\n",
              "<p>5 rows × 22 columns</p>\n",
              "</div>\n",
              "      <button class=\"colab-df-convert\" onclick=\"convertToInteractive('df-631a7cd8-e6f4-4d80-85f7-d167f4b615e2')\"\n",
              "              title=\"Convert this dataframe to an interactive table.\"\n",
              "              style=\"display:none;\">\n",
              "        \n",
              "  <svg xmlns=\"http://www.w3.org/2000/svg\" height=\"24px\"viewBox=\"0 0 24 24\"\n",
              "       width=\"24px\">\n",
              "    <path d=\"M0 0h24v24H0V0z\" fill=\"none\"/>\n",
              "    <path d=\"M18.56 5.44l.94 2.06.94-2.06 2.06-.94-2.06-.94-.94-2.06-.94 2.06-2.06.94zm-11 1L8.5 8.5l.94-2.06 2.06-.94-2.06-.94L8.5 2.5l-.94 2.06-2.06.94zm10 10l.94 2.06.94-2.06 2.06-.94-2.06-.94-.94-2.06-.94 2.06-2.06.94z\"/><path d=\"M17.41 7.96l-1.37-1.37c-.4-.4-.92-.59-1.43-.59-.52 0-1.04.2-1.43.59L10.3 9.45l-7.72 7.72c-.78.78-.78 2.05 0 2.83L4 21.41c.39.39.9.59 1.41.59.51 0 1.02-.2 1.41-.59l7.78-7.78 2.81-2.81c.8-.78.8-2.07 0-2.86zM5.41 20L4 18.59l7.72-7.72 1.47 1.35L5.41 20z\"/>\n",
              "  </svg>\n",
              "      </button>\n",
              "      \n",
              "  <style>\n",
              "    .colab-df-container {\n",
              "      display:flex;\n",
              "      flex-wrap:wrap;\n",
              "      gap: 12px;\n",
              "    }\n",
              "\n",
              "    .colab-df-convert {\n",
              "      background-color: #E8F0FE;\n",
              "      border: none;\n",
              "      border-radius: 50%;\n",
              "      cursor: pointer;\n",
              "      display: none;\n",
              "      fill: #1967D2;\n",
              "      height: 32px;\n",
              "      padding: 0 0 0 0;\n",
              "      width: 32px;\n",
              "    }\n",
              "\n",
              "    .colab-df-convert:hover {\n",
              "      background-color: #E2EBFA;\n",
              "      box-shadow: 0px 1px 2px rgba(60, 64, 67, 0.3), 0px 1px 3px 1px rgba(60, 64, 67, 0.15);\n",
              "      fill: #174EA6;\n",
              "    }\n",
              "\n",
              "    [theme=dark] .colab-df-convert {\n",
              "      background-color: #3B4455;\n",
              "      fill: #D2E3FC;\n",
              "    }\n",
              "\n",
              "    [theme=dark] .colab-df-convert:hover {\n",
              "      background-color: #434B5C;\n",
              "      box-shadow: 0px 1px 3px 1px rgba(0, 0, 0, 0.15);\n",
              "      filter: drop-shadow(0px 1px 2px rgba(0, 0, 0, 0.3));\n",
              "      fill: #FFFFFF;\n",
              "    }\n",
              "  </style>\n",
              "\n",
              "      <script>\n",
              "        const buttonEl =\n",
              "          document.querySelector('#df-631a7cd8-e6f4-4d80-85f7-d167f4b615e2 button.colab-df-convert');\n",
              "        buttonEl.style.display =\n",
              "          google.colab.kernel.accessAllowed ? 'block' : 'none';\n",
              "\n",
              "        async function convertToInteractive(key) {\n",
              "          const element = document.querySelector('#df-631a7cd8-e6f4-4d80-85f7-d167f4b615e2');\n",
              "          const dataTable =\n",
              "            await google.colab.kernel.invokeFunction('convertToInteractive',\n",
              "                                                     [key], {});\n",
              "          if (!dataTable) return;\n",
              "\n",
              "          const docLinkHtml = 'Like what you see? Visit the ' +\n",
              "            '<a target=\"_blank\" href=https://colab.research.google.com/notebooks/data_table.ipynb>data table notebook</a>'\n",
              "            + ' to learn more about interactive tables.';\n",
              "          element.innerHTML = '';\n",
              "          dataTable['output_type'] = 'display_data';\n",
              "          await google.colab.output.renderOutput(dataTable, element);\n",
              "          const docLink = document.createElement('div');\n",
              "          docLink.innerHTML = docLinkHtml;\n",
              "          element.appendChild(docLink);\n",
              "        }\n",
              "      </script>\n",
              "    </div>\n",
              "  </div>\n",
              "  "
            ]
          },
          "metadata": {},
          "execution_count": 72
        },
        {
          "output_type": "stream",
          "name": "stdout",
          "text": [
            "Warning: Total number of columns (22) exceeds max_columns (20) limiting to first (20) columns.\n"
          ]
        }
      ]
    },
    {
      "cell_type": "code",
      "source": [
        "df1.columns"
      ],
      "metadata": {
        "colab": {
          "base_uri": "https://localhost:8080/"
        },
        "id": "LOQMBhoW8cyX",
        "outputId": "bc9dd308-fa0d-42a6-ed0d-1fa5627eac85"
      },
      "execution_count": 73,
      "outputs": [
        {
          "output_type": "execute_result",
          "data": {
            "text/plain": [
              "Index(['RAM', 'Battery', 'Rear Camera', 'Front Camera', 'Display',\n",
              "       'Launch Date', 'Fabrication', 'Pixel Density', 'Refresh Rate',\n",
              "       'Internal Memory', 'SIM Slot(s)', 'Price', 'Brand', 'Processor',\n",
              "       'Operating System', 'Graphics', 'Display Type', 'Quick Charging',\n",
              "       'USB Type-C', 'Expandable Memory', 'Audio Jack', 'Fingerprint Sensor'],\n",
              "      dtype='object')"
            ]
          },
          "metadata": {},
          "execution_count": 73
        }
      ]
    },
    {
      "cell_type": "code",
      "source": [
        "model = XGBRegressor(n_estimators=100, learning_rate=0.1, max_depth=5, random_state=42)\n",
        "X = dfpd_scaled.drop('Price', axis=1)\n",
        "y = dfpd_scaled['Price']\n",
        "X_train, X_test, y_train, y_test = train_test_split(X, y, test_size=0.2, random_state=42)\n",
        "X_train.columns = [col.strip() for col in X_train.columns]\n",
        "model.fit(X_train, y_train)\n",
        "own_values = np.array([[0.6666666666666666,\t0.6363636363636364,\t1.0,\t0.4,\t0.7555555555555555,\t1.0,\t0.1111111111111111,\t0.5577889447236182,\t0.7142857142857142,\t0.492063492063492,\t1.0,\t0.160919540229885,\t36.0,\t4.0,\t0.0,\t0.0,\t1.0,\t1.0,\t1.0,\t1.0,\t1.0,]])  # Replace value1, value2, value3, ... with your own values\n",
        "predictions = model.predict(own_values)\n",
        "print(\"Predictions:\", predictions)"
      ],
      "metadata": {
        "colab": {
          "base_uri": "https://localhost:8080/"
        },
        "id": "Jlx3PTqj52YH",
        "outputId": "779b6e85-825d-436d-f573-674dc016c941"
      },
      "execution_count": 75,
      "outputs": [
        {
          "output_type": "stream",
          "name": "stdout",
          "text": [
            "Predictions: [0.19571173]\n"
          ]
        }
      ]
    },
    {
      "cell_type": "code",
      "source": [],
      "metadata": {
        "id": "IwmQAXP-9_9h"
      },
      "execution_count": null,
      "outputs": []
    }
  ]
}